{
 "cells": [
  {
   "cell_type": "markdown",
   "id": "041cac8c",
   "metadata": {},
   "source": [
    "## chatbot Examples\n",
    "This is an example notebook for chatbot"
   ]
  },
  {
   "cell_type": "code",
   "execution_count": 17,
   "id": "99949a72",
   "metadata": {
    "collapsed": true
   },
   "outputs": [
    {
     "name": "stdout",
     "output_type": "stream",
     "text": [
      "Requirement already satisfied: llama-index==0.4.28 in /Users/a/Desktop/Artefact/ABI/chatbot/abi_chatbot/.venv/lib/python3.8/site-packages (from -r ../reqirement.txt (line 1)) (0.4.28)\n",
      "Requirement already satisfied: langchain==0.0.112 in /Users/a/Desktop/Artefact/ABI/chatbot/abi_chatbot/.venv/lib/python3.8/site-packages (from -r ../reqirement.txt (line 2)) (0.0.112)\n",
      "Requirement already satisfied: openai==0.27.2 in /Users/a/Desktop/Artefact/ABI/chatbot/abi_chatbot/.venv/lib/python3.8/site-packages (from -r ../reqirement.txt (line 3)) (0.27.2)\n",
      "Requirement already satisfied: wikipedia in /Users/a/Desktop/Artefact/ABI/chatbot/abi_chatbot/.venv/lib/python3.8/site-packages (from -r ../reqirement.txt (line 4)) (1.4.0)\n",
      "Requirement already satisfied: unstructured in /Users/a/Desktop/Artefact/ABI/chatbot/abi_chatbot/.venv/lib/python3.8/site-packages (from -r ../reqirement.txt (line 5)) (0.5.4)\n",
      "Requirement already satisfied: PyPDF2 in /Users/a/Desktop/Artefact/ABI/chatbot/abi_chatbot/.venv/lib/python3.8/site-packages (from -r ../reqirement.txt (line 6)) (3.0.1)\n",
      "Requirement already satisfied: tenacity<9.0.0,>=8.2.0 in /Users/a/Desktop/Artefact/ABI/chatbot/abi_chatbot/.venv/lib/python3.8/site-packages (from llama-index==0.4.28->-r ../reqirement.txt (line 1)) (8.2.2)\n",
      "Requirement already satisfied: pandas in /Users/a/Desktop/Artefact/ABI/chatbot/abi_chatbot/.venv/lib/python3.8/site-packages (from llama-index==0.4.28->-r ../reqirement.txt (line 1)) (1.5.3)\n",
      "Requirement already satisfied: transformers in /Users/a/Desktop/Artefact/ABI/chatbot/abi_chatbot/.venv/lib/python3.8/site-packages (from llama-index==0.4.28->-r ../reqirement.txt (line 1)) (4.26.1)\n",
      "Requirement already satisfied: numpy in /Users/a/Desktop/Artefact/ABI/chatbot/abi_chatbot/.venv/lib/python3.8/site-packages (from llama-index==0.4.28->-r ../reqirement.txt (line 1)) (1.23.5)\n",
      "Requirement already satisfied: dataclasses-json in /Users/a/Desktop/Artefact/ABI/chatbot/abi_chatbot/.venv/lib/python3.8/site-packages (from llama-index==0.4.28->-r ../reqirement.txt (line 1)) (0.5.7)\n",
      "Requirement already satisfied: SQLAlchemy<2,>=1 in /Users/a/Desktop/Artefact/ABI/chatbot/abi_chatbot/.venv/lib/python3.8/site-packages (from langchain==0.0.112->-r ../reqirement.txt (line 2)) (1.4.46)\n",
      "Requirement already satisfied: PyYAML<7,>=6 in /Users/a/Desktop/Artefact/ABI/chatbot/abi_chatbot/.venv/lib/python3.8/site-packages (from langchain==0.0.112->-r ../reqirement.txt (line 2)) (6.0)\n",
      "Requirement already satisfied: aiohttp<4.0.0,>=3.8.3 in /Users/a/Desktop/Artefact/ABI/chatbot/abi_chatbot/.venv/lib/python3.8/site-packages (from langchain==0.0.112->-r ../reqirement.txt (line 2)) (3.8.4)\n",
      "Requirement already satisfied: pydantic<2,>=1 in /Users/a/Desktop/Artefact/ABI/chatbot/abi_chatbot/.venv/lib/python3.8/site-packages (from langchain==0.0.112->-r ../reqirement.txt (line 2)) (1.10.6)\n",
      "Requirement already satisfied: requests<3,>=2 in /Users/a/Desktop/Artefact/ABI/chatbot/abi_chatbot/.venv/lib/python3.8/site-packages (from langchain==0.0.112->-r ../reqirement.txt (line 2)) (2.28.2)\n",
      "Requirement already satisfied: tqdm in /Users/a/Desktop/Artefact/ABI/chatbot/abi_chatbot/.venv/lib/python3.8/site-packages (from openai==0.27.2->-r ../reqirement.txt (line 3)) (4.65.0)\n",
      "Requirement already satisfied: beautifulsoup4 in /Users/a/Desktop/Artefact/ABI/chatbot/abi_chatbot/.venv/lib/python3.8/site-packages (from wikipedia->-r ../reqirement.txt (line 4)) (4.11.2)\n",
      "Requirement already satisfied: openpyxl in /Users/a/Desktop/Artefact/ABI/chatbot/abi_chatbot/.venv/lib/python3.8/site-packages (from unstructured->-r ../reqirement.txt (line 5)) (3.1.2)\n",
      "Requirement already satisfied: pillow in /Users/a/Desktop/Artefact/ABI/chatbot/abi_chatbot/.venv/lib/python3.8/site-packages (from unstructured->-r ../reqirement.txt (line 5)) (9.4.0)\n",
      "Requirement already satisfied: python-docx in /Users/a/Desktop/Artefact/ABI/chatbot/abi_chatbot/.venv/lib/python3.8/site-packages (from unstructured->-r ../reqirement.txt (line 5)) (0.8.11)\n",
      "Requirement already satisfied: argilla in /Users/a/Desktop/Artefact/ABI/chatbot/abi_chatbot/.venv/lib/python3.8/site-packages (from unstructured->-r ../reqirement.txt (line 5)) (1.4.0)\n",
      "Requirement already satisfied: pypandoc in /Users/a/Desktop/Artefact/ABI/chatbot/abi_chatbot/.venv/lib/python3.8/site-packages (from unstructured->-r ../reqirement.txt (line 5)) (1.11)\n",
      "Requirement already satisfied: nltk in /Users/a/Desktop/Artefact/ABI/chatbot/abi_chatbot/.venv/lib/python3.8/site-packages (from unstructured->-r ../reqirement.txt (line 5)) (3.8.1)\n",
      "Requirement already satisfied: python-pptx in /Users/a/Desktop/Artefact/ABI/chatbot/abi_chatbot/.venv/lib/python3.8/site-packages (from unstructured->-r ../reqirement.txt (line 5)) (0.6.21)\n",
      "Requirement already satisfied: markdown in /Users/a/Desktop/Artefact/ABI/chatbot/abi_chatbot/.venv/lib/python3.8/site-packages (from unstructured->-r ../reqirement.txt (line 5)) (3.4.1)\n",
      "Requirement already satisfied: lxml in /Users/a/Desktop/Artefact/ABI/chatbot/abi_chatbot/.venv/lib/python3.8/site-packages (from unstructured->-r ../reqirement.txt (line 5)) (4.9.2)\n",
      "Requirement already satisfied: python-magic in /Users/a/Desktop/Artefact/ABI/chatbot/abi_chatbot/.venv/lib/python3.8/site-packages (from unstructured->-r ../reqirement.txt (line 5)) (0.4.27)\n",
      "Requirement already satisfied: certifi>=2022.12.07 in /Users/a/Desktop/Artefact/ABI/chatbot/abi_chatbot/.venv/lib/python3.8/site-packages (from unstructured->-r ../reqirement.txt (line 5)) (2022.12.7)\n",
      "Requirement already satisfied: typing_extensions>=3.10.0.0 in /Users/a/Desktop/Artefact/ABI/chatbot/abi_chatbot/.venv/lib/python3.8/site-packages (from PyPDF2->-r ../reqirement.txt (line 6)) (4.5.0)\n",
      "Requirement already satisfied: aiosignal>=1.1.2 in /Users/a/Desktop/Artefact/ABI/chatbot/abi_chatbot/.venv/lib/python3.8/site-packages (from aiohttp<4.0.0,>=3.8.3->langchain==0.0.112->-r ../reqirement.txt (line 2)) (1.3.1)\n",
      "Requirement already satisfied: charset-normalizer<4.0,>=2.0 in /Users/a/Desktop/Artefact/ABI/chatbot/abi_chatbot/.venv/lib/python3.8/site-packages (from aiohttp<4.0.0,>=3.8.3->langchain==0.0.112->-r ../reqirement.txt (line 2)) (3.1.0)\n",
      "Requirement already satisfied: frozenlist>=1.1.1 in /Users/a/Desktop/Artefact/ABI/chatbot/abi_chatbot/.venv/lib/python3.8/site-packages (from aiohttp<4.0.0,>=3.8.3->langchain==0.0.112->-r ../reqirement.txt (line 2)) (1.3.3)\n",
      "Requirement already satisfied: multidict<7.0,>=4.5 in /Users/a/Desktop/Artefact/ABI/chatbot/abi_chatbot/.venv/lib/python3.8/site-packages (from aiohttp<4.0.0,>=3.8.3->langchain==0.0.112->-r ../reqirement.txt (line 2)) (6.0.4)\n",
      "Requirement already satisfied: yarl<2.0,>=1.0 in /Users/a/Desktop/Artefact/ABI/chatbot/abi_chatbot/.venv/lib/python3.8/site-packages (from aiohttp<4.0.0,>=3.8.3->langchain==0.0.112->-r ../reqirement.txt (line 2)) (1.8.2)\n",
      "Requirement already satisfied: async-timeout<5.0,>=4.0.0a3 in /Users/a/Desktop/Artefact/ABI/chatbot/abi_chatbot/.venv/lib/python3.8/site-packages (from aiohttp<4.0.0,>=3.8.3->langchain==0.0.112->-r ../reqirement.txt (line 2)) (4.0.2)\n",
      "Requirement already satisfied: attrs>=17.3.0 in /Users/a/Desktop/Artefact/ABI/chatbot/abi_chatbot/.venv/lib/python3.8/site-packages (from aiohttp<4.0.0,>=3.8.3->langchain==0.0.112->-r ../reqirement.txt (line 2)) (22.2.0)\n",
      "Requirement already satisfied: typing-inspect>=0.4.0 in /Users/a/Desktop/Artefact/ABI/chatbot/abi_chatbot/.venv/lib/python3.8/site-packages (from dataclasses-json->llama-index==0.4.28->-r ../reqirement.txt (line 1)) (0.8.0)\n",
      "Requirement already satisfied: marshmallow-enum<2.0.0,>=1.5.1 in /Users/a/Desktop/Artefact/ABI/chatbot/abi_chatbot/.venv/lib/python3.8/site-packages (from dataclasses-json->llama-index==0.4.28->-r ../reqirement.txt (line 1)) (1.5.1)\n",
      "Requirement already satisfied: marshmallow<4.0.0,>=3.3.0 in /Users/a/Desktop/Artefact/ABI/chatbot/abi_chatbot/.venv/lib/python3.8/site-packages (from dataclasses-json->llama-index==0.4.28->-r ../reqirement.txt (line 1)) (3.19.0)\n",
      "Requirement already satisfied: idna<4,>=2.5 in /Users/a/Desktop/Artefact/ABI/chatbot/abi_chatbot/.venv/lib/python3.8/site-packages (from requests<3,>=2->langchain==0.0.112->-r ../reqirement.txt (line 2)) (3.4)\n",
      "Requirement already satisfied: urllib3<1.27,>=1.21.1 in /Users/a/Desktop/Artefact/ABI/chatbot/abi_chatbot/.venv/lib/python3.8/site-packages (from requests<3,>=2->langchain==0.0.112->-r ../reqirement.txt (line 2)) (1.26.15)\n"
     ]
    },
    {
     "name": "stdout",
     "output_type": "stream",
     "text": [
      "Requirement already satisfied: greenlet!=0.4.17 in /Users/a/Desktop/Artefact/ABI/chatbot/abi_chatbot/.venv/lib/python3.8/site-packages (from SQLAlchemy<2,>=1->langchain==0.0.112->-r ../reqirement.txt (line 2)) (2.0.2)\n",
      "Requirement already satisfied: wrapt<1.15,>=1.13 in /Users/a/Desktop/Artefact/ABI/chatbot/abi_chatbot/.venv/lib/python3.8/site-packages (from argilla->unstructured->-r ../reqirement.txt (line 5)) (1.14.1)\n",
      "Requirement already satisfied: deprecated~=1.2.0 in /Users/a/Desktop/Artefact/ABI/chatbot/abi_chatbot/.venv/lib/python3.8/site-packages (from argilla->unstructured->-r ../reqirement.txt (line 5)) (1.2.13)\n",
      "Requirement already satisfied: rich<=13.0.1 in /Users/a/Desktop/Artefact/ABI/chatbot/abi_chatbot/.venv/lib/python3.8/site-packages (from argilla->unstructured->-r ../reqirement.txt (line 5)) (13.0.1)\n",
      "Requirement already satisfied: backoff in /Users/a/Desktop/Artefact/ABI/chatbot/abi_chatbot/.venv/lib/python3.8/site-packages (from argilla->unstructured->-r ../reqirement.txt (line 5)) (2.2.1)\n",
      "Requirement already satisfied: monotonic in /Users/a/Desktop/Artefact/ABI/chatbot/abi_chatbot/.venv/lib/python3.8/site-packages (from argilla->unstructured->-r ../reqirement.txt (line 5)) (1.6)\n",
      "Requirement already satisfied: packaging>=20.0 in /Users/a/Desktop/Artefact/ABI/chatbot/abi_chatbot/.venv/lib/python3.8/site-packages (from argilla->unstructured->-r ../reqirement.txt (line 5)) (23.0)\n",
      "Requirement already satisfied: httpx<0.24,>=0.15 in /Users/a/Desktop/Artefact/ABI/chatbot/abi_chatbot/.venv/lib/python3.8/site-packages (from argilla->unstructured->-r ../reqirement.txt (line 5)) (0.23.3)\n",
      "Requirement already satisfied: pytz>=2020.1 in /Users/a/Desktop/Artefact/ABI/chatbot/abi_chatbot/.venv/lib/python3.8/site-packages (from pandas->llama-index==0.4.28->-r ../reqirement.txt (line 1)) (2022.7.1)\n",
      "Requirement already satisfied: python-dateutil>=2.8.1 in /Users/a/Desktop/Artefact/ABI/chatbot/abi_chatbot/.venv/lib/python3.8/site-packages (from pandas->llama-index==0.4.28->-r ../reqirement.txt (line 1)) (2.8.2)\n",
      "Requirement already satisfied: soupsieve>1.2 in /Users/a/Desktop/Artefact/ABI/chatbot/abi_chatbot/.venv/lib/python3.8/site-packages (from beautifulsoup4->wikipedia->-r ../reqirement.txt (line 4)) (2.4)\n",
      "Requirement already satisfied: importlib-metadata>=4.4 in /Users/a/Desktop/Artefact/ABI/chatbot/abi_chatbot/.venv/lib/python3.8/site-packages (from markdown->unstructured->-r ../reqirement.txt (line 5)) (6.0.0)\n",
      "Requirement already satisfied: regex>=2021.8.3 in /Users/a/Desktop/Artefact/ABI/chatbot/abi_chatbot/.venv/lib/python3.8/site-packages (from nltk->unstructured->-r ../reqirement.txt (line 5)) (2022.10.31)\n",
      "Requirement already satisfied: joblib in /Users/a/Desktop/Artefact/ABI/chatbot/abi_chatbot/.venv/lib/python3.8/site-packages (from nltk->unstructured->-r ../reqirement.txt (line 5)) (1.2.0)\n",
      "Requirement already satisfied: click in /Users/a/Desktop/Artefact/ABI/chatbot/abi_chatbot/.venv/lib/python3.8/site-packages (from nltk->unstructured->-r ../reqirement.txt (line 5)) (8.1.3)\n",
      "Requirement already satisfied: et-xmlfile in /Users/a/Desktop/Artefact/ABI/chatbot/abi_chatbot/.venv/lib/python3.8/site-packages (from openpyxl->unstructured->-r ../reqirement.txt (line 5)) (1.1.0)\n",
      "Requirement already satisfied: XlsxWriter>=0.5.7 in /Users/a/Desktop/Artefact/ABI/chatbot/abi_chatbot/.venv/lib/python3.8/site-packages (from python-pptx->unstructured->-r ../reqirement.txt (line 5)) (3.0.9)\n",
      "Requirement already satisfied: huggingface-hub<1.0,>=0.11.0 in /Users/a/Desktop/Artefact/ABI/chatbot/abi_chatbot/.venv/lib/python3.8/site-packages (from transformers->llama-index==0.4.28->-r ../reqirement.txt (line 1)) (0.13.2)\n",
      "Requirement already satisfied: filelock in /Users/a/Desktop/Artefact/ABI/chatbot/abi_chatbot/.venv/lib/python3.8/site-packages (from transformers->llama-index==0.4.28->-r ../reqirement.txt (line 1)) (3.9.1)\n",
      "Requirement already satisfied: tokenizers!=0.11.3,<0.14,>=0.11.1 in /Users/a/Desktop/Artefact/ABI/chatbot/abi_chatbot/.venv/lib/python3.8/site-packages (from transformers->llama-index==0.4.28->-r ../reqirement.txt (line 1)) (0.13.2)\n",
      "Requirement already satisfied: sniffio in /Users/a/Desktop/Artefact/ABI/chatbot/abi_chatbot/.venv/lib/python3.8/site-packages (from httpx<0.24,>=0.15->argilla->unstructured->-r ../reqirement.txt (line 5)) (1.3.0)\n",
      "Requirement already satisfied: rfc3986[idna2008]<2,>=1.3 in /Users/a/Desktop/Artefact/ABI/chatbot/abi_chatbot/.venv/lib/python3.8/site-packages (from httpx<0.24,>=0.15->argilla->unstructured->-r ../reqirement.txt (line 5)) (1.5.0)\n",
      "Requirement already satisfied: httpcore<0.17.0,>=0.15.0 in /Users/a/Desktop/Artefact/ABI/chatbot/abi_chatbot/.venv/lib/python3.8/site-packages (from httpx<0.24,>=0.15->argilla->unstructured->-r ../reqirement.txt (line 5)) (0.16.3)\n",
      "Requirement already satisfied: zipp>=0.5 in /Users/a/Desktop/Artefact/ABI/chatbot/abi_chatbot/.venv/lib/python3.8/site-packages (from importlib-metadata>=4.4->markdown->unstructured->-r ../reqirement.txt (line 5)) (3.15.0)\n",
      "Requirement already satisfied: six>=1.5 in /Users/a/Desktop/Artefact/ABI/chatbot/abi_chatbot/.venv/lib/python3.8/site-packages (from python-dateutil>=2.8.1->pandas->llama-index==0.4.28->-r ../reqirement.txt (line 1)) (1.16.0)\n",
      "Requirement already satisfied: commonmark<0.10.0,>=0.9.0 in /Users/a/Desktop/Artefact/ABI/chatbot/abi_chatbot/.venv/lib/python3.8/site-packages (from rich<=13.0.1->argilla->unstructured->-r ../reqirement.txt (line 5)) (0.9.1)\n",
      "Requirement already satisfied: pygments<3.0.0,>=2.6.0 in /Users/a/Desktop/Artefact/ABI/chatbot/abi_chatbot/.venv/lib/python3.8/site-packages (from rich<=13.0.1->argilla->unstructured->-r ../reqirement.txt (line 5)) (2.14.0)\n",
      "Requirement already satisfied: mypy-extensions>=0.3.0 in /Users/a/Desktop/Artefact/ABI/chatbot/abi_chatbot/.venv/lib/python3.8/site-packages (from typing-inspect>=0.4.0->dataclasses-json->llama-index==0.4.28->-r ../reqirement.txt (line 1)) (1.0.0)\n",
      "Requirement already satisfied: h11<0.15,>=0.13 in /Users/a/Desktop/Artefact/ABI/chatbot/abi_chatbot/.venv/lib/python3.8/site-packages (from httpcore<0.17.0,>=0.15.0->httpx<0.24,>=0.15->argilla->unstructured->-r ../reqirement.txt (line 5)) (0.14.0)\n",
      "Requirement already satisfied: anyio<5.0,>=3.0 in /Users/a/Desktop/Artefact/ABI/chatbot/abi_chatbot/.venv/lib/python3.8/site-packages (from httpcore<0.17.0,>=0.15.0->httpx<0.24,>=0.15->argilla->unstructured->-r ../reqirement.txt (line 5)) (3.6.2)\n"
     ]
    }
   ],
   "source": [
    "!pip install -r ../reqirement.txt"
   ]
  },
  {
   "cell_type": "code",
   "execution_count": 208,
   "id": "77e8a90d",
   "metadata": {},
   "outputs": [],
   "source": [
    "import os\n",
    "import sys\n",
    "from importlib import reload\n",
    "import json\n",
    "\n",
    "config = json.load(open('../../config.json'))\n",
    "os.environ[\"OPENAI_API_KEY\"] = config['openai_api_key']\n",
    "\n",
    "from specialized_chatbot.llamaindex_langchain_utils import DEFAULT_TEXT_QA_PROMPT"
   ]
  },
  {
   "cell_type": "code",
   "execution_count": 209,
   "id": "a45ba277",
   "metadata": {},
   "outputs": [
    {
     "data": {
      "text/plain": [
       "<module 'specialized_chatbot.chatbot' from '/Users/a/Desktop/Artefact/ABI/chatbot/abi_chatbot/specialized_chatbot/chatbot.py'>"
      ]
     },
     "execution_count": 209,
     "metadata": {},
     "output_type": "execute_result"
    }
   ],
   "source": [
    "from specialized_chatbot import chatbot, llamaindex_langchain_utils\n",
    "reload(llamaindex_langchain_utils)\n",
    "reload(chatbot)"
   ]
  },
  {
   "cell_type": "markdown",
   "id": "0defabcf",
   "metadata": {},
   "source": [
    "### Load data \n",
    "Load data from a directory, data in that directory can be txt, pdf, doc, etc"
   ]
  },
  {
   "cell_type": "code",
   "execution_count": 210,
   "id": "08f88f4e",
   "metadata": {},
   "outputs": [
    {
     "ename": "ImportError",
     "evalue": "docx2txt is required to read Microsoft Word files: `pip install docx2txt`",
     "output_type": "error",
     "traceback": [
      "\u001b[0;31m---------------------------------------------------------------------------\u001b[0m",
      "\u001b[0;31mModuleNotFoundError\u001b[0m                       Traceback (most recent call last)",
      "File \u001b[0;32m~/Desktop/Artefact/ABI/chatbot/abi_chatbot/.venv/lib/python3.8/site-packages/llama_index/readers/file/docs_parser.py:55\u001b[0m, in \u001b[0;36mDocxParser.parse_file\u001b[0;34m(self, file, errors)\u001b[0m\n\u001b[1;32m     54\u001b[0m \u001b[38;5;28;01mtry\u001b[39;00m:\n\u001b[0;32m---> 55\u001b[0m     \u001b[38;5;28;01mimport\u001b[39;00m \u001b[38;5;21;01mdocx2txt\u001b[39;00m\n\u001b[1;32m     56\u001b[0m \u001b[38;5;28;01mexcept\u001b[39;00m \u001b[38;5;167;01mImportError\u001b[39;00m:\n",
      "\u001b[0;31mModuleNotFoundError\u001b[0m: No module named 'docx2txt'",
      "\nDuring handling of the above exception, another exception occurred:\n",
      "\u001b[0;31mImportError\u001b[0m                               Traceback (most recent call last)",
      "Cell \u001b[0;32mIn[210], line 1\u001b[0m\n\u001b[0;32m----> 1\u001b[0m bot \u001b[38;5;241m=\u001b[39m \u001b[43mchatbot\u001b[49m\u001b[38;5;241;43m.\u001b[39;49m\u001b[43mChatbot\u001b[49m\u001b[43m(\u001b[49m\u001b[38;5;124;43m'\u001b[39;49m\u001b[38;5;124;43m../../data\u001b[39;49m\u001b[38;5;124;43m'\u001b[39;49m\u001b[43m)\u001b[49m\n",
      "File \u001b[0;32m~/Desktop/Artefact/ABI/chatbot/abi_chatbot/specialized_chatbot/chatbot.py:100\u001b[0m, in \u001b[0;36mChatbot.__init__\u001b[0;34m(self, document_directory, documents, index_struct, text_qa_template, llm_predictor, embed_model, simple_vector_store_data_dict, **kwargs)\u001b[0m\n\u001b[1;32m     98\u001b[0m \u001b[38;5;28mself\u001b[39m\u001b[38;5;241m.\u001b[39mdocument_directory \u001b[38;5;241m=\u001b[39m document_directory\n\u001b[1;32m     99\u001b[0m \u001b[38;5;28;01mif\u001b[39;00m \u001b[38;5;28mself\u001b[39m\u001b[38;5;241m.\u001b[39mdocument_directory:\n\u001b[0;32m--> 100\u001b[0m     documents \u001b[38;5;241m=\u001b[39m \u001b[43mSimpleDirectoryReader\u001b[49m\u001b[43m(\u001b[49m\u001b[38;5;28;43mself\u001b[39;49m\u001b[38;5;241;43m.\u001b[39;49m\u001b[43mdocument_directory\u001b[49m\u001b[43m)\u001b[49m\u001b[38;5;241;43m.\u001b[39;49m\u001b[43mload_data\u001b[49m\u001b[43m(\u001b[49m\u001b[43m)\u001b[49m\n\u001b[1;32m    102\u001b[0m \u001b[38;5;66;03m#text_qa_template = DEFAULT_TEXT_QA_PROMPT\u001b[39;00m\n\u001b[1;32m    103\u001b[0m llm_predictor \u001b[38;5;241m=\u001b[39m LLM_PREDICTOR\n",
      "File \u001b[0;32m~/Desktop/Artefact/ABI/chatbot/abi_chatbot/.venv/lib/python3.8/site-packages/llama_index/readers/file/base.py:153\u001b[0m, in \u001b[0;36mSimpleDirectoryReader.load_data\u001b[0;34m(self, concatenate)\u001b[0m\n\u001b[1;32m    151\u001b[0m     \u001b[38;5;28;01mif\u001b[39;00m \u001b[38;5;129;01mnot\u001b[39;00m parser\u001b[38;5;241m.\u001b[39mparser_config_set:\n\u001b[1;32m    152\u001b[0m         parser\u001b[38;5;241m.\u001b[39minit_parser()\n\u001b[0;32m--> 153\u001b[0m     data \u001b[38;5;241m=\u001b[39m \u001b[43mparser\u001b[49m\u001b[38;5;241;43m.\u001b[39;49m\u001b[43mparse_file\u001b[49m\u001b[43m(\u001b[49m\u001b[43minput_file\u001b[49m\u001b[43m,\u001b[49m\u001b[43m \u001b[49m\u001b[43merrors\u001b[49m\u001b[38;5;241;43m=\u001b[39;49m\u001b[38;5;28;43mself\u001b[39;49m\u001b[38;5;241;43m.\u001b[39;49m\u001b[43merrors\u001b[49m\u001b[43m)\u001b[49m\n\u001b[1;32m    154\u001b[0m \u001b[38;5;28;01melse\u001b[39;00m:\n\u001b[1;32m    155\u001b[0m     \u001b[38;5;66;03m# do standard read\u001b[39;00m\n\u001b[1;32m    156\u001b[0m     \u001b[38;5;28;01mwith\u001b[39;00m \u001b[38;5;28mopen\u001b[39m(input_file, \u001b[38;5;124m\"\u001b[39m\u001b[38;5;124mr\u001b[39m\u001b[38;5;124m\"\u001b[39m, errors\u001b[38;5;241m=\u001b[39m\u001b[38;5;28mself\u001b[39m\u001b[38;5;241m.\u001b[39merrors, encoding\u001b[38;5;241m=\u001b[39m\u001b[38;5;124m\"\u001b[39m\u001b[38;5;124mutf8\u001b[39m\u001b[38;5;124m\"\u001b[39m) \u001b[38;5;28;01mas\u001b[39;00m f:\n",
      "File \u001b[0;32m~/Desktop/Artefact/ABI/chatbot/abi_chatbot/.venv/lib/python3.8/site-packages/llama_index/readers/file/docs_parser.py:57\u001b[0m, in \u001b[0;36mDocxParser.parse_file\u001b[0;34m(self, file, errors)\u001b[0m\n\u001b[1;32m     55\u001b[0m     \u001b[38;5;28;01mimport\u001b[39;00m \u001b[38;5;21;01mdocx2txt\u001b[39;00m\n\u001b[1;32m     56\u001b[0m \u001b[38;5;28;01mexcept\u001b[39;00m \u001b[38;5;167;01mImportError\u001b[39;00m:\n\u001b[0;32m---> 57\u001b[0m     \u001b[38;5;28;01mraise\u001b[39;00m \u001b[38;5;167;01mImportError\u001b[39;00m(\n\u001b[1;32m     58\u001b[0m         \u001b[38;5;124m\"\u001b[39m\u001b[38;5;124mdocx2txt is required to read Microsoft Word files: \u001b[39m\u001b[38;5;124m\"\u001b[39m\n\u001b[1;32m     59\u001b[0m         \u001b[38;5;124m\"\u001b[39m\u001b[38;5;124m`pip install docx2txt`\u001b[39m\u001b[38;5;124m\"\u001b[39m\n\u001b[1;32m     60\u001b[0m     )\n\u001b[1;32m     62\u001b[0m text \u001b[38;5;241m=\u001b[39m docx2txt\u001b[38;5;241m.\u001b[39mprocess(file)\n\u001b[1;32m     64\u001b[0m \u001b[38;5;28;01mreturn\u001b[39;00m text\n",
      "\u001b[0;31mImportError\u001b[0m: docx2txt is required to read Microsoft Word files: `pip install docx2txt`"
     ]
    }
   ],
   "source": [
    "bot = chatbot.Chatbot('../../data')"
   ]
  },
  {
   "cell_type": "code",
   "execution_count": 207,
   "id": "0e68b3a5",
   "metadata": {},
   "outputs": [
    {
     "data": {
      "text/plain": [
       "DocumentStore(docs={'e0db8bc4-d709-4817-8b79-70854676a4a3': SimpleIndexDict(text=None, doc_id='e0db8bc4-d709-4817-8b79-70854676a4a3', embedding=None, doc_hash='08a14830cef184731c6b6a0bdd67fa351d923556941aa99027b276bd839a07a4', extra_info=None, nodes_dict={7478491351535679696: Node(text='2022\\n\\n\\n\\n\\n\\n\\n\\n\\n\\n\\n\\n\\n\\n\\n\\n\\n\\n\\n\\n\\n\\n\\n\\n\\n\\n\\n\\n\\n\\n\\n\\n\\n\\n\\n\\n草莓艾尔\\nSTRAWBERRY ALE草莓暴击\\nSTRAWBERRY BLASTSTRAWBERRY BLAST\\n拳击猫草莓暴击\\n在这样一个多样性的世界里 ，\\n女孩可以打拳击，喝精酿 ，\\n男孩当然他可以穿粉红，吃甜食 ，\\n就像当甜美的草莓遇到清爽的艾尔 ，\\n又甜又酷 。\\n让我们一起打破刻板印象 ，\\n给偏见一通暴击 ！酒精度: ≥4.7% VOL\\n苦度: 10 IBU\\n保质期：\\n听装9个月\\n瓶装9个月\\n桶啤6个月\\n渴望速度和力量带来的痛快？来领教\\n右勾拳。德式淡色拉格 ，酒体轻盈呈\\n淡金色，入口清新干爽，喝下无比畅\\n快。佐餐百搭 ，解渴力道十足。右勾\\n拳，浓郁麦香袭来的感觉 。德式淡色拉格\\nHELLES\\n酒精度: ≥4.5% VOL\\n苦度: 15 IBU\\n保质期：桶啤 6个月RIGHT HOOK\\n拳击猫右勾拳\\n右勾拳\\nRIGHT HOOK\\n\\n芒翻了\\nFLIPPING MANGO\\n酒精度: ≥5.5% VOL\\n苦度: 40 IBU\\n保质期：\\n听装9个月\\n桶啤6个月\\nFLIPPING MANGO拳击猫芒翻了\\n芒果浑浊 IPA\\nMANGO HAZY IPA\\n各位水果忍者们请注意 ，\\n前方一大波水果正在靠近 ！\\n酿造过程中添加 精选芒果汁 ，\\n带来浓郁的热带水果风味 。\\n绵密啤酒口感外加果汁般的外表 ，\\n快来划走它 ！\\n拳击猫客制化产品开发介绍\\n联\\n名\\n包\\n装瓶装：标签起订量 10万套\\n听装：易拉罐起订量 10万只酒液：\\n单次100 HL3个月现有产品\\n选择 √√\\n外包装 瓶/罐 酒液 示例 项目周期 包材要求 酒液要求\\n礼\\n盒\\n定\\n制包材起订量 ≥2000箱拳击猫\\n现有产品中选择2个月 √现有产品\\n选择\\n桶\\n啤\\n联\\n名无酒液：单次 50 HL\\n配方：双方沟通决定3个月共同\\n开发\\n\\n兰比克酸果啤仅产于比利时布鲁塞尔，混合当地独有微生物自然发\\n酵，遵循古法工艺酿造而成。比利芙漫野樱桃，添加纯天然樱桃与\\n浓缩果汁，经橡木桶存放12个月二次发酵自然熟化。历经时光，沉\\n淀出柔顺沉稳的独特风味。自1913年起，比利芙酿造生产兰比克啤\\n酒，并推动其走向世界。这份古法浪漫因而进入大众视野，成为最\\n受欢迎的三大啤酒种类之一。\\n种类\\n产地苦度 酒精度\\n比利时布鲁塞尔12% 兰比克酸果啤 5.1%VOL\\n规格｜保质期\\n250ml 瓶装｜12个月风味\\n柔和的樱桃果香打底\\n杏仁糖的甜与红莓的酸交织混合\\n以丰富的滋味犒赏味蕾比利芙漫野樱桃啤酒\\n\\n\\n\\n\\n\\n\\n\\n素材都在\\nhttps://pan.baidu.com/s/13yEeIA71HQ7uy1Nhw52jQ\\nQ?pwd=sX76 提取码：sX76\\n\\n\\n素材都在\\nhttps://pan.baidu.com/s/13yEeIA71HQ7uy1Nhw52jQ\\nQ?pwd=sX76 提取码：sX76\\n\\n素材都在\\nhttps://pan.baidu.com/s/13yEeIA71HQ7uy1Nhw52jQ\\nQ?pwd=sX76 提取码：sX76\\n\\n\\n\\n\\n\\n\\n\\n素材都在\\nhttps://pan.baidu.com/s/13yEeIA71HQ7uy1Nhw52jQ\\nQ?pwd=sX76 提取码：sX76\\n\\n素材都在\\nhttps://pan.baidu.com/s/13yEeIA71HQ7uy1Nhw52jQ\\nQ?pwd=sX76 提取码：sX76\\n\\n\\n\\n\\n\\n', doc_id='3849d5e2-78a9-4234-a793-1d0d63170737', embedding=None, doc_hash='15db9204aeaeae0dd4e9454bc3b000400e9bdd2f9414470590534189ee9a7106', extra_info=None, index=0, child_indices=set(), ref_doc_id='bb2b07b4-8deb-4304-b641-96924ef7bcd8', node_info={'start': 0, 'end': 1445}, image=None)}, id_map={'0a9fea96-c6f9-4f17-bf66-00e54e3d294b': 7478491351535679696}, embeddings_dict={'0a9fea96-c6f9-4f17-bf66-00e54e3d294b': [-0.010086039081215858, -0.022935189306735992, -0.012216221541166306, -0.019178446382284164, 0.005107673350721598, 0.0015423404984176159, -0.02181905508041382, 0.012093719094991684, -0.008296141400933266, -0.032558441162109375, -0.016864510253071785, 0.008500312454998493, -0.02814835123717785, -0.004859265871345997, -0.0022731018252670765, 0.0090787960216403, 0.024840783327817917, -0.015448926016688347, 0.001197802135720849, 0.018470654264092445, 0.0015840253327041864, 0.0037669518496841192, 0.0032258990686386824, 0.010889111086726189, -0.0005916700465604663, 0.009153658524155617, 0.023983266204595566, -0.0020502153784036636, 0.008541146293282509, 0.02030819095671177, 0.02116570994257927, 0.007765297312289476, -0.014278346672654152, 0.017041457816958427, 0.0004700182471424341, -0.02825724333524704, -0.005934565328061581, -0.015802821144461632, 0.01958678849041462, 0.004447521176189184, 0.015380868688225746, 0.002815855899825692, 0.00943269208073616, 0.006179570220410824, -0.011991633102297783, 0.022948801517486572, -0.012420391663908958, -0.009303384460508823, 0.0078605767339468, 0.008650037460029125, 0.016646727919578552, 0.015380868688225746, -0.006941807921975851, 0.022948801517486572, -0.0037839659489691257, -0.012168581597507, -0.01136550959199667, 0.007635988760739565, 0.01891982927918434, 0.004447521176189184, -0.003453889861702919, 0.020716533064842224, -0.04007192701101303, -0.010868693701922894, -0.02206405997276306, -6.970519461901858e-05, -0.022322677075862885, -0.01960039883852005, 0.012638173997402191, 0.027086663991212845, 0.027821678668260574, 0.023724650964140892, 0.024092158302664757, -0.009092407301068306, 0.02205044962465763, 0.011644543148577213, -0.041950300335884094, -0.02662387676537037, -0.015054196119308472, -0.0010200034594163299, 0.03547127917408943, 0.0187428817152977, -0.0014343000948429108, 0.047449301928281784, 0.016959790140390396, 0.023942431434988976, -0.02430994063615799, 0.009616445749998093, -0.016170330345630646, -0.006914585363119841, -0.012699425220489502, -0.006778471637517214, 0.02130182273685932, 0.010154095478355885, -0.020525973290205002, 0.013509303331375122, -0.008724899962544441, 0.016129495576024055, -0.0034317714162170887, -0.027740009129047394, 0.015408092178404331, -0.013155407272279263, 0.0012054585386067629, -0.02040347084403038, -0.05398276820778847, -0.00824169535189867, 0.001195250079035759, -0.001031062682159245, 0.01534003484994173, -0.002116570947691798, -0.03560739383101463, 0.016006993129849434, 0.013053321279585361, -0.02991783246397972, -0.00156956329010427, 0.018484266474843025, 0.008520728908479214, 0.013835976831614971, 0.0005729543627239764, -0.013148601166903973, -0.002723979065194726, 0.014387237839400768, 0.02206405997276306, -0.008057941682636738, 0.00762237748131156, 0.007595154922455549, -0.0040017482824623585, -0.014523351565003395, -0.011692183092236519, -0.021587662398815155, 0.041923075914382935, -0.003033638233318925, 0.015163086354732513, 0.0032769418321549892, -0.0030999938026070595, 0.03530794009566307, -0.02744055911898613, -0.017599524930119514, 0.005413929931819439, -0.0013841080944985151, 0.023751873522996902, 0.026106642559170723, -0.00783335417509079, -0.014046953059732914, -0.005893731024116278, 0.0029162399005144835, 0.026964159682393074, 0.025358017534017563, -0.021043207496404648, 9.83635472948663e-05, 0.011624125763773918, -0.03457292541861534, 0.027753621339797974, 0.004433909896761179, 0.01450974028557539, 0.02441883087158203, -0.014196678064763546, 0.02833891101181507, -0.024949675425887108, 0.016605893149971962, -0.0028771073557436466, -0.00147258210927248, 0.0074930693954229355, -0.015421703457832336, 0.01450974028557539, 0.0390646867454052, -0.003140827873721719, 0.0013807052746415138, 0.004811625927686691, 0.0018936843844130635, 0.010548826307058334, 0.017545079812407494, -0.023370753973722458, 0.02266296185553074, 0.008336975239217281, 0.03767632320523262, 0.009881868027150631, 0.014632242731750011, -0.008309752680361271, -0.013060127384960651, -0.008765733800828457, -0.01418306678533554, 0.026038585230708122, 0.03462737053632736, -0.01727285236120224, -0.0024109170772135258, 0.01566670835018158, -0.005550043657422066, -0.017422577366232872, -0.013175823725759983, 0.012753871269524097, 0.02741333656013012, -0.025426072999835014, -0.005172327626496553, -0.6010789275169373, -0.011086476035416126, 0.012284277938306332, 0.00566233741119504, 0.00031795352697372437, -0.0005755065358243883, 0.011025224812328815, 0.020879870280623436, -0.006952016614377499, -0.032476771622896194, -0.0052676075138151646, 0.016265608370304108, 0.011208978481590748, -0.007601960562169552, -0.02833891101181507, -0.022227397188544273, 0.020975150167942047, -0.003125515067949891, -0.002931552706286311, 0.004947739653289318, -0.013434440828859806, 0.029373375698924065, -0.014781967736780643, 0.009031156077980995, 0.0036682691425085068, -0.007152784615755081, 0.01411500945687294, -0.02128821238875389, -0.019341783598065376, 0.004920517094433308, -0.01732729747891426, 0.017095904797315598, 0.014659465290606022, 0.015421703457832336, 0.06370129436254501, -0.005100867711007595, 0.0008630470838397741, 0.027617506682872772, 0.03547127917408943, 0.008309752680361271, 0.007329732645303011, -0.024881618097424507, 0.006172764580696821, -0.018457042053341866, -0.01210733037441969, 0.0036784778349101543, 0.027658341452479362, -0.0033330887090414762, -0.00624422449618578, 0.0021369880996644497, 0.011467594653367996, -0.00724125886335969, 0.0165106151252985, -0.006792082916945219, 0.0033909371122717857, -0.013032904826104641, 0.03552572429180145, -0.020825425162911415, -0.0097661716863513, 0.009929507970809937, 0.002419424243271351, 0.003695491934195161, -0.010814248584210873, -0.01817120425403118, -0.016850898042321205, 0.005369692575186491, -0.042140860110521317, 0.00744542945176363, 0.03816633298993111, 0.011943993158638477, 0.0007256571552716196, 0.0007881844649091363, -0.007166395895183086, -0.02891058847308159, 0.005352678708732128, 0.015367257408797741, 0.003203780623152852, 0.007152784615755081, 0.005206356290727854, 0.0003402847214601934, 0.0073025100864470005, -0.0034743070136755705, 0.0012794705107808113, -0.008901848457753658, 0.03239510580897331, -0.005253995768725872, -0.005849494133144617, 0.0028975242748856544, 0.002501092618331313, -0.005202953238040209, 0.012753871269524097, 0.03051673248410225, 0.004794611595571041, -0.005577266216278076, -0.01960039883852005, 0.012753871269524097, -0.03345679119229317, -0.00869767740368843, 0.009099213406443596, -0.020675698295235634, -0.013366383500397205, -0.004682317841798067, -0.0016052931314334273, 0.011705794371664524, 0.010630493983626366, 0.03372902050614357, -0.0343279205262661, -0.0019209071760997176, 0.02983616292476654, -0.026828046888113022, -0.018225649371743202, -0.007118755951523781, -0.013441246002912521, -0.011460789479315281, -0.0007575588533654809, -0.026351647451519966, 0.017095904797315598, 0.01875649392604828, 0.01882454939186573, 0.008765733800828457, 0.019940683618187904, 0.01568031869828701, 0.01255650632083416, -0.008738511241972446, -0.026242757216095924, 0.02030819095671177, -0.0022628933656960726, 0.014142232947051525, -0.014251124113798141, -0.01568031869828701, 0.02428271621465683, 0.033021230250597, 0.020104020833969116, -0.007023476529866457, 0.008534340187907219, 0.010725773870944977, 0.00943269208073616, -0.017436187714338303, -0.0008728302782401443, -0.0157211534678936, -0.017558692023158073, 0.00014855554036330432, 0.003943899646401405, -0.005744006019085646, -0.019940683618187904, -0.017926199361681938, -0.012359140440821648, -0.010807442478835583, 0.002228864934295416, -0.006451798137277365, -0.004896697122603655, 0.006251030135899782, -0.005335664376616478, 0.009902285411953926, -0.017436187714338303, 0.006526660639792681, -0.009929507970809937, -0.03628796339035034, -0.004542801063507795, -0.0032395103480666876, 0.017599524930119514, 0.01648339070379734, 0.0014700299361720681, -0.03065284714102745, -0.006945210974663496, -0.012277472764253616, 0.009875061921775341, 0.007125562056899071, -0.02425549365580082, -0.028093906119465828, -0.01736813224852085, 0.0034572926815599203, -0.0102289579808712, 0.032422326505184174, -0.015231143683195114, 0.02579358033835888, -0.03299400582909584, 0.00048065214650705457, -0.014169455505907536, -0.012624562717974186, 0.0047503747045993805, 0.012767482548952103, -0.014142232947051525, 0.004277378786355257, 0.009664085693657398, 0.036587413400411606, 0.0021012581419199705, 0.022499624639749527, -0.02441883087158203, 0.01730007492005825, 0.00908560212701559, 0.03220454603433609, -0.0010735982796177268, 0.008581980131566525, -0.019886238500475883, 0.011964410543441772, 0.014999750070273876, -0.008547952398657799, -0.015326423570513725, 0.019300948828458786, 0.026256367564201355, 0.0327490009367466, -0.006866945419460535, -0.013992507010698318, 0.014046953059732914, -0.02283990941941738, -0.0010131977032870054, -0.002608282258734107, 0.04401922971010208, 0.010126872919499874, 0.002285011811181903, -0.026065809652209282, -0.041868630796670914, -0.0003777160309255123, -0.006210195831954479, -0.003933691419661045, -0.005791645962744951, 0.027848901227116585, 0.009514360688626766, 0.006182973273098469, -0.01789897494018078, -0.010079232975840569, 0.004985170904546976, 0.013339160941541195, -0.014781967736780643, 0.02362937107682228, 0.005403721239417791, 0.01950511895120144, 0.01133148092776537, -0.015135863795876503, -0.009657280519604683, 0.010684940032660961, 0.030026722699403763, 0.00011016717326128855, -0.009902285411953926, -0.005165521986782551, 0.04616982862353325, -0.020743755623698235, 0.04001748189330101, 0.0242010485380888, -0.012066495604813099, 0.027821678668260574, 0.028665583580732346, 0.013951673172414303, 0.017041457816958427, 0.005492195021361113, 0.002834571758285165, 0.0407797209918499, 0.0021557037252932787, 0.008554757572710514, -0.03149675205349922, 0.023670203983783722, -0.04491758346557617, -0.00322419754229486, 0.0023973057977855206, -0.03522627428174019, -0.0019532341975718737, 0.019232891499996185, 0.007595154922455549, 0.015421703457832336, -0.003062562318518758, 0.02282629907131195, 0.013257492333650589, -0.0032378090545535088, -0.011351898312568665, 0.005196147598326206, -0.024704670533537865, -0.0031986762769520283, 0.0033977427519857883, 0.0061319307424128056, 0.011147727258503437, -0.023751873522996902, 0.013441246002912521, 0.003647852223366499, -6.773792847525328e-05, 0.0016776035772636533, 0.005206356290727854, 0.01175343431532383, -0.009657280519604683, 0.012427197769284248, -0.05262162908911705, -0.024037711322307587, -3.4613334719324484e-05, 0.030435064807534218, 0.0065130493603646755, -0.01450974028557539, -0.0014810891589149833, -0.010861887596547604, -0.028093906119465828, 0.005968593992292881, -0.005539834965020418, 0.005863105412572622, 0.017477022483944893, 0.015231143683195114, -0.005066839512437582, -0.010501186363399029, 0.0242010485380888, -0.04886488616466522, -0.02509940043091774, 0.011229395866394043, 0.014387237839400768, 0.007853771559894085, -0.005043019540607929, -0.020811812952160835, 0.009330607019364834, 0.0010097948834300041, -0.024010488763451576, -0.01097758486866951, 0.01254289411008358, 0.0056146979331970215, -0.006938405334949493, 0.00630547571927309, -0.0010404204949736595, -0.015231143683195114, 0.006724026054143906, 0.03454570472240448, 0.0006729130400344729, -0.0060706790536642075, 0.031905096024274826, -0.0027801261749118567, -0.012917207553982735, -0.025589410215616226, -0.006342906970530748, -0.015122252516448498, 0.046550948172807693, 0.019859015941619873, 0.0073025100864470005, -0.0030319367069751024, 0.019886238500475883, -0.0010276598623022437, -0.024813560768961906, 0.013243881054222584, 0.004342033062130213, 0.019750123843550682, 0.005774631630629301, 0.018525099381804466, 0.001604442368261516, 0.012406780384480953, 0.010929944925010204, -0.019899850711226463, 0.0005865657585673034, -0.0392007976770401, 0.02912837080657482, 0.01802147924900055, 0.005390109959989786, 0.006758054252713919, -0.006223807577043772, 0.012747065164148808, -0.01023576408624649, 0.026188312098383904, 0.011855519376695156, 0.02509940043091774, 0.006023039575666189, -0.004182098899036646, -0.0002922194835264236, -0.011317869648337364, -0.0023156374227255583, -0.009507554583251476, -0.0023411589208990335, -0.0055738636292517185, -0.000835824350360781, -0.0002571276272647083, 0.010984390042722225, 0.030435064807534218, 0.01367263961583376, 0.02896503545343876, 0.0012718141078948975, 0.0030506523326039314, -0.008459477685391903, 0.00011357002222212031, 0.0073025100864470005, -0.0020093813072890043, -0.01581643335521221, -0.01290359627455473, 0.028611138463020325, 0.027100274339318275, -0.01799425482749939, -0.0027495005633682013, -0.0073025100864470005, 0.03612462431192398, -0.01380194816738367, -0.009922701865434647, -0.005427541211247444, -0.027726398780941963, 0.006557286251336336, -0.01795342192053795, 0.0133868008852005, -0.0009060080628842115, -0.021750999614596367, 0.005311844404786825, -0.010439935140311718, -0.015367257408797741, -0.006468812469393015, -0.014291957952082157, -0.009126435965299606, 0.0023139361292123795, -0.01731368526816368, -0.010324237868189812, -0.0033126715570688248, 0.012679008767008781, 0.008745317347347736, -0.0039609139785170555, -0.012066495604813099, 0.017381742596626282, -0.003685283474624157, -0.012495254166424274, -0.020852647721767426, -0.03378346562385559, -0.01135870348662138, 0.015911713242530823, 0.003074472304433584, -0.004018762614578009, -0.010766608640551567, 0.0006771665648557246, 0.011222589761018753, 0.011181755922734737, 0.026174699887633324, 0.006948614027351141, -0.012536088936030865, -0.010691745206713676, 0.03133341670036316, -0.0068975710310041904, -0.01568031869828701, -0.005934565328061581, 0.019872626289725304, -0.024105768650770187, -0.03386513516306877, -0.00786738283932209, 0.007037087809294462, -0.017762862145900726, -0.011909964494407177, -0.023343531414866447, -0.019777348265051842, 0.00939866341650486, 0.0032173919025808573, 0.007649600505828857, 0.012325112707912922, -0.00016875994333531708, 0.0010063920635730028, 0.028611138463020325, -0.030952297151088715, 0.007275287061929703, -0.012046079151332378, -0.017463412135839462, 0.007989885285496712, -0.02991783246397972, 0.001988964155316353, 0.028801698237657547, -0.023275474086403847, 0.02833891101181507, -0.01791258715093136, -0.020607642829418182, -0.009146853350102901, 0.00011399538198020309, 0.010004370473325253, 0.0015032077208161354, 0.012644980102777481, -0.011263423599302769, -0.05400998890399933, -0.009391858242452145, -0.021451547741889954, 0.03612462431192398, 0.010344655252993107, -0.02034902572631836, -0.03838411718606949, 0.0211112629622221, 0.007595154922455549, -0.0014045251300558448, 0.00314423069357872, -0.026555819436907768, -0.010705357417464256, 0.019246503710746765, -0.031714536249637604, 0.01799425482749939, 0.005080450791865587, 0.005795048549771309, -0.01646978035569191, 0.018633991479873657, -0.01412862166762352, -0.015176698565483093, -0.04148751124739647, -0.020702922716736794, 0.026133865118026733, 0.01065771747380495, 0.015557817183434963, -0.015612262301146984, 0.007248064503073692, 0.010392295196652412, -0.012753871269524097, 0.011644543148577213, -0.014645854011178017, 0.004161681979894638, -0.01891982927918434, 0.019940683618187904, 0.019981518387794495, 0.034872375428676605, -0.030435064807534218, -0.01657867059111595, 4.761327363667078e-05, 0.018239259719848633, 0.007520291954278946, -0.0065130493603646755, -0.030053945258259773, -0.04135139659047127, 0.023411588743329048, -0.0006359070539474487, -0.007812936790287495, 0.015585039742290974, -0.02181905508041382, 0.0010548826539888978, 0.023928821086883545, -0.005288024432957172, 0.022145729511976242, -0.008724899962544441, 0.01872927136719227, -0.048320427536964417, 0.015285588800907135, -0.0065096463076770306, -0.003739729057997465, 0.0015738167567178607, -0.015054196119308472, -0.015040583908557892, -0.005022602155804634, 0.018470654264092445, -0.0033143730834126472, 0.012032467871904373, -0.010827859863638878, -0.017803696915507317, -0.0018630587728694081, 0.012372751720249653, -0.015190309844911098, -0.012168581597507, 0.002996206982061267, -0.0297272726893425, -0.027331668883562088, -0.010426323860883713, -0.015421703457832336, -0.03479070961475372, -0.0023054289631545544, 0.0038418143521994352, -0.017585914582014084, 0.03364735096693039, -0.0011110295308753848, 0.006268044468015432, -0.005424138158559799, 0.014972527511417866, 0.04061638191342354, -0.012706231325864792, 0.023915208876132965, 0.054363884031772614, -0.0037091034464538097, -0.013631805777549744, -0.04943656176328659, -0.0037193119060248137, -0.0061693619936704636, 0.028420578688383102, 0.046741507947444916, -0.016878122463822365, 0.0010506290709599853, 0.00824169535189867, 0.03391958028078079, -0.030925074592232704, -0.030298950150609016, 0.028502248227596283, 0.029591158032417297, 0.045870378613471985, -0.01062368880957365, -0.01715034991502762, 0.0008779345662333071, 0.012665396556258202, -0.024759115651249886, -0.009772976860404015, -0.025494130328297615, -0.009725336916744709, -0.02428271621465683, 0.034926824271678925, 0.003916677087545395, 0.0027818274684250355, 0.0003496425342746079, -0.0047503747045993805, 0.004028970841318369, 0.0037941746413707733, -0.03593406453728676, -0.008452672511339188, 0.00491030840203166, 0.05332941934466362, -0.02750861644744873, -0.005747408606112003, 0.0007652152562513947, -0.0024568557273596525, 0.010106455534696579, 0.0037159090861678123, 0.017558692023158073, 0.04777597263455391, -0.0145369628444314, 0.004253558814525604, 0.007527098059654236, 0.0027903346344828606, 0.02262212708592415, 0.012672202661633492, -0.005369692575186491, 0.002783528994768858, -0.009507554583251476, -0.007173201534897089, 0.015870878472924232, 5.045784200774506e-05, -0.007765297312289476, 0.007670017424970865, -0.007649600505828857, -0.02044430561363697, -0.02038986049592495, -0.010120067745447159, 0.022377122193574905, -0.02049875073134899, -0.02496328577399254, 0.012297889217734337, -0.030244505032896996, 0.009119629859924316, 0.026201922446489334, 0.007220841478556395, -0.0029060314409434795, 0.017830919474363327, -0.046605393290519714, -0.02051236294209957, 0.020730145275592804, -0.012869567610323429, -0.030326172709465027, -0.018198426812887192, 0.0006546227377839386, -0.007077922113239765, 0.026855269446969032, 0.00825530756264925, -0.011862325482070446, -0.027331668883562088, 0.007697239983826876, 0.003186766291037202, -0.007574737537652254, -0.0033126715570688248, 0.05278496444225311, 5.428604708868079e-05, -0.003458994207903743, 0.007989885285496712, -0.015571428462862968, -0.01807592436671257, -0.0016435751458629966, -0.006931599695235491, 0.005454763770103455, -0.023751873522996902, 0.03936413675546646, 0.0003468777285888791, -0.0009230222785845399, -0.007955856621265411, -0.017082292586565018, -0.04067082703113556, 0.01415584422647953, 0.02279907651245594, -0.003389235818758607, -0.004175293259322643, -0.023003246635198593, -0.013795142062008381, -0.019314561039209366, 0.010337849147617817, -0.0027733203023672104, -0.004359046928584576, 0.047340407967567444, 0.02814835123717785, 0.0048286402598023415, 0.002302026143297553, 0.011855519376695156, -0.027073051780462265, -0.034164585173130035, -0.0004100430815014988, -0.020743755623698235, -0.011583291925489902, -0.020172078162431717, 0.02508578822016716, 0.002783528994768858, -0.01890621893107891, -0.024037711322307587, -0.0003945175849366933, -0.013448052108287811, -0.03201398625969887, -0.026201922446489334, 0.02576635777950287, -0.000966408581007272, 0.013720279559493065, -0.0058018541894853115, 0.015394479967653751, -3.479942824924365e-05, 0.012080106884241104, -0.01261775754392147, -0.008806568570435047, 0.01257692277431488, -0.014645854011178017, 0.01645616814494133, 0.00021714418835472316, -0.05028047040104866, -0.020594030618667603, 0.023738261312246323, 0.018579544499516487, 0.0028464815113693476, 0.05346553400158882, -0.003954108338803053, -0.012440809048712254, -0.015462537296116352, -0.0015942339086905122, -0.015911713242530823, 0.014577796682715416, -0.0010114962933585048, -0.024105768650770187, -0.0273588914424181, -0.014210289344191551, 0.02588886022567749, -0.029155593365430832, 0.006645760498940945, -0.0024534526746720076, -0.015530594624578953, 0.004889891482889652, -0.015571428462862968, -0.027209166437387466, -0.008963099680840969, -0.0071868132799863815, 0.007935439236462116, 0.022390734404325485, -0.016918955370783806, 0.0213154349476099, -0.0011339988559484482, -0.014972527511417866, 0.0006886511691845953, -0.012842345051467419, -0.039500247687101364, -0.0027069649659097195, -0.004233141895383596, -0.0023326517548412085, 0.013223463669419289, -0.01734090968966484, 0.014019730500876904, -0.0037669518496841192, -0.005400318186730146, -0.011243007145822048, -0.008588786236941814, -0.008588786236941814, 0.04478146880865097, 0.042031966149806976, -0.02112487517297268, -0.007601960562169552, -0.005226773209869862, -0.027740009129047394, 0.0002909434260800481, -0.014414460398256779, 0.0032071834430098534, -0.028583915904164314, -0.026406094431877136, -0.0022492818534374237, -0.018565934151411057, -0.030843406915664673, 0.0037839659489691257, 0.005206356290727854, 0.0031935719307512045, -0.008119192905724049, 0.26983216404914856, -0.006621940527111292, 0.021642107516527176, 0.03868356719613075, -0.006172764580696821, -0.005934565328061581, 0.019151223823428154, 0.020811812952160835, -0.009541583247482777, 0.019083166494965553, -0.0028447802178561687, 0.020212911069393158, -0.029400598257780075, -0.004695929121226072, -0.00034475093707442284, -0.013835976831614971, -0.04796653240919113, -0.015408092178404331, -0.015095029957592487, -0.030979519709944725, 0.0025095997843891382, 0.004998782649636269, -0.020961537957191467, -0.008166832849383354, 0.007812936790287495, -0.0064722150564193726, -0.013407217338681221, -0.027740009129047394, 0.01802147924900055, 0.007370566949248314, -0.027195554226636887, -0.004144667647778988, 0.015476148575544357, -0.0045564123429358006, -0.01645616814494133, 0.004726554732769728, 0.003950705286115408, -0.001544892555102706, 0.030843406915664673, -0.004369255620986223, -0.008847402408719063, -0.00644839508458972, 0.023275474086403847, -0.015571428462862968, -0.023901598528027534, -0.004294393118470907, -0.019423451274633408, -0.013005681335926056, 0.009623251855373383, 0.008561563678085804, -0.0028430786915123463, -5.5721622629789636e-05, 0.010855082422494888, 0.02836613357067108, 0.036478519439697266, -0.0236157588660717, 0.026392482221126556, -0.018552321940660477, -0.011127309873700142, 0.01716396026313305, -0.00103956984821707, 0.037975773215293884, -0.00762237748131156, -0.004365853033959866, -0.01960039883852005, 0.0024347370490431786, -0.042794205248355865, -0.01638811081647873, 0.015095029957592487, -0.02109765261411667, -0.002839675871655345, -0.04293031990528107, -0.01295804139226675, 0.008160027675330639, -0.03348401561379433, -0.030380619689822197, 0.030271727591753006, 0.026229145005345345, 0.024541333317756653, 0.0409158319234848, -0.0019209071760997176, -0.0032854489982128143, 0.010052010416984558, 0.006373532582074404, -0.0036138235591351986, 0.002419424243271351, 0.004161681979894638, 0.004028970841318369, -0.011685376986861229, -0.016823675483465195, 0.009316995739936829, -0.0018001061398535967, 0.005526223685592413, -0.0033858329989016056, 0.016864510253071785, 0.01181468553841114, 0.010739385150372982, 0.0076836287043988705, -0.029672827571630478, -0.010092844255268574, -0.021669330075383186, -0.007180007640272379, -0.009242133237421513, 0.023915208876132965, -0.04845654219388962, 0.00018609319522511214, 0.004362449981272221, 0.0009570507681928575, 0.0066695804707705975, -0.027141109108924866, -0.011059253476560116, -0.04478146880865097, 0.008711288683116436, -0.023044081404805183, 0.012372751720249653, -0.023343531414866447, 0.008452672511339188, 0.004069805145263672, 0.0072616757825016975, -0.027249999344348907, 0.010664522647857666, -0.018239259719848633, 0.002196537796407938, 0.02520829066634178, -0.008398226462304592, -0.034110140055418015, -0.012985264882445335, 0.0060706790536642075, -0.008405032567679882, -0.03065284714102745, 0.02209128439426422, 0.008963099680840969, 0.03185064718127251, -0.004052790813148022, -0.0013500795466825366, 0.008929071016609669, -0.012168581597507, -0.016292832791805267, -7.597919466206804e-05, -0.027127496898174286, -0.003596809459850192, -0.018606768921017647, 0.016006993129849434, 0.001211413531564176, 0.010861887596547604, -0.01171259954571724, 0.006257835775613785, -3.61286656698212e-05, 0.003171453485265374, -0.0018511487869545817, -0.010283404029905796, -0.011127309873700142, -0.021560439839959145, -0.036532968282699585, 0.03206843137741089, -0.008200861513614655, -0.045217033475637436, -0.007425012532621622, 0.008439061231911182, 0.022295454517006874, -0.034981269389390945, 0.007404595147818327, 0.015462537296116352, -0.0072344527579844, -0.008044330403208733, 0.002029798226431012, -0.1738990992307663, 0.014754745177924633, 0.00566914351657033, -0.028774475678801537, 0.030435064807534218, -0.0009289772715419531, 0.026977771893143654, 0.013829170726239681, -0.013216658495366573, 0.01103202998638153, 0.01065091136842966, -0.0021659121848642826, -0.021628497168421745, -0.03854745253920555, -0.009807005524635315, 0.000651645241305232, -0.021383490413427353, 0.020730145275592804, 0.02739972434937954, 0.002011082600802183, 0.024554945528507233, -0.0212473776191473, -0.007316121365875006, 0.009507554583251476, 0.009684503078460693, -0.002072333823889494, 0.003763549029827118, -0.003028533887118101, -0.019055943936109543, -0.0017439591465517879, 0.0024245285894721746, -0.016251998022198677, 0.011093281209468842, -0.0266374871134758, 0.03427347540855408, -0.012801511213183403, -0.03195954114198685, 0.00508725643157959, -0.01896066404879093, 0.024609390646219254, 0.03443681448698044, 0.031905096024274826, -0.002097855322062969, 0.03443681448698044, 0.004049388226121664, 0.05343830958008766, 0.02831168845295906, -0.002371784532442689, 0.014768356457352638, -0.021655719727277756, 0.015040583908557892, -0.03318456560373306, 0.025330793112516403, -0.0005695515428669751, 0.019845403730869293, 0.04241308569908142, 0.013659028336405754, -0.002793737454339862, 0.004651692230254412, 0.010113261640071869, -0.020907092839479446, -0.01023576408624649, 0.017068680375814438, -0.010766608640551567, 0.01962762139737606, -0.017885364592075348, -0.026174699887633324, 0.029237262904644012, -0.013835976831614971, 0.008064747788012028, -0.01367263961583376, -0.016878122463822365, 0.011726210825145245, 0.00590734276920557, 0.024092158302664757, 0.004260364454239607, -0.0054990011267364025, 0.013400412164628506, 0.03620629385113716, -0.021505994722247124, -0.02203683741390705, 0.00567935174331069, -0.04072527587413788, -0.0021625093650072813, -0.01890621893107891, 0.011787462048232555, 0.003722714725881815, 0.005539834965020418, -0.01014048419892788, -0.006989447865635157, 0.025711912661790848, -0.003168050665408373, -0.0002813729224726558, -0.032531216740608215, -0.022894354537129402, 0.0157211534678936, -0.003943899646401405, 0.007139173336327076, -0.02051236294209957, -0.013107767328619957, 0.01795342192053795, -0.01716396026313305, -0.0022254621144384146, 0.03593406453728676, 0.019273726269602776, 0.010868693701922894, 0.0036818806547671556, 0.016320055350661278, 0.04785764217376709, -0.010126872919499874, -0.02519468031823635, 0.0029247470665723085, 0.02047152817249298, 0.03598850965499878, -0.007588349282741547, 0.008010301738977432, -0.015993380919098854, -0.011515234597027302, 0.04086138680577278, -0.011290647089481354, -0.013924450613558292, -0.017123127356171608, -0.002644012216478586, 0.017762862145900726, -0.014809190295636654, -0.016687562689185143, -0.06440909206867218, -0.02989060990512371, 0.0075339036993682384, 0.013590971007943153, -0.026977771893143654, 0.016320055350661278, 0.0055364323779940605, 0.012985264882445335, -0.0013169018784537911, 0.030952297151088715, -0.01966845616698265, -0.0023922014515846968, -0.010473963804543018, -0.011678570881485939, 0.041977521032094955, 0.016932567581534386, 0.01136550959199667, 0.002312234602868557, -0.0164425577968359, 0.026460539549589157, -0.01879732683300972, 0.002579358173534274, -0.01524475496262312, -0.002051916904747486, -0.008289335295557976, -0.00783335417509079, -0.03509015962481499, 0.02286713197827339, 0.01062368880957365, 0.028093906119465828, 0.02592969499528408, -0.005951579660177231, -0.0011663258774206042, -0.012713036499917507, -0.011875936761498451, 0.0014249422820284963, -0.027753621339797974, -0.018457042053341866, 0.019232891499996185, -0.03988136723637581, -0.008459477685391903, 0.014006118290126324, 0.02048514038324356, -0.021342657506465912, 0.015040583908557892, -0.011256618425250053, 0.004644886124879122, 0.028475023806095123, 0.005924356635659933, 2.182607386203017e-05, -0.024486888200044632, -0.008547952398657799, -0.01171940565109253, -0.014033341780304909, 0.014836413785815239, -0.00294516421854496, 0.014741133898496628, -0.0023887986317276955, -0.022227397188544273, -0.01177385076880455, 0.0024772726465016603, -9.208954725181684e-05, -0.027658341452479362, 0.002310533309355378, 0.029264485463500023, -0.017790084704756737, -0.003852023044601083, 0.013148601166903973, 0.020839035511016846, 0.0023003246169537306, -0.008323363959789276, 0.003848619991913438, -0.0018409403273835778, 0.02441883087158203, -0.02970005013048649, -0.005111076403409243, -0.02279907651245594, 0.003168050665408373, 0.015612262301146984, 0.0017150349449366331, -0.012665396556258202, -0.024718280881643295, 0.001025958452373743, -0.03138786181807518, 0.01972290128469467, 0.020988760516047478, -0.008765733800828457, 0.008493506349623203, 0.011726210825145245, -0.04173251613974571, 0.002094452502205968, 0.007778908591717482, 0.005978802219033241, -0.011624125763773918, -0.01728646270930767, -0.006547078024595976, -0.002295220270752907, -0.008976710960268974, 0.023030469194054604, 0.019845403730869293, -0.008500312454998493, -0.03582517430186272, -0.09244854748249054, 0.03547127917408943, 0.002266296185553074, -0.0024075142573565245, -0.021356267854571342, 0.0031050979159772396, 0.02049875073134899, 0.019763736054301262, -0.0013475274899974465, 0.017531467601656914, -0.018225649371743202, -0.015966158360242844, -0.01180787943303585, -8.746380626689643e-05, -0.0059175509959459305, -0.010929944925010204, -0.0005750811542384326, 0.011501623317599297, 0.003984733950346708, 0.0028175574261695147, 0.006560689304023981, 0.016796452924609184, -0.007390983868390322, -0.0017422577366232872, -0.007676823064684868, 0.004832042846828699, -0.010439935140311718, 0.023996878415346146, 0.002625296590849757, -0.012243444100022316, 0.001687812153249979, -0.02741333656013012, -0.0008541146526113153, 0.018198426812887192, -0.024636613205075264, -0.04088861122727394, -0.008547952398657799, 0.02113848552107811, 0.016265608370304108, -0.015203921124339104, -0.03792132809758186, -0.0071868132799863815, 0.012420391663908958, 0.007132367696613073, -0.01178065687417984, 0.0066661774180829525, -0.02358853630721569, -0.0042297388426959515, 0.03146953135728836, -0.0073025100864470005, 0.038901347666978836, 0.004723151680082083, 0.017790084704756737, -0.03185064718127251, -0.006451798137277365, -0.031823426485061646, 0.01018131896853447, 0.006193181965500116, -0.020131243392825127, -0.018184814602136612, 0.04597926884889603, 0.015421703457832336, 0.031714536249637604, -0.03925524279475212, 0.005369692575186491, -5.0670521886786446e-05, -0.028583915904164314, -0.011855519376695156, 0.00709153339266777, -0.019096778705716133, -0.003006415441632271, 0.00045130259240977466, 0.004287587478756905, 0.034926824271678925, -0.006792082916945219, 0.001822224585339427, -0.006608329247683287, 0.003212287789210677, -0.01380194816738367, 0.016075050458312035, 0.006325892638415098, 0.0027767233550548553, -0.03234066069126129, 0.0029026286210864782, 0.010256181471049786, 0.02678721211850643, -0.00344027834944427, -0.0008430553716607392, -0.003491321112960577, 0.0007630884647369385, 0.0018630587728694081, -0.007588349282741547, -0.023357141762971878, 0.025330793112516403, 0.02970005013048649, 0.05017157644033432, 0.009738948196172714, -0.03898301720619202, 0.018212037160992622, 0.013298326171934605, 0.004161681979894638, -0.0064007556065917015, -0.016156718134880066, -0.025521352887153625, 0.0046312748454511166, 0.003115306608378887, -0.03596128895878792, -0.019055943936109543, 0.012808316387236118, -0.004971559625118971, 0.004590440541505814, -0.008724899962544441, -0.0027801261749118567, 0.016156718134880066, -0.017749249935150146, 0.0023564717266708612, -0.010678133927285671, 0.00649943808093667, 0.004372658673673868, 0.03936413675546646, 0.01896066404879093, 0.025739135220646858, 0.01444168295711279, -0.008057941682636738, 0.0012258756905794144, 0.002963879844173789, 0.017531467601656914, -0.0021897321566939354, 0.005100867711007595, -0.008929071016609669, -0.006370129995048046, -0.002116570947691798, -0.024609390646219254, -0.01444168295711279, 0.0021063622552901506, 0.017613137140870094, 0.024677447974681854, 0.013659028336405754, -0.02342519909143448, 0.047449301928281784, 0.024582168087363243, -0.00214209221303463, 0.019328171387314796, 0.013992507010698318, 0.03517182916402817, -0.004025568254292011, -0.005410526879131794, -0.018429819494485855, -0.038928572088479996, 0.00015355348295997828, -0.02037624828517437, 0.008078359067440033, -0.027617506682872772, -0.01222302671521902, 0.004655094817280769, -0.007152784615755081, 0.000888143084011972, -0.029264485463500023, -0.009534778073430061, 0.030761737376451492, 0.014305569231510162, -0.005638517905026674, 0.015367257408797741, -0.017844529822468758, -0.00894948747009039, 0.006506243720650673, -0.0010404204949736595, -0.008507117629051208, -0.04167807102203369, 0.00451217545196414, -0.002579358173534274, -0.0289378110319376, -0.030870629474520683, 0.007043893449008465, 0.0014947005547583103, 0.005311844404786825, -0.0020195897668600082, 0.01576198823750019, 0.013978895731270313, -0.0005376498447731137, 0.032558441162109375, -0.02339797653257847, -0.016020603477954865, 0.030244505032896996, -0.02741333656013012, -0.016306443139910698, 0.004270573146641254, -8.172149682650343e-05]})}, ref_doc_info=defaultdict(<class 'dict'>, {'bb2b07b4-8deb-4304-b641-96924ef7bcd8': {'doc_hash': '15db9204aeaeae0dd4e9454bc3b000400e9bdd2f9414470590534189ee9a7106'}, 'e0db8bc4-d709-4817-8b79-70854676a4a3': {'doc_hash': '08a14830cef184731c6b6a0bdd67fa351d923556941aa99027b276bd839a07a4'}}))"
      ]
     },
     "execution_count": 207,
     "metadata": {},
     "output_type": "execute_result"
    }
   ],
   "source": [
    "bot.docstore"
   ]
  },
  {
   "cell_type": "markdown",
   "id": "bd5e27fd",
   "metadata": {},
   "source": [
    "## Answer the question\n",
    "Answer one question"
   ]
  },
  {
   "cell_type": "code",
   "execution_count": 106,
   "id": "da0bc560",
   "metadata": {},
   "outputs": [
    {
     "name": "stderr",
     "output_type": "stream",
     "text": [
      "INFO:root:> [query] Total LLM token usage: 2133 tokens\n",
      "INFO:root:> [query] Total embedding token usage: 21 tokens\n"
     ]
    },
    {
     "name": "stdout",
     "output_type": "stream",
     "text": [
      "\n",
      "Budweiser啤酒推荐：\n",
      "1. Budweiser经典啤酒\n",
      "2. Budweiser白金啤酒\n",
      "3. Budweiser红金啤酒\n",
      "4. Budweiser绿金啤酒\n",
      "5. Budweiser黑金啤酒\n"
     ]
    }
   ],
   "source": [
    "print(bot.conversation('推荐几款Budweiser啤酒'))"
   ]
  },
  {
   "cell_type": "markdown",
   "id": "7a07f9db",
   "metadata": {},
   "source": [
    "## continue conversation\n",
    "continue convsersation"
   ]
  },
  {
   "cell_type": "code",
   "execution_count": 164,
   "id": "056ffc2c",
   "metadata": {},
   "outputs": [
    {
     "name": "stderr",
     "output_type": "stream",
     "text": [
      "INFO:root:> [query] Total LLM token usage: 2887 tokens\n",
      "INFO:root:> [query] Total embedding token usage: 584 tokens\n"
     ]
    },
    {
     "name": "stdout",
     "output_type": "stream",
     "text": [
      "是的，我知道百威。百威是一家跨国啤酒公司，总部位于美国，在全球拥有超过200家酿酒厂，拥有众多知名品牌，如百威王牌、百威英博、百威金牌等。\n"
     ]
    }
   ],
   "source": [
    "print(bot.continue_conversation('你知道百威吗'))"
   ]
  },
  {
   "cell_type": "code",
   "execution_count": 166,
   "id": "7e56edb6",
   "metadata": {},
   "outputs": [
    {
     "name": "stderr",
     "output_type": "stream",
     "text": [
      "INFO:root:> [query] Total LLM token usage: 3076 tokens\n",
      "INFO:root:> [query] Total embedding token usage: 768 tokens\n"
     ]
    },
    {
     "name": "stdout",
     "output_type": "stream",
     "text": [
      "是的，百威拥有众多知名啤酒，包括百威王牌（Budweiser）、百威英博（Budweiser InBev）、百威金牌（Budweiser Gold）、百威绿色（Budweiser Green）、百威红色（Budweiser Red）等。\n"
     ]
    }
   ],
   "source": [
    "print(bot.continue_conversation('你知道它有什么啤酒吗'))"
   ]
  },
  {
   "cell_type": "code",
   "execution_count": 167,
   "id": "bd3bb0c4",
   "metadata": {},
   "outputs": [
    {
     "name": "stderr",
     "output_type": "stream",
     "text": [
      "INFO:root:> [query] Total LLM token usage: 3243 tokens\n",
      "INFO:root:> [query] Total embedding token usage: 784 tokens\n"
     ]
    },
    {
     "name": "stdout",
     "output_type": "stream",
     "text": [
      "Budweiser拥有众多知名品牌，如百威王牌、百威英博、百威金牌等。其中，百威王牌是一款经典的美式啤酒，酒精度为5.0%VOL，苦度为11 IBU，保质期为9个月；百威英博是一款英式淡啤，酒精度为4.7%VOL，苦度为10 IBU，保质期为9个月；百威金牌是一款淡色拉格啤酒，酒精度为4.5%VOL，苦度为15 IBU，保质期为9个月。\n"
     ]
    }
   ],
   "source": [
    "print(bot.continue_conversation('推荐几款Budweiser啤酒'))"
   ]
  },
  {
   "cell_type": "code",
   "execution_count": 168,
   "id": "0e3cd1c8",
   "metadata": {},
   "outputs": [
    {
     "name": "stderr",
     "output_type": "stream",
     "text": [
      "INFO:root:> [query] Total LLM token usage: 3021 tokens\n",
      "INFO:root:> [query] Total embedding token usage: 722 tokens\n"
     ]
    },
    {
     "name": "stdout",
     "output_type": "stream",
     "text": [
      "百威王牌（Budweiser）是百威最受欢迎的啤酒，它是一款经典的美式啤酒，酒体清澈透明，口感清爽，酒精度为5.0%VOL，苦度为12 IBU，保质期为9个月。\n"
     ]
    }
   ],
   "source": [
    "print(bot.continue_conversation('第一款是啥'))"
   ]
  },
  {
   "cell_type": "code",
   "execution_count": 170,
   "id": "7b5fb8a1",
   "metadata": {},
   "outputs": [
    {
     "name": "stderr",
     "output_type": "stream",
     "text": [
      "INFO:root:> [query] Total LLM token usage: 3111 tokens\n",
      "INFO:root:> [query] Total embedding token usage: 905 tokens\n"
     ]
    },
    {
     "name": "stdout",
     "output_type": "stream",
     "text": [
      "你问的是百威有什么啤酒，以及推荐几款百威啤酒。\n"
     ]
    }
   ],
   "source": [
    "print(bot.continue_conversation('我问了什么'))"
   ]
  },
  {
   "cell_type": "code",
   "execution_count": 187,
   "id": "b4c881f6",
   "metadata": {},
   "outputs": [
    {
     "name": "stderr",
     "output_type": "stream",
     "text": [
      "INFO:root:> [query] Total LLM token usage: 2328 tokens\n",
      "INFO:root:> [query] Total embedding token usage: 76 tokens\n"
     ]
    },
    {
     "name": "stdout",
     "output_type": "stream",
     "text": [
      "\n",
      "For a diverse world, where girls can box and boys can wear pink and eat sweets, why not combine the sweet strawberry with the refreshing ale? Right Hook, a Helles with 4.5% ABV and 15 IBU, and Flipping Mango, a Hazy IPA with 5.5% ABV and 40 IBU, are perfect for the occasion. For a more romantic experience, try the Lambic Fruits Beer from Belgium, with 12% ABV and 5.1% VOL.\n"
     ]
    }
   ],
   "source": [
    "print(bot.continue_conversation('recommand some beer please'))"
   ]
  },
  {
   "cell_type": "code",
   "execution_count": 188,
   "id": "9597440d",
   "metadata": {},
   "outputs": [
    {
     "name": "stderr",
     "output_type": "stream",
     "text": [
      "INFO:root:> [query] Total LLM token usage: 2348 tokens\n",
      "INFO:root:> [query] Total embedding token usage: 154 tokens\n"
     ]
    },
    {
     "name": "stdout",
     "output_type": "stream",
     "text": [
      "For a special occasion, you can also consider customizing your own beer. We offer customized labels and packaging for bottles and cans, and can develop custom recipes for you. We also offer gift boxes for special occasions.\n"
     ]
    }
   ],
   "source": [
    "print(bot.continue_conversation('any thing else?'))"
   ]
  },
  {
   "cell_type": "code",
   "execution_count": 189,
   "id": "e3297717",
   "metadata": {},
   "outputs": [
    {
     "name": "stderr",
     "output_type": "stream",
     "text": [
      "INFO:root:> [query] Total LLM token usage: 2445 tokens\n",
      "INFO:root:> [query] Total embedding token usage: 88 tokens\n"
     ]
    },
    {
     "name": "stdout",
     "output_type": "stream",
     "text": [
      "科罗娜，拳击猫客制化啤酒，为您的特殊场合提供定制化的解决方案！我们提供瓶装和听装的定制化标签和包装，并且可以为您开发定制的配方。我们还提供特殊场合的礼盒定制包装。让您的特殊场合更加难忘！\n"
     ]
    }
   ],
   "source": [
    "print(bot.continue_conversation('Write me an advertisement for 科罗娜'))"
   ]
  },
  {
   "cell_type": "code",
   "execution_count": 191,
   "id": "74c1c03c",
   "metadata": {},
   "outputs": [
    {
     "name": "stderr",
     "output_type": "stream",
     "text": [
      "INFO:root:> [query] Total LLM token usage: 2911 tokens\n",
      "INFO:root:> [query] Total embedding token usage: 649 tokens\n"
     ]
    },
    {
     "name": "stdout",
     "output_type": "stream",
     "text": [
      "Korona, Punch Cat Customized Beer, provides you with customized solutions for your special occasions! We offer customized labels and packaging for both bottles and cans, and can develop customized recipes for you. We have a variety of craft beers, from Punch Cat Strawberry Blast, Punch Cat Right Hook, Punch Cat Flipping Mango, Punch Cat Billy Fanny Wild Cherry, to Punch Cat Lambic Fruit Beer, you can choose the beer that best suits your taste. We also offer special occasion gift box custom packaging, making your special occasions even more unforgettable!\n"
     ]
    }
   ],
   "source": [
    "print(bot.continue_conversation('Write it longer in English please'))"
   ]
  },
  {
   "cell_type": "code",
   "execution_count": 171,
   "id": "f3399dc6",
   "metadata": {},
   "outputs": [
    {
     "name": "stderr",
     "output_type": "stream",
     "text": [
      "INFO:root:> [query] Total LLM token usage: 3586 tokens\n",
      "INFO:root:> [query] Total embedding token usage: 10 tokens\n"
     ]
    },
    {
     "name": "stdout",
     "output_type": "stream",
     "text": [
      "\n",
      "\n",
      "Yes, I know about Budweiser. Budweiser is an American-style pale lager, part of Belgian company AB InBev. It is available in over 80 countries, though not under the Budweiser name in places where Anheuser-Busch does not own the trademark. Budweiser has been involved in multiple trademark disputes with the Budweiser Budvar Brewery of České Budějovice over the trademark rights to the name \"Budweiser\". Budweiser has been distributed in many sizes and variety of containers, including cans and bottles ranging from 7–40 US fluid ounces (210–1,180 ml). Budweiser is produced using barley malt, rice, water, hops and yeast, and does not use any animal products in the brewing process. In July 2006, Anheuser-Busch brewed a version of Budweiser with organic rice for sale in Mexico. It has yet to extend this practice to any other countries. In addition to the regular Budweiser, Anheuser-Busch brews several different beers under the Budweiser brand, including Bud Light, Bud Ice, and Bud Light Lime. In July 2010, Anheuser-Busch launched Budweiser 66 in the United Kingdom. Budweiser Brew No.66 has 4% alcohol by volume, and is brewed and distributed in the UK by Inbev UK Limited. In 2020, Budweiser introduced Bud Light Seltzer. In August 2020, Bud Light Seltzers added grapefruit, cranberry and pineapple flavors, to its lineup.\n"
     ]
    }
   ],
   "source": [
    "print(bot.continue_conversation('Do you konw about Budweiser?'))"
   ]
  },
  {
   "cell_type": "code",
   "execution_count": 172,
   "id": "5c7802cd",
   "metadata": {},
   "outputs": [
    {
     "name": "stderr",
     "output_type": "stream",
     "text": [
      "INFO:root:> [query] Total LLM token usage: 3731 tokens\n",
      "INFO:root:> [query] Total embedding token usage: 9 tokens\n"
     ]
    },
    {
     "name": "stdout",
     "output_type": "stream",
     "text": [
      "\n",
      "Anheuser-Busch has a long history of sponsoring motorsports events, beginning in 1963 when they sponsored the Miss Budweiser hydroplanes. The company has sponsored the Busch Light Clash at Daytona International Speedway since 1979, and in 2021 the event was moved to the Los Angeles Memorial Coliseum. In 2013, Anheuser-Busch moved their Daytona Speedweeks race sponsorship to the Duel races after the departure of longtime Duel title sponsor Gatorade. Cup Series title sponsor Sprint became the title sponsor for this race, which was renamed from \"The Shootout\" to \"The Unlimited\" (to promote Sprint's cell phone unlimited plan). The race established an incentive for drivers to earn pole positions during the NASCAR season, which up to that time, still offered relatively tiny cash prizes. Likewise, at no time have pole winners earned bonus championship points. The event was also seen as a way to expand the Speedweeks activities leading up to the Daytona 500. Previously, the weekend before the Daytona 500 featured only minor support events, and the Winston Cup competitors ordinarily would not have taken to the track until Wednesday. The Busch Clash allowed the Winston Cup regulars to kick off the week live on CBS. When Sprint left NASCAR after the 2016 season, Advance Auto Parts became the title sponsor in 2017 and the event was renamed to its original name of \"The Clash\". Advanced Auto Parts did not return as the title sponsor in 2020, which opened the door for Anheuser-Busch (which dropped its sponsorship of the Duel races in 2016) returned for a second stint as the title sponsor, and the Busch Clash name was brought back. The 1987 race, won by Bill Elliott, was completed at an average speed of 197.802 mph. It stands as the fastest sanctioned race in the history of NASCAR (though it was headlined the event as the \"fastest race\" of the season).\n"
     ]
    }
   ],
   "source": [
    "print(bot.continue_conversation('Plese list the history for that company'))"
   ]
  },
  {
   "cell_type": "markdown",
   "id": "e248894a",
   "metadata": {},
   "source": [
    "save the bot as json"
   ]
  },
  {
   "cell_type": "code",
   "execution_count": 197,
   "id": "540c32ca",
   "metadata": {},
   "outputs": [],
   "source": [
    "bot.save_to_disk('bot.json')"
   ]
  },
  {
   "cell_type": "markdown",
   "id": "cf94ea23",
   "metadata": {},
   "source": [
    "load the bot"
   ]
  },
  {
   "cell_type": "code",
   "execution_count": 198,
   "id": "26a6fdb1",
   "metadata": {},
   "outputs": [],
   "source": [
    "bot = chatbot.Chatbot.load_from_disk('bot.json')"
   ]
  },
  {
   "cell_type": "code",
   "execution_count": 205,
   "id": "10998789",
   "metadata": {},
   "outputs": [
    {
     "name": "stderr",
     "output_type": "stream",
     "text": [
      "INFO:root:> [query] Total LLM token usage: 2240 tokens\n",
      "INFO:root:> [query] Total embedding token usage: 18 tokens\n"
     ]
    },
    {
     "data": {
      "text/plain": [
       "'\\n德式淡色拉格HELLES酒精度: ≥4.5% VOL，苦度: 15 IBU，保质期：桶啤 6个月。'"
      ]
     },
     "execution_count": 205,
     "metadata": {},
     "output_type": "execute_result"
    }
   ],
   "source": [
    "bot.conversation(\"推荐一款拉格酒\")"
   ]
  },
  {
   "cell_type": "code",
   "execution_count": null,
   "id": "f14e0cea",
   "metadata": {},
   "outputs": [],
   "source": []
  }
 ],
 "metadata": {
  "kernelspec": {
   "display_name": "Python 3 (ipykernel)",
   "language": "python",
   "name": "python3"
  },
  "language_info": {
   "codemirror_mode": {
    "name": "ipython",
    "version": 3
   },
   "file_extension": ".py",
   "mimetype": "text/x-python",
   "name": "python",
   "nbconvert_exporter": "python",
   "pygments_lexer": "ipython3",
   "version": "3.8.3"
  }
 },
 "nbformat": 4,
 "nbformat_minor": 5
}
