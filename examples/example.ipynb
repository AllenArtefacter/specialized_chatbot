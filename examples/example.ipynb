{
 "cells": [
  {
   "cell_type": "markdown",
   "id": "041cac8c",
   "metadata": {},
   "source": [
    "## chatbot Examples\n",
    "This is an example notebook for `specialized_chatbot` tookits"
   ]
  },
  {
   "cell_type": "code",
   "execution_count": null,
   "id": "99949a72",
   "metadata": {},
   "outputs": [],
   "source": [
    "!pip install -r ../reqirement.txt"
   ]
  },
  {
   "cell_type": "code",
   "execution_count": null,
   "id": "c790fa16",
   "metadata": {},
   "outputs": [],
   "source": []
  },
  {
   "cell_type": "code",
   "execution_count": null,
   "id": "b40eb0d4",
   "metadata": {},
   "outputs": [],
   "source": [
    "import sys \n",
    "sys.path.insert(0, '/Users/a/Desktop/Artefact/ABI/chatbot/abi_chatbot')"
   ]
  },
  {
   "cell_type": "code",
   "execution_count": null,
   "id": "934678ad",
   "metadata": {
    "collapsed": true
   },
   "outputs": [],
   "source": [
    "!pip install tensorflow"
   ]
  },
  {
   "cell_type": "code",
   "execution_count": 1,
   "outputs": [],
   "source": [
    "%load_ext autoreload\n",
    "%autoreload 2\n",
    "import os\n",
    "import sys\n",
    "from importlib import reload\n",
    "import json\n",
    "config = json.load(open('../../config.json'))\n",
    "os.environ[\"OPENAI_API_KEY\"] = config['openai_api_key']"
   ],
   "metadata": {
    "collapsed": false
   }
  },
  {
   "cell_type": "code",
   "execution_count": 2,
   "id": "943b6069",
   "metadata": {},
   "outputs": [],
   "source": [
    "os.environ[\"TOKENIZERS_PARALLELISM\"]= 'true'"
   ]
  },
  {
   "cell_type": "code",
   "execution_count": 3,
   "id": "a45ba277",
   "metadata": {},
   "outputs": [
    {
     "data": {
      "text/plain": "<module 'specialized_chatbot.chatbot' from '/Users/ambrose/Code/ABI_chatbot/specialized_chatbot/specialized_chatbot/chatbot.py'>"
     },
     "execution_count": 3,
     "metadata": {},
     "output_type": "execute_result"
    }
   ],
   "source": [
    "from specialized_chatbot import chatbot\n",
    "reload(chatbot)"
   ]
  },
  {
   "cell_type": "markdown",
   "id": "12b656aa",
   "metadata": {},
   "source": [
    "### Load data \n",
    "Load data from a directory, data in that directory can be txt, pdf, doc, etc"
   ]
  },
  {
   "cell_type": "code",
   "execution_count": 4,
   "id": "f97b28db",
   "metadata": {},
   "outputs": [
    {
     "name": "stderr",
     "output_type": "stream",
     "text": [
      "Token indices sequence length is longer than the specified maximum sequence length for this model (1152 > 1024). Running this sequence through the model will result in indexing errors\n",
      "INFO:llama_index.token_counter.token_counter:> [build_index_from_documents] Total LLM token usage: 0 tokens\n",
      "INFO:llama_index.token_counter.token_counter:> [build_index_from_documents] Total embedding token usage: 69771 tokens\n"
     ]
    }
   ],
   "source": [
    "bot = chatbot.Chatbot('../../data')"
   ]
  },
  {
   "cell_type": "code",
   "execution_count": 5,
   "id": "23691223",
   "metadata": {},
   "outputs": [
    {
     "name": "stderr",
     "output_type": "stream",
     "text": [
      "INFO:llama_index.token_counter.token_counter:> [query] Total LLM token usage: 985 tokens\n",
      "INFO:llama_index.token_counter.token_counter:> [query] Total embedding token usage: 34 tokens\n",
      "INFO:root:推荐几款Budweiser啤酒并且介绍它们\n"
     ]
    },
    {
     "name": "stdout",
     "output_type": "stream",
     "text": [
      " 百威旗下高端品牌产品包括：经典拉格、特色拉格、小麦艾尔、IPA、水果啤酒、其它艾尔和跨啤酒。其中，经典拉格是科罗娜经典系列，诞生于墨西哥，啤酒口感清醇，色彩明亮，与青柠风味相得益彰，酒精含量4.6%；时代啤酒源于比利时鲁汶，具有六百余年历史，选用萨兹贵族酒花，带来轻柔果香，与酵母中的松露以及菠萝果香相得益彰，同时精选进口大麦。\n"
     ]
    }
   ],
   "source": [
    "print(bot.conversation('推荐几款Budweiser啤酒并且介绍它们'))"
   ]
  },
  {
   "cell_type": "code",
   "execution_count": null,
   "outputs": [],
   "source": [
    "print(bot.conversation('推荐几款Budweiser啤酒并且介绍它们'))"
   ],
   "metadata": {
    "collapsed": false
   }
  },
  {
   "cell_type": "code",
   "execution_count": null,
   "outputs": [],
   "source": [
    "bot.query('推荐几款Budweiser啤酒')"
   ],
   "metadata": {
    "collapsed": false
   }
  },
  {
   "cell_type": "code",
   "execution_count": null,
   "id": "1a371887",
   "metadata": {},
   "outputs": [],
   "source": [
    "print(bot.conversation('推荐几款哈尔滨啤酒'))"
   ]
  },
  {
   "cell_type": "markdown",
   "id": "83975540",
   "metadata": {},
   "source": [
    "## Answer the question\n",
    "Answer one question"
   ]
  },
  {
   "cell_type": "code",
   "execution_count": null,
   "id": "39a841fa",
   "metadata": {},
   "outputs": [],
   "source": [
    "print(bot.conversation('推荐几款Budweiser啤酒'))"
   ]
  },
  {
   "cell_type": "code",
   "execution_count": null,
   "id": "3b8e3f2c",
   "metadata": {},
   "outputs": [],
   "source": [
    "print(bot.conversation('Any beer recommand? No Budweiser please'))"
   ]
  },
  {
   "cell_type": "markdown",
   "id": "71279727",
   "metadata": {},
   "source": [
    "## continue conversation\n",
    "continue convsersation"
   ]
  },
  {
   "cell_type": "code",
   "execution_count": null,
   "id": "0c7bb828",
   "metadata": {},
   "outputs": [],
   "source": [
    "print(bot.continue_conversation('你知道百威吗'))"
   ]
  },
  {
   "cell_type": "code",
   "execution_count": null,
   "id": "9049f320",
   "metadata": {},
   "outputs": [],
   "source": [
    "print(bot.continue_conversation('你知道它有什么啤酒吗'))"
   ]
  },
  {
   "cell_type": "code",
   "execution_count": null,
   "id": "2019cd72",
   "metadata": {},
   "outputs": [],
   "source": [
    "print(bot.continue_conversation('推荐几款Budweiser啤酒'))"
   ]
  },
  {
   "cell_type": "code",
   "execution_count": null,
   "id": "039ee9cf",
   "metadata": {},
   "outputs": [],
   "source": [
    "print(bot.continue_conversation('第一款是啥'))"
   ]
  },
  {
   "cell_type": "code",
   "execution_count": null,
   "id": "6d238081",
   "metadata": {},
   "outputs": [],
   "source": [
    "print(bot.continue_conversation('我问了什么'))"
   ]
  },
  {
   "cell_type": "code",
   "execution_count": null,
   "id": "591d4d52",
   "metadata": {},
   "outputs": [],
   "source": [
    "print(bot.continue_conversation('recommand some beer please'))"
   ]
  },
  {
   "cell_type": "code",
   "execution_count": null,
   "id": "c0a50836",
   "metadata": {},
   "outputs": [],
   "source": [
    "print(bot.continue_conversation('any thing else?'))"
   ]
  },
  {
   "cell_type": "code",
   "execution_count": null,
   "id": "0f4f852b",
   "metadata": {},
   "outputs": [],
   "source": [
    "print(bot.continue_conversation('Write me an advertisement for 科罗娜'))"
   ]
  },
  {
   "cell_type": "code",
   "execution_count": null,
   "id": "92069f12",
   "metadata": {},
   "outputs": [],
   "source": [
    "print(bot.continue_conversation('Write it longer in English please'))"
   ]
  },
  {
   "cell_type": "code",
   "execution_count": null,
   "id": "b8035d75",
   "metadata": {},
   "outputs": [],
   "source": [
    "print(bot.continue_conversation('Do you konw about Budweiser?'))"
   ]
  },
  {
   "cell_type": "code",
   "execution_count": null,
   "id": "96ca5ef6",
   "metadata": {},
   "outputs": [],
   "source": [
    "print(bot.continue_conversation('Plese list the history for that company'))"
   ]
  },
  {
   "cell_type": "markdown",
   "id": "1342edd4",
   "metadata": {},
   "source": [
    "save the bot as json"
   ]
  },
  {
   "cell_type": "code",
   "execution_count": null,
   "id": "3b103bc9",
   "metadata": {},
   "outputs": [],
   "source": [
    "bot.save_to_disk('bot.json')"
   ]
  },
  {
   "cell_type": "code",
   "execution_count": 6,
   "id": "2f38d8a1",
   "metadata": {},
   "outputs": [],
   "source": [
    "bot.save_to_disk('../../bot.json')"
   ]
  },
  {
   "cell_type": "markdown",
   "id": "0e4f7904",
   "metadata": {},
   "source": [
    "load the bot"
   ]
  },
  {
   "cell_type": "code",
   "execution_count": null,
   "id": "c639b93c",
   "metadata": {},
   "outputs": [],
   "source": [
    "bot = chatbot.Chatbot.load_from_disk('bot.json')"
   ]
  },
  {
   "cell_type": "code",
   "execution_count": null,
   "id": "0c1aa6a2",
   "metadata": {},
   "outputs": [],
   "source": [
    "bot.conversation(\"推荐一款拉格酒\")"
   ]
  },
  {
   "cell_type": "code",
   "execution_count": null,
   "id": "3fdd25dd",
   "metadata": {},
   "outputs": [],
   "source": [
    "bot.conversation(\"你知道哈尔滨啤酒吗？\")"
   ]
  },
  {
   "cell_type": "code",
   "execution_count": null,
   "id": "9e3d474f",
   "metadata": {},
   "outputs": [],
   "source": [
    "bot.conversation(\"推荐一款它的啤酒好吗\")"
   ]
  },
  {
   "cell_type": "code",
   "execution_count": null,
   "id": "b2a26d54",
   "metadata": {},
   "outputs": [],
   "source": [
    "bot.continue_conversation(\"Do you know about bluegirl?\")"
   ]
  },
  {
   "cell_type": "code",
   "execution_count": null,
   "id": "9fd48739",
   "metadata": {},
   "outputs": [],
   "source": [
    "bot.continue_conversation(\"What kind of beer it provide?\")"
   ]
  },
  {
   "cell_type": "code",
   "execution_count": null,
   "id": "8f4fa3b7",
   "metadata": {},
   "outputs": [],
   "source": [
    "bot.continue_conversation(\"Any product of they?\")"
   ]
  },
  {
   "cell_type": "code",
   "execution_count": null,
   "id": "90fc1753",
   "metadata": {},
   "outputs": [],
   "source": [
    "bot.continue_conversation(\"Any other beer of AB Inbev?\")"
   ]
  },
  {
   "cell_type": "code",
   "execution_count": null,
   "id": "250b37a9",
   "metadata": {},
   "outputs": [],
   "source": [
    "bot.continue_conversation(\"帮我给科罗娜写一个广告\")"
   ]
  },
  {
   "cell_type": "code",
   "execution_count": null,
   "id": "8f863c59",
   "metadata": {},
   "outputs": [],
   "source": [
    "bot.continue_conversation(\"推荐几款百威啤酒，用中文\")"
   ]
  },
  {
   "cell_type": "code",
   "execution_count": null,
   "id": "e1b9d143",
   "metadata": {},
   "outputs": [],
   "source": [
    "bot.continue_conversation(\"请将上一个回答翻译成英文\")"
   ]
  },
  {
   "cell_type": "code",
   "execution_count": null,
   "id": "bdaae3d3",
   "metadata": {},
   "outputs": [],
   "source": [
    "bot.continue_conversation(\"推荐5款百威（budweiser）啤酒，用中文\")"
   ]
  },
  {
   "cell_type": "code",
   "execution_count": null,
   "id": "f07f477a",
   "metadata": {},
   "outputs": [],
   "source": [
    "bot._concate_qa('a')"
   ]
  },
  {
   "cell_type": "code",
   "execution_count": null,
   "id": "82be3fbd",
   "metadata": {},
   "outputs": [],
   "source": [
    "from llama_index import PromptHelper, LLMPredictor\n",
    "from langchain import OpenAI\n",
    "MODEL = \"text-davinci-003\"\n",
    "\n",
    "LLM = OpenAI(\n",
    "    temperature=0,\n",
    "    model_name=MODEL,\n",
    "    max_tokens=512\n",
    ")\n",
    "\n",
    "LLM_PREDICTOR = LLMPredictor(llm=LLM)"
   ]
  },
  {
   "cell_type": "code",
   "execution_count": null,
   "id": "163f07ab",
   "metadata": {},
   "outputs": [],
   "source": [
    "bot.llm_predictor = LLM_PREDICTOR"
   ]
  },
  {
   "cell_type": "code",
   "execution_count": null,
   "id": "39efb64e",
   "metadata": {},
   "outputs": [],
   "source": []
  }
 ],
 "metadata": {
  "kernelspec": {
   "display_name": "Python 3 (ipykernel)",
   "language": "python",
   "name": "python3"
  },
  "language_info": {
   "codemirror_mode": {
    "name": "ipython",
    "version": 3
   },
   "file_extension": ".py",
   "mimetype": "text/x-python",
   "name": "python",
   "nbconvert_exporter": "python",
   "pygments_lexer": "ipython3",
   "version": "3.8.3"
  }
 },
 "nbformat": 4,
 "nbformat_minor": 5
}
