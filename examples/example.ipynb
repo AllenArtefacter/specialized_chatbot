{
 "cells": [
  {
   "cell_type": "markdown",
   "id": "041cac8c",
   "metadata": {},
   "source": [
    "## chatbot Examples\n",
    "This is an example notebook for `specialized_chatbot` tookits"
   ]
  },
  {
   "cell_type": "code",
   "execution_count": 17,
   "id": "99949a72",
   "metadata": {
    "collapsed": true
   },
   "outputs": [
    {
     "name": "stdout",
     "output_type": "stream",
     "text": [
      "Requirement already satisfied: llama-index==0.4.28 in /Users/a/Desktop/Artefact/ABI/chatbot/abi_chatbot/.venv/lib/python3.8/site-packages (from -r ../reqirement.txt (line 1)) (0.4.28)\n",
      "Requirement already satisfied: langchain==0.0.112 in /Users/a/Desktop/Artefact/ABI/chatbot/abi_chatbot/.venv/lib/python3.8/site-packages (from -r ../reqirement.txt (line 2)) (0.0.112)\n",
      "Requirement already satisfied: openai==0.27.2 in /Users/a/Desktop/Artefact/ABI/chatbot/abi_chatbot/.venv/lib/python3.8/site-packages (from -r ../reqirement.txt (line 3)) (0.27.2)\n",
      "Requirement already satisfied: wikipedia in /Users/a/Desktop/Artefact/ABI/chatbot/abi_chatbot/.venv/lib/python3.8/site-packages (from -r ../reqirement.txt (line 4)) (1.4.0)\n",
      "Requirement already satisfied: unstructured in /Users/a/Desktop/Artefact/ABI/chatbot/abi_chatbot/.venv/lib/python3.8/site-packages (from -r ../reqirement.txt (line 5)) (0.5.4)\n",
      "Requirement already satisfied: PyPDF2 in /Users/a/Desktop/Artefact/ABI/chatbot/abi_chatbot/.venv/lib/python3.8/site-packages (from -r ../reqirement.txt (line 6)) (3.0.1)\n",
      "Requirement already satisfied: tenacity<9.0.0,>=8.2.0 in /Users/a/Desktop/Artefact/ABI/chatbot/abi_chatbot/.venv/lib/python3.8/site-packages (from llama-index==0.4.28->-r ../reqirement.txt (line 1)) (8.2.2)\n",
      "Requirement already satisfied: pandas in /Users/a/Desktop/Artefact/ABI/chatbot/abi_chatbot/.venv/lib/python3.8/site-packages (from llama-index==0.4.28->-r ../reqirement.txt (line 1)) (1.5.3)\n",
      "Requirement already satisfied: transformers in /Users/a/Desktop/Artefact/ABI/chatbot/abi_chatbot/.venv/lib/python3.8/site-packages (from llama-index==0.4.28->-r ../reqirement.txt (line 1)) (4.26.1)\n",
      "Requirement already satisfied: numpy in /Users/a/Desktop/Artefact/ABI/chatbot/abi_chatbot/.venv/lib/python3.8/site-packages (from llama-index==0.4.28->-r ../reqirement.txt (line 1)) (1.23.5)\n",
      "Requirement already satisfied: dataclasses-json in /Users/a/Desktop/Artefact/ABI/chatbot/abi_chatbot/.venv/lib/python3.8/site-packages (from llama-index==0.4.28->-r ../reqirement.txt (line 1)) (0.5.7)\n",
      "Requirement already satisfied: SQLAlchemy<2,>=1 in /Users/a/Desktop/Artefact/ABI/chatbot/abi_chatbot/.venv/lib/python3.8/site-packages (from langchain==0.0.112->-r ../reqirement.txt (line 2)) (1.4.46)\n",
      "Requirement already satisfied: PyYAML<7,>=6 in /Users/a/Desktop/Artefact/ABI/chatbot/abi_chatbot/.venv/lib/python3.8/site-packages (from langchain==0.0.112->-r ../reqirement.txt (line 2)) (6.0)\n",
      "Requirement already satisfied: aiohttp<4.0.0,>=3.8.3 in /Users/a/Desktop/Artefact/ABI/chatbot/abi_chatbot/.venv/lib/python3.8/site-packages (from langchain==0.0.112->-r ../reqirement.txt (line 2)) (3.8.4)\n",
      "Requirement already satisfied: pydantic<2,>=1 in /Users/a/Desktop/Artefact/ABI/chatbot/abi_chatbot/.venv/lib/python3.8/site-packages (from langchain==0.0.112->-r ../reqirement.txt (line 2)) (1.10.6)\n",
      "Requirement already satisfied: requests<3,>=2 in /Users/a/Desktop/Artefact/ABI/chatbot/abi_chatbot/.venv/lib/python3.8/site-packages (from langchain==0.0.112->-r ../reqirement.txt (line 2)) (2.28.2)\n",
      "Requirement already satisfied: tqdm in /Users/a/Desktop/Artefact/ABI/chatbot/abi_chatbot/.venv/lib/python3.8/site-packages (from openai==0.27.2->-r ../reqirement.txt (line 3)) (4.65.0)\n",
      "Requirement already satisfied: beautifulsoup4 in /Users/a/Desktop/Artefact/ABI/chatbot/abi_chatbot/.venv/lib/python3.8/site-packages (from wikipedia->-r ../reqirement.txt (line 4)) (4.11.2)\n",
      "Requirement already satisfied: openpyxl in /Users/a/Desktop/Artefact/ABI/chatbot/abi_chatbot/.venv/lib/python3.8/site-packages (from unstructured->-r ../reqirement.txt (line 5)) (3.1.2)\n",
      "Requirement already satisfied: pillow in /Users/a/Desktop/Artefact/ABI/chatbot/abi_chatbot/.venv/lib/python3.8/site-packages (from unstructured->-r ../reqirement.txt (line 5)) (9.4.0)\n",
      "Requirement already satisfied: python-docx in /Users/a/Desktop/Artefact/ABI/chatbot/abi_chatbot/.venv/lib/python3.8/site-packages (from unstructured->-r ../reqirement.txt (line 5)) (0.8.11)\n",
      "Requirement already satisfied: argilla in /Users/a/Desktop/Artefact/ABI/chatbot/abi_chatbot/.venv/lib/python3.8/site-packages (from unstructured->-r ../reqirement.txt (line 5)) (1.4.0)\n",
      "Requirement already satisfied: pypandoc in /Users/a/Desktop/Artefact/ABI/chatbot/abi_chatbot/.venv/lib/python3.8/site-packages (from unstructured->-r ../reqirement.txt (line 5)) (1.11)\n",
      "Requirement already satisfied: nltk in /Users/a/Desktop/Artefact/ABI/chatbot/abi_chatbot/.venv/lib/python3.8/site-packages (from unstructured->-r ../reqirement.txt (line 5)) (3.8.1)\n",
      "Requirement already satisfied: python-pptx in /Users/a/Desktop/Artefact/ABI/chatbot/abi_chatbot/.venv/lib/python3.8/site-packages (from unstructured->-r ../reqirement.txt (line 5)) (0.6.21)\n",
      "Requirement already satisfied: markdown in /Users/a/Desktop/Artefact/ABI/chatbot/abi_chatbot/.venv/lib/python3.8/site-packages (from unstructured->-r ../reqirement.txt (line 5)) (3.4.1)\n",
      "Requirement already satisfied: lxml in /Users/a/Desktop/Artefact/ABI/chatbot/abi_chatbot/.venv/lib/python3.8/site-packages (from unstructured->-r ../reqirement.txt (line 5)) (4.9.2)\n",
      "Requirement already satisfied: python-magic in /Users/a/Desktop/Artefact/ABI/chatbot/abi_chatbot/.venv/lib/python3.8/site-packages (from unstructured->-r ../reqirement.txt (line 5)) (0.4.27)\n",
      "Requirement already satisfied: certifi>=2022.12.07 in /Users/a/Desktop/Artefact/ABI/chatbot/abi_chatbot/.venv/lib/python3.8/site-packages (from unstructured->-r ../reqirement.txt (line 5)) (2022.12.7)\n",
      "Requirement already satisfied: typing_extensions>=3.10.0.0 in /Users/a/Desktop/Artefact/ABI/chatbot/abi_chatbot/.venv/lib/python3.8/site-packages (from PyPDF2->-r ../reqirement.txt (line 6)) (4.5.0)\n",
      "Requirement already satisfied: aiosignal>=1.1.2 in /Users/a/Desktop/Artefact/ABI/chatbot/abi_chatbot/.venv/lib/python3.8/site-packages (from aiohttp<4.0.0,>=3.8.3->langchain==0.0.112->-r ../reqirement.txt (line 2)) (1.3.1)\n",
      "Requirement already satisfied: charset-normalizer<4.0,>=2.0 in /Users/a/Desktop/Artefact/ABI/chatbot/abi_chatbot/.venv/lib/python3.8/site-packages (from aiohttp<4.0.0,>=3.8.3->langchain==0.0.112->-r ../reqirement.txt (line 2)) (3.1.0)\n",
      "Requirement already satisfied: frozenlist>=1.1.1 in /Users/a/Desktop/Artefact/ABI/chatbot/abi_chatbot/.venv/lib/python3.8/site-packages (from aiohttp<4.0.0,>=3.8.3->langchain==0.0.112->-r ../reqirement.txt (line 2)) (1.3.3)\n",
      "Requirement already satisfied: multidict<7.0,>=4.5 in /Users/a/Desktop/Artefact/ABI/chatbot/abi_chatbot/.venv/lib/python3.8/site-packages (from aiohttp<4.0.0,>=3.8.3->langchain==0.0.112->-r ../reqirement.txt (line 2)) (6.0.4)\n",
      "Requirement already satisfied: yarl<2.0,>=1.0 in /Users/a/Desktop/Artefact/ABI/chatbot/abi_chatbot/.venv/lib/python3.8/site-packages (from aiohttp<4.0.0,>=3.8.3->langchain==0.0.112->-r ../reqirement.txt (line 2)) (1.8.2)\n",
      "Requirement already satisfied: async-timeout<5.0,>=4.0.0a3 in /Users/a/Desktop/Artefact/ABI/chatbot/abi_chatbot/.venv/lib/python3.8/site-packages (from aiohttp<4.0.0,>=3.8.3->langchain==0.0.112->-r ../reqirement.txt (line 2)) (4.0.2)\n",
      "Requirement already satisfied: attrs>=17.3.0 in /Users/a/Desktop/Artefact/ABI/chatbot/abi_chatbot/.venv/lib/python3.8/site-packages (from aiohttp<4.0.0,>=3.8.3->langchain==0.0.112->-r ../reqirement.txt (line 2)) (22.2.0)\n",
      "Requirement already satisfied: typing-inspect>=0.4.0 in /Users/a/Desktop/Artefact/ABI/chatbot/abi_chatbot/.venv/lib/python3.8/site-packages (from dataclasses-json->llama-index==0.4.28->-r ../reqirement.txt (line 1)) (0.8.0)\n",
      "Requirement already satisfied: marshmallow-enum<2.0.0,>=1.5.1 in /Users/a/Desktop/Artefact/ABI/chatbot/abi_chatbot/.venv/lib/python3.8/site-packages (from dataclasses-json->llama-index==0.4.28->-r ../reqirement.txt (line 1)) (1.5.1)\n",
      "Requirement already satisfied: marshmallow<4.0.0,>=3.3.0 in /Users/a/Desktop/Artefact/ABI/chatbot/abi_chatbot/.venv/lib/python3.8/site-packages (from dataclasses-json->llama-index==0.4.28->-r ../reqirement.txt (line 1)) (3.19.0)\n",
      "Requirement already satisfied: idna<4,>=2.5 in /Users/a/Desktop/Artefact/ABI/chatbot/abi_chatbot/.venv/lib/python3.8/site-packages (from requests<3,>=2->langchain==0.0.112->-r ../reqirement.txt (line 2)) (3.4)\n",
      "Requirement already satisfied: urllib3<1.27,>=1.21.1 in /Users/a/Desktop/Artefact/ABI/chatbot/abi_chatbot/.venv/lib/python3.8/site-packages (from requests<3,>=2->langchain==0.0.112->-r ../reqirement.txt (line 2)) (1.26.15)\n"
     ]
    },
    {
     "name": "stdout",
     "output_type": "stream",
     "text": [
      "Requirement already satisfied: greenlet!=0.4.17 in /Users/a/Desktop/Artefact/ABI/chatbot/abi_chatbot/.venv/lib/python3.8/site-packages (from SQLAlchemy<2,>=1->langchain==0.0.112->-r ../reqirement.txt (line 2)) (2.0.2)\n",
      "Requirement already satisfied: wrapt<1.15,>=1.13 in /Users/a/Desktop/Artefact/ABI/chatbot/abi_chatbot/.venv/lib/python3.8/site-packages (from argilla->unstructured->-r ../reqirement.txt (line 5)) (1.14.1)\n",
      "Requirement already satisfied: deprecated~=1.2.0 in /Users/a/Desktop/Artefact/ABI/chatbot/abi_chatbot/.venv/lib/python3.8/site-packages (from argilla->unstructured->-r ../reqirement.txt (line 5)) (1.2.13)\n",
      "Requirement already satisfied: rich<=13.0.1 in /Users/a/Desktop/Artefact/ABI/chatbot/abi_chatbot/.venv/lib/python3.8/site-packages (from argilla->unstructured->-r ../reqirement.txt (line 5)) (13.0.1)\n",
      "Requirement already satisfied: backoff in /Users/a/Desktop/Artefact/ABI/chatbot/abi_chatbot/.venv/lib/python3.8/site-packages (from argilla->unstructured->-r ../reqirement.txt (line 5)) (2.2.1)\n",
      "Requirement already satisfied: monotonic in /Users/a/Desktop/Artefact/ABI/chatbot/abi_chatbot/.venv/lib/python3.8/site-packages (from argilla->unstructured->-r ../reqirement.txt (line 5)) (1.6)\n",
      "Requirement already satisfied: packaging>=20.0 in /Users/a/Desktop/Artefact/ABI/chatbot/abi_chatbot/.venv/lib/python3.8/site-packages (from argilla->unstructured->-r ../reqirement.txt (line 5)) (23.0)\n",
      "Requirement already satisfied: httpx<0.24,>=0.15 in /Users/a/Desktop/Artefact/ABI/chatbot/abi_chatbot/.venv/lib/python3.8/site-packages (from argilla->unstructured->-r ../reqirement.txt (line 5)) (0.23.3)\n",
      "Requirement already satisfied: pytz>=2020.1 in /Users/a/Desktop/Artefact/ABI/chatbot/abi_chatbot/.venv/lib/python3.8/site-packages (from pandas->llama-index==0.4.28->-r ../reqirement.txt (line 1)) (2022.7.1)\n",
      "Requirement already satisfied: python-dateutil>=2.8.1 in /Users/a/Desktop/Artefact/ABI/chatbot/abi_chatbot/.venv/lib/python3.8/site-packages (from pandas->llama-index==0.4.28->-r ../reqirement.txt (line 1)) (2.8.2)\n",
      "Requirement already satisfied: soupsieve>1.2 in /Users/a/Desktop/Artefact/ABI/chatbot/abi_chatbot/.venv/lib/python3.8/site-packages (from beautifulsoup4->wikipedia->-r ../reqirement.txt (line 4)) (2.4)\n",
      "Requirement already satisfied: importlib-metadata>=4.4 in /Users/a/Desktop/Artefact/ABI/chatbot/abi_chatbot/.venv/lib/python3.8/site-packages (from markdown->unstructured->-r ../reqirement.txt (line 5)) (6.0.0)\n",
      "Requirement already satisfied: regex>=2021.8.3 in /Users/a/Desktop/Artefact/ABI/chatbot/abi_chatbot/.venv/lib/python3.8/site-packages (from nltk->unstructured->-r ../reqirement.txt (line 5)) (2022.10.31)\n",
      "Requirement already satisfied: joblib in /Users/a/Desktop/Artefact/ABI/chatbot/abi_chatbot/.venv/lib/python3.8/site-packages (from nltk->unstructured->-r ../reqirement.txt (line 5)) (1.2.0)\n",
      "Requirement already satisfied: click in /Users/a/Desktop/Artefact/ABI/chatbot/abi_chatbot/.venv/lib/python3.8/site-packages (from nltk->unstructured->-r ../reqirement.txt (line 5)) (8.1.3)\n",
      "Requirement already satisfied: et-xmlfile in /Users/a/Desktop/Artefact/ABI/chatbot/abi_chatbot/.venv/lib/python3.8/site-packages (from openpyxl->unstructured->-r ../reqirement.txt (line 5)) (1.1.0)\n",
      "Requirement already satisfied: XlsxWriter>=0.5.7 in /Users/a/Desktop/Artefact/ABI/chatbot/abi_chatbot/.venv/lib/python3.8/site-packages (from python-pptx->unstructured->-r ../reqirement.txt (line 5)) (3.0.9)\n",
      "Requirement already satisfied: huggingface-hub<1.0,>=0.11.0 in /Users/a/Desktop/Artefact/ABI/chatbot/abi_chatbot/.venv/lib/python3.8/site-packages (from transformers->llama-index==0.4.28->-r ../reqirement.txt (line 1)) (0.13.2)\n",
      "Requirement already satisfied: filelock in /Users/a/Desktop/Artefact/ABI/chatbot/abi_chatbot/.venv/lib/python3.8/site-packages (from transformers->llama-index==0.4.28->-r ../reqirement.txt (line 1)) (3.9.1)\n",
      "Requirement already satisfied: tokenizers!=0.11.3,<0.14,>=0.11.1 in /Users/a/Desktop/Artefact/ABI/chatbot/abi_chatbot/.venv/lib/python3.8/site-packages (from transformers->llama-index==0.4.28->-r ../reqirement.txt (line 1)) (0.13.2)\n",
      "Requirement already satisfied: sniffio in /Users/a/Desktop/Artefact/ABI/chatbot/abi_chatbot/.venv/lib/python3.8/site-packages (from httpx<0.24,>=0.15->argilla->unstructured->-r ../reqirement.txt (line 5)) (1.3.0)\n",
      "Requirement already satisfied: rfc3986[idna2008]<2,>=1.3 in /Users/a/Desktop/Artefact/ABI/chatbot/abi_chatbot/.venv/lib/python3.8/site-packages (from httpx<0.24,>=0.15->argilla->unstructured->-r ../reqirement.txt (line 5)) (1.5.0)\n",
      "Requirement already satisfied: httpcore<0.17.0,>=0.15.0 in /Users/a/Desktop/Artefact/ABI/chatbot/abi_chatbot/.venv/lib/python3.8/site-packages (from httpx<0.24,>=0.15->argilla->unstructured->-r ../reqirement.txt (line 5)) (0.16.3)\n",
      "Requirement already satisfied: zipp>=0.5 in /Users/a/Desktop/Artefact/ABI/chatbot/abi_chatbot/.venv/lib/python3.8/site-packages (from importlib-metadata>=4.4->markdown->unstructured->-r ../reqirement.txt (line 5)) (3.15.0)\n",
      "Requirement already satisfied: six>=1.5 in /Users/a/Desktop/Artefact/ABI/chatbot/abi_chatbot/.venv/lib/python3.8/site-packages (from python-dateutil>=2.8.1->pandas->llama-index==0.4.28->-r ../reqirement.txt (line 1)) (1.16.0)\n",
      "Requirement already satisfied: commonmark<0.10.0,>=0.9.0 in /Users/a/Desktop/Artefact/ABI/chatbot/abi_chatbot/.venv/lib/python3.8/site-packages (from rich<=13.0.1->argilla->unstructured->-r ../reqirement.txt (line 5)) (0.9.1)\n",
      "Requirement already satisfied: pygments<3.0.0,>=2.6.0 in /Users/a/Desktop/Artefact/ABI/chatbot/abi_chatbot/.venv/lib/python3.8/site-packages (from rich<=13.0.1->argilla->unstructured->-r ../reqirement.txt (line 5)) (2.14.0)\n",
      "Requirement already satisfied: mypy-extensions>=0.3.0 in /Users/a/Desktop/Artefact/ABI/chatbot/abi_chatbot/.venv/lib/python3.8/site-packages (from typing-inspect>=0.4.0->dataclasses-json->llama-index==0.4.28->-r ../reqirement.txt (line 1)) (1.0.0)\n",
      "Requirement already satisfied: h11<0.15,>=0.13 in /Users/a/Desktop/Artefact/ABI/chatbot/abi_chatbot/.venv/lib/python3.8/site-packages (from httpcore<0.17.0,>=0.15.0->httpx<0.24,>=0.15->argilla->unstructured->-r ../reqirement.txt (line 5)) (0.14.0)\n",
      "Requirement already satisfied: anyio<5.0,>=3.0 in /Users/a/Desktop/Artefact/ABI/chatbot/abi_chatbot/.venv/lib/python3.8/site-packages (from httpcore<0.17.0,>=0.15.0->httpx<0.24,>=0.15->argilla->unstructured->-r ../reqirement.txt (line 5)) (3.6.2)\n"
     ]
    }
   ],
   "source": [
    "!pip install -r ../reqirement.txt"
   ]
  },
  {
   "cell_type": "code",
   "execution_count": 2,
   "id": "c22d04f8",
   "metadata": {},
   "outputs": [],
   "source": [
    "import sys \n",
    "sys.path.insert(0, '/Users/a/Desktop/Artefact/ABI/chatbot/abi_chatbot/')"
   ]
  },
  {
   "cell_type": "code",
   "execution_count": 3,
   "id": "77e8a90d",
   "metadata": {},
   "outputs": [],
   "source": [
    "import os\n",
    "import sys\n",
    "from importlib import reload\n",
    "import json\n",
    "\n",
    "config = json.load(open('../../config.json'))\n",
    "os.environ[\"OPENAI_API_KEY\"] = config['openai_api_key']"
   ]
  },
  {
   "cell_type": "code",
   "execution_count": 4,
   "id": "943b6069",
   "metadata": {},
   "outputs": [],
   "source": [
    "os.environ[\"TOKENIZERS_PARALLELISM\"]= 'true'"
   ]
  },
  {
   "cell_type": "code",
   "execution_count": null,
   "id": "a45ba277",
   "metadata": {},
   "outputs": [],
   "source": [
    "from specialized_chatbot import chatbot\n",
    "reload(chatbot)"
   ]
  },
  {
   "cell_type": "markdown",
   "id": "12b656aa",
   "metadata": {},
   "source": [
    "### Load data \n",
    "Load data from a directory, data in that directory can be txt, pdf, doc, etc"
   ]
  },
  {
   "cell_type": "code",
   "execution_count": 13,
   "id": "9c214a05",
   "metadata": {},
   "outputs": [
    {
     "data": {
      "text/plain": [
       "['/Users/a/Desktop/Artefact/ABI/chatbot/abi_chatbot/examples',\n",
       " '/Library/Frameworks/Python.framework/Versions/3.8/lib/python38.zip',\n",
       " '/Library/Frameworks/Python.framework/Versions/3.8/lib/python3.8',\n",
       " '/Library/Frameworks/Python.framework/Versions/3.8/lib/python3.8/lib-dynload',\n",
       " '',\n",
       " '/Users/a/Desktop/Artefact/ABI/chatbot/abi_chatbot/.venv/lib/python3.8/site-packages']"
      ]
     },
     "execution_count": 13,
     "metadata": {},
     "output_type": "execute_result"
    }
   ],
   "source": []
  },
  {
   "cell_type": "code",
   "execution_count": null,
   "id": "f97b28db",
   "metadata": {},
   "outputs": [
    {
     "name": "stderr",
     "output_type": "stream",
     "text": [
      "Token indices sequence length is longer than the specified maximum sequence length for this model (2135 > 1024). Running this sequence through the model will result in indexing errors\n"
     ]
    }
   ],
   "source": [
    "bot = chatbot.Chatbot('../../data')"
   ]
  },
  {
   "cell_type": "code",
   "execution_count": 23,
   "id": "bd7a65fc",
   "metadata": {},
   "outputs": [
    {
     "name": "stderr",
     "output_type": "stream",
     "text": [
      "INFO:root:> [build_index_from_documents] Total LLM token usage: 0 tokens\n",
      "INFO:root:> [build_index_from_documents] Total embedding token usage: 231294 tokens\n"
     ]
    }
   ],
   "source": [
    "bot = chatbot.Chatbot('../../data')"
   ]
  },
  {
   "cell_type": "code",
   "execution_count": 9,
   "id": "23691223",
   "metadata": {},
   "outputs": [
    {
     "name": "stderr",
     "output_type": "stream",
     "text": [
      "INFO:root:> [query] Total LLM token usage: 1232 tokens\n",
      "INFO:root:> [query] Total embedding token usage: 21 tokens\n",
      "INFO:root:推荐几款Budweiser啤酒\n"
     ]
    },
    {
     "name": "stdout",
     "output_type": "stream",
     "text": [
      "\n",
      "1. Budweiser Budvar Original Lager\n",
      "2. Budweiser Budvar Dark Lager\n",
      "3. Budweiser Budvar Non-Alcoholic Lager\n",
      "4. Budweiser Budvar Premium Lager\n",
      "5. Budweiser Budvar B:Free Gluten-Free Lager\n"
     ]
    }
   ],
   "source": [
    "print(bot.conversation('推荐几款Budweiser啤酒'))"
   ]
  },
  {
   "cell_type": "code",
   "execution_count": 38,
   "id": "1a371887",
   "metadata": {},
   "outputs": [
    {
     "name": "stderr",
     "output_type": "stream",
     "text": [
      "Token indices sequence length is longer than the specified maximum sequence length for this model (1171 > 1024). Running this sequence through the model will result in indexing errors\n",
      "INFO:root:> [query] Total LLM token usage: 1476 tokens\n",
      "INFO:root:> [query] Total embedding token usage: 25 tokens\n"
     ]
    },
    {
     "name": "stdout",
     "output_type": "stream",
     "text": [
      "\n",
      "1. Harbin Beer Original Lager: 浓郁的啤酒花香气，清新的口感，淡淡的麦香，清凉的回味。\n",
      "2. Harbin Beer Ice: 清新的口感，清凉的回味，淡淡的麦香，清凉的回味，更加清爽。\n",
      "3. Harbin Beer Light: 清新的口感，淡淡的麦香，清凉的回味，更加清爽，更加清淡。\n",
      "4. Harbin Beer Dark: 浓郁的啤酒花香气，淡淡的麦香，清凉的回味，更加浓郁，更加醇厚。\n"
     ]
    }
   ],
   "source": [
    "print(bot.conversation('推荐几款哈尔滨啤酒'))"
   ]
  },
  {
   "cell_type": "markdown",
   "id": "83975540",
   "metadata": {},
   "source": [
    "## Answer the question\n",
    "Answer one question"
   ]
  },
  {
   "cell_type": "code",
   "execution_count": 219,
   "id": "39a841fa",
   "metadata": {},
   "outputs": [
    {
     "name": "stderr",
     "output_type": "stream",
     "text": [
      "INFO:root:> [query] Total LLM token usage: 2520 tokens\n",
      "INFO:root:> [query] Total embedding token usage: 21 tokens\n"
     ]
    },
    {
     "name": "stdout",
     "output_type": "stream",
     "text": [
      "\n",
      "Budweiser推荐的几款啤酒包括：\n",
      "\n",
      "1. Budweiser经典啤酒：酒精度5.0%VOL，苦度10 IBU，保质期9个月。\n",
      "2. Budweiser烈焰啤酒：酒精度5.5%VOL，苦度20 IBU，保质期9个月。\n",
      "3. Budweiser淡色拉格啤酒：酒精度4.5%VOL，苦度15 IBU，保质期6个月。\n",
      "4. Budweiser芒果浑浊IPA啤酒：酒精度5.5%VOL，苦度40 IBU，保质期9个月。\n",
      "5. Budweiser兰比克酸果啤酒：酒精度5.1%VOL，苦度12%，保质期12个月。\n"
     ]
    }
   ],
   "source": [
    "print(bot.conversation('推荐几款Budweiser啤酒'))"
   ]
  },
  {
   "cell_type": "code",
   "execution_count": 228,
   "id": "3b8e3f2c",
   "metadata": {},
   "outputs": [
    {
     "name": "stderr",
     "output_type": "stream",
     "text": [
      "INFO:root:> [query] Total LLM token usage: 3229 tokens\n",
      "INFO:root:> [query] Total embedding token usage: 11 tokens\n"
     ]
    },
    {
     "name": "stdout",
     "output_type": "stream",
     "text": [
      "\n",
      "\n",
      "If you are looking for a beer that is not from the Budweiser brand, you could try Rolling Rock, Busch, Shock Top, Natural Light, Natural Ice, Naturdays, or Natty Daddy. All of these beers are brewed by Anheuser-Busch and have different flavor profiles. Rolling Rock is a pale lager, Busch is an economy brand lager, Shock Top is a Belgian-style wheat ale, Natural Light is a reduced-calorie pale lager, Natural Ice is an ice beer, Naturdays is a strawberry lemonade, pineapple flavored beer, and Natty Daddy is a malt liquor.\n"
     ]
    }
   ],
   "source": [
    "print(bot.conversation('Any beer recommand? No Budweiser please'))"
   ]
  },
  {
   "cell_type": "markdown",
   "id": "71279727",
   "metadata": {},
   "source": [
    "## continue conversation\n",
    "continue convsersation"
   ]
  },
  {
   "cell_type": "code",
   "execution_count": 164,
   "id": "0c7bb828",
   "metadata": {},
   "outputs": [
    {
     "name": "stderr",
     "output_type": "stream",
     "text": [
      "INFO:root:> [query] Total LLM token usage: 2887 tokens\n",
      "INFO:root:> [query] Total embedding token usage: 584 tokens\n"
     ]
    },
    {
     "name": "stdout",
     "output_type": "stream",
     "text": [
      "是的，我知道百威。百威是一家跨国啤酒公司，总部位于美国，在全球拥有超过200家酿酒厂，拥有众多知名品牌，如百威王牌、百威英博、百威金牌等。\n"
     ]
    }
   ],
   "source": [
    "print(bot.continue_conversation('你知道百威吗'))"
   ]
  },
  {
   "cell_type": "code",
   "execution_count": 166,
   "id": "9049f320",
   "metadata": {},
   "outputs": [
    {
     "name": "stderr",
     "output_type": "stream",
     "text": [
      "INFO:root:> [query] Total LLM token usage: 3076 tokens\n",
      "INFO:root:> [query] Total embedding token usage: 768 tokens\n"
     ]
    },
    {
     "name": "stdout",
     "output_type": "stream",
     "text": [
      "是的，百威拥有众多知名啤酒，包括百威王牌（Budweiser）、百威英博（Budweiser InBev）、百威金牌（Budweiser Gold）、百威绿色（Budweiser Green）、百威红色（Budweiser Red）等。\n"
     ]
    }
   ],
   "source": [
    "print(bot.continue_conversation('你知道它有什么啤酒吗'))"
   ]
  },
  {
   "cell_type": "code",
   "execution_count": 167,
   "id": "2019cd72",
   "metadata": {},
   "outputs": [
    {
     "name": "stderr",
     "output_type": "stream",
     "text": [
      "INFO:root:> [query] Total LLM token usage: 3243 tokens\n",
      "INFO:root:> [query] Total embedding token usage: 784 tokens\n"
     ]
    },
    {
     "name": "stdout",
     "output_type": "stream",
     "text": [
      "Budweiser拥有众多知名品牌，如百威王牌、百威英博、百威金牌等。其中，百威王牌是一款经典的美式啤酒，酒精度为5.0%VOL，苦度为11 IBU，保质期为9个月；百威英博是一款英式淡啤，酒精度为4.7%VOL，苦度为10 IBU，保质期为9个月；百威金牌是一款淡色拉格啤酒，酒精度为4.5%VOL，苦度为15 IBU，保质期为9个月。\n"
     ]
    }
   ],
   "source": [
    "print(bot.continue_conversation('推荐几款Budweiser啤酒'))"
   ]
  },
  {
   "cell_type": "code",
   "execution_count": 168,
   "id": "039ee9cf",
   "metadata": {},
   "outputs": [
    {
     "name": "stderr",
     "output_type": "stream",
     "text": [
      "INFO:root:> [query] Total LLM token usage: 3021 tokens\n",
      "INFO:root:> [query] Total embedding token usage: 722 tokens\n"
     ]
    },
    {
     "name": "stdout",
     "output_type": "stream",
     "text": [
      "百威王牌（Budweiser）是百威最受欢迎的啤酒，它是一款经典的美式啤酒，酒体清澈透明，口感清爽，酒精度为5.0%VOL，苦度为12 IBU，保质期为9个月。\n"
     ]
    }
   ],
   "source": [
    "print(bot.continue_conversation('第一款是啥'))"
   ]
  },
  {
   "cell_type": "code",
   "execution_count": 170,
   "id": "6d238081",
   "metadata": {},
   "outputs": [
    {
     "name": "stderr",
     "output_type": "stream",
     "text": [
      "INFO:root:> [query] Total LLM token usage: 3111 tokens\n",
      "INFO:root:> [query] Total embedding token usage: 905 tokens\n"
     ]
    },
    {
     "name": "stdout",
     "output_type": "stream",
     "text": [
      "你问的是百威有什么啤酒，以及推荐几款百威啤酒。\n"
     ]
    }
   ],
   "source": [
    "print(bot.continue_conversation('我问了什么'))"
   ]
  },
  {
   "cell_type": "code",
   "execution_count": 187,
   "id": "591d4d52",
   "metadata": {},
   "outputs": [
    {
     "name": "stderr",
     "output_type": "stream",
     "text": [
      "INFO:root:> [query] Total LLM token usage: 2328 tokens\n",
      "INFO:root:> [query] Total embedding token usage: 76 tokens\n"
     ]
    },
    {
     "name": "stdout",
     "output_type": "stream",
     "text": [
      "\n",
      "For a diverse world, where girls can box and boys can wear pink and eat sweets, why not combine the sweet strawberry with the refreshing ale? Right Hook, a Helles with 4.5% ABV and 15 IBU, and Flipping Mango, a Hazy IPA with 5.5% ABV and 40 IBU, are perfect for the occasion. For a more romantic experience, try the Lambic Fruits Beer from Belgium, with 12% ABV and 5.1% VOL.\n"
     ]
    }
   ],
   "source": [
    "print(bot.continue_conversation('recommand some beer please'))"
   ]
  },
  {
   "cell_type": "code",
   "execution_count": 188,
   "id": "c0a50836",
   "metadata": {},
   "outputs": [
    {
     "name": "stderr",
     "output_type": "stream",
     "text": [
      "INFO:root:> [query] Total LLM token usage: 2348 tokens\n",
      "INFO:root:> [query] Total embedding token usage: 154 tokens\n"
     ]
    },
    {
     "name": "stdout",
     "output_type": "stream",
     "text": [
      "For a special occasion, you can also consider customizing your own beer. We offer customized labels and packaging for bottles and cans, and can develop custom recipes for you. We also offer gift boxes for special occasions.\n"
     ]
    }
   ],
   "source": [
    "print(bot.continue_conversation('any thing else?'))"
   ]
  },
  {
   "cell_type": "code",
   "execution_count": 189,
   "id": "0f4f852b",
   "metadata": {},
   "outputs": [
    {
     "name": "stderr",
     "output_type": "stream",
     "text": [
      "INFO:root:> [query] Total LLM token usage: 2445 tokens\n",
      "INFO:root:> [query] Total embedding token usage: 88 tokens\n"
     ]
    },
    {
     "name": "stdout",
     "output_type": "stream",
     "text": [
      "科罗娜，拳击猫客制化啤酒，为您的特殊场合提供定制化的解决方案！我们提供瓶装和听装的定制化标签和包装，并且可以为您开发定制的配方。我们还提供特殊场合的礼盒定制包装。让您的特殊场合更加难忘！\n"
     ]
    }
   ],
   "source": [
    "print(bot.continue_conversation('Write me an advertisement for 科罗娜'))"
   ]
  },
  {
   "cell_type": "code",
   "execution_count": 191,
   "id": "92069f12",
   "metadata": {},
   "outputs": [
    {
     "name": "stderr",
     "output_type": "stream",
     "text": [
      "INFO:root:> [query] Total LLM token usage: 2911 tokens\n",
      "INFO:root:> [query] Total embedding token usage: 649 tokens\n"
     ]
    },
    {
     "name": "stdout",
     "output_type": "stream",
     "text": [
      "Korona, Punch Cat Customized Beer, provides you with customized solutions for your special occasions! We offer customized labels and packaging for both bottles and cans, and can develop customized recipes for you. We have a variety of craft beers, from Punch Cat Strawberry Blast, Punch Cat Right Hook, Punch Cat Flipping Mango, Punch Cat Billy Fanny Wild Cherry, to Punch Cat Lambic Fruit Beer, you can choose the beer that best suits your taste. We also offer special occasion gift box custom packaging, making your special occasions even more unforgettable!\n"
     ]
    }
   ],
   "source": [
    "print(bot.continue_conversation('Write it longer in English please'))"
   ]
  },
  {
   "cell_type": "code",
   "execution_count": 171,
   "id": "b8035d75",
   "metadata": {},
   "outputs": [
    {
     "name": "stderr",
     "output_type": "stream",
     "text": [
      "INFO:root:> [query] Total LLM token usage: 3586 tokens\n",
      "INFO:root:> [query] Total embedding token usage: 10 tokens\n"
     ]
    },
    {
     "name": "stdout",
     "output_type": "stream",
     "text": [
      "\n",
      "\n",
      "Yes, I know about Budweiser. Budweiser is an American-style pale lager, part of Belgian company AB InBev. It is available in over 80 countries, though not under the Budweiser name in places where Anheuser-Busch does not own the trademark. Budweiser has been involved in multiple trademark disputes with the Budweiser Budvar Brewery of České Budějovice over the trademark rights to the name \"Budweiser\". Budweiser has been distributed in many sizes and variety of containers, including cans and bottles ranging from 7–40 US fluid ounces (210–1,180 ml). Budweiser is produced using barley malt, rice, water, hops and yeast, and does not use any animal products in the brewing process. In July 2006, Anheuser-Busch brewed a version of Budweiser with organic rice for sale in Mexico. It has yet to extend this practice to any other countries. In addition to the regular Budweiser, Anheuser-Busch brews several different beers under the Budweiser brand, including Bud Light, Bud Ice, and Bud Light Lime. In July 2010, Anheuser-Busch launched Budweiser 66 in the United Kingdom. Budweiser Brew No.66 has 4% alcohol by volume, and is brewed and distributed in the UK by Inbev UK Limited. In 2020, Budweiser introduced Bud Light Seltzer. In August 2020, Bud Light Seltzers added grapefruit, cranberry and pineapple flavors, to its lineup.\n"
     ]
    }
   ],
   "source": [
    "print(bot.continue_conversation('Do you konw about Budweiser?'))"
   ]
  },
  {
   "cell_type": "code",
   "execution_count": 172,
   "id": "96ca5ef6",
   "metadata": {},
   "outputs": [
    {
     "name": "stderr",
     "output_type": "stream",
     "text": [
      "INFO:root:> [query] Total LLM token usage: 3731 tokens\n",
      "INFO:root:> [query] Total embedding token usage: 9 tokens\n"
     ]
    },
    {
     "name": "stdout",
     "output_type": "stream",
     "text": [
      "\n",
      "Anheuser-Busch has a long history of sponsoring motorsports events, beginning in 1963 when they sponsored the Miss Budweiser hydroplanes. The company has sponsored the Busch Light Clash at Daytona International Speedway since 1979, and in 2021 the event was moved to the Los Angeles Memorial Coliseum. In 2013, Anheuser-Busch moved their Daytona Speedweeks race sponsorship to the Duel races after the departure of longtime Duel title sponsor Gatorade. Cup Series title sponsor Sprint became the title sponsor for this race, which was renamed from \"The Shootout\" to \"The Unlimited\" (to promote Sprint's cell phone unlimited plan). The race established an incentive for drivers to earn pole positions during the NASCAR season, which up to that time, still offered relatively tiny cash prizes. Likewise, at no time have pole winners earned bonus championship points. The event was also seen as a way to expand the Speedweeks activities leading up to the Daytona 500. Previously, the weekend before the Daytona 500 featured only minor support events, and the Winston Cup competitors ordinarily would not have taken to the track until Wednesday. The Busch Clash allowed the Winston Cup regulars to kick off the week live on CBS. When Sprint left NASCAR after the 2016 season, Advance Auto Parts became the title sponsor in 2017 and the event was renamed to its original name of \"The Clash\". Advanced Auto Parts did not return as the title sponsor in 2020, which opened the door for Anheuser-Busch (which dropped its sponsorship of the Duel races in 2016) returned for a second stint as the title sponsor, and the Busch Clash name was brought back. The 1987 race, won by Bill Elliott, was completed at an average speed of 197.802 mph. It stands as the fastest sanctioned race in the history of NASCAR (though it was headlined the event as the \"fastest race\" of the season).\n"
     ]
    }
   ],
   "source": [
    "print(bot.continue_conversation('Plese list the history for that company'))"
   ]
  },
  {
   "cell_type": "markdown",
   "id": "1342edd4",
   "metadata": {},
   "source": [
    "save the bot as json"
   ]
  },
  {
   "cell_type": "code",
   "execution_count": 37,
   "id": "3b103bc9",
   "metadata": {},
   "outputs": [],
   "source": [
    "bot.save_to_disk('bot.json')"
   ]
  },
  {
   "cell_type": "code",
   "execution_count": 17,
   "id": "2f38d8a1",
   "metadata": {},
   "outputs": [],
   "source": [
    "bot.save_to_disk('../../bot.json')"
   ]
  },
  {
   "cell_type": "markdown",
   "id": "0e4f7904",
   "metadata": {},
   "source": [
    "load the bot"
   ]
  },
  {
   "cell_type": "code",
   "execution_count": 25,
   "id": "c639b93c",
   "metadata": {},
   "outputs": [],
   "source": [
    "bot = chatbot.Chatbot.load_from_disk('bot.json')"
   ]
  },
  {
   "cell_type": "code",
   "execution_count": 26,
   "id": "0c1aa6a2",
   "metadata": {},
   "outputs": [
    {
     "name": "stderr",
     "output_type": "stream",
     "text": [
      "Token indices sequence length is longer than the specified maximum sequence length for this model (2302 > 1024). Running this sequence through the model will result in indexing errors\n",
      "INFO:root:> [query] Total LLM token usage: 2344 tokens\n",
      "INFO:root:> [query] Total embedding token usage: 18 tokens\n"
     ]
    },
    {
     "data": {
      "text/plain": [
       "'\\n拳击猫 右勾拳 RIGHT HOOK，德式淡色拉格HELLES。'"
      ]
     },
     "execution_count": 26,
     "metadata": {},
     "output_type": "execute_result"
    }
   ],
   "source": [
    "bot.conversation(\"推荐一款拉格酒\")"
   ]
  },
  {
   "cell_type": "code",
   "execution_count": 19,
   "id": "3fdd25dd",
   "metadata": {},
   "outputs": [
    {
     "name": "stderr",
     "output_type": "stream",
     "text": [
      "INFO:root:> [query] Total LLM token usage: 1602 tokens\n",
      "INFO:root:> [query] Total embedding token usage: 26 tokens\n",
      "INFO:root:你知道哈尔滨啤酒吗？\n"
     ]
    },
    {
     "data": {
      "text/plain": [
       "'\\n是的，我知道哈尔滨啤酒。它是中国最早的啤酒，始终坚持品质至上的原则，产品遍布全国，更远销全球30多个国家和地区。它是年轻人的标志性啤酒品牌，通过嘻哈，运动，时尚，电竞等兴趣点和年轻人建立更深层的沟通，成为年轻群体最喜欢的啤酒品牌。2015年，哈尔滨啤酒入选BrandZ中国最有价值品牌100强，2019年哈尔滨啤酒在Brand Finance发布的“全球最具价值啤酒品牌”品牌价值排名上升一位至第四名，成为唯一跻身前五的中国本土品牌。'"
      ]
     },
     "execution_count": 19,
     "metadata": {},
     "output_type": "execute_result"
    }
   ],
   "source": [
    "bot.conversation(\"你知道哈尔滨啤酒吗？\")"
   ]
  },
  {
   "cell_type": "code",
   "execution_count": 215,
   "id": "9e3d474f",
   "metadata": {},
   "outputs": [
    {
     "name": "stderr",
     "output_type": "stream",
     "text": [
      "INFO:root:> [query] Total LLM token usage: 2333 tokens\n",
      "INFO:root:> [query] Total embedding token usage: 23 tokens\n"
     ]
    },
    {
     "data": {
      "text/plain": [
       "'\\n是的，拳击猫的啤酒都很棒！他们的草莓艾尔、芒翻了和比利芙漫野樱桃啤酒都是很受欢迎的啤酒，口感独特，酒精度也很高，可以满足不同口味的需求。'"
      ]
     },
     "execution_count": 215,
     "metadata": {},
     "output_type": "execute_result"
    }
   ],
   "source": [
    "bot.conversation(\"推荐一款它的啤酒好吗\")"
   ]
  },
  {
   "cell_type": "code",
   "execution_count": 30,
   "id": "b2a26d54",
   "metadata": {},
   "outputs": [
    {
     "name": "stderr",
     "output_type": "stream",
     "text": [
      "INFO:root:> [query] Total LLM token usage: 259 tokens\n",
      "INFO:root:> [query] Total embedding token usage: 14 tokens\n"
     ]
    },
    {
     "data": {
      "text/plain": [
       "\"Yes, I know about Blue Girl Beer. It is a German beer brand founded in the 19th century and is currently brewed in South Korea. It is one of the most popular beers in Hong Kong with a market share of 20% in Hong Kong's beer industry. The main ingredients of Blue Girl Beer are water, malt, hops, yeast and adjuncts.\""
      ]
     },
     "execution_count": 30,
     "metadata": {},
     "output_type": "execute_result"
    }
   ],
   "source": [
    "bot.continue_conversation(\"Do you know about bluegirl?\")"
   ]
  },
  {
   "cell_type": "code",
   "execution_count": 21,
   "id": "9fd48739",
   "metadata": {},
   "outputs": [
    {
     "name": "stderr",
     "output_type": "stream",
     "text": [
      "INFO:root:> [query] Total LLM token usage: 298 tokens\n",
      "INFO:root:> [query] Total embedding token usage: 103 tokens\n"
     ]
    },
    {
     "data": {
      "text/plain": [
       "'Blue Girl Beer is a German beer. It is brewed with water, malt, hops, yeast and adjuncts.'"
      ]
     },
     "execution_count": 21,
     "metadata": {},
     "output_type": "execute_result"
    }
   ],
   "source": [
    "bot.continue_conversation(\"What kind of beer it provide?\")"
   ]
  },
  {
   "cell_type": "code",
   "execution_count": 22,
   "id": "8f4fa3b7",
   "metadata": {},
   "outputs": [
    {
     "name": "stderr",
     "output_type": "stream",
     "text": [
      "INFO:root:> [query] Total LLM token usage: 262 tokens\n",
      "INFO:root:> [query] Total embedding token usage: 51 tokens\n"
     ]
    },
    {
     "data": {
      "text/plain": [
       "\"Blue Girl Beer is the main product of Jebsen & Co. It is one of the most popular beers in Hong Kong with a market share of 20% in Hong Kong's beer industry.\""
      ]
     },
     "execution_count": 22,
     "metadata": {},
     "output_type": "execute_result"
    }
   ],
   "source": [
    "bot.continue_conversation(\"Any product of they?\")"
   ]
  },
  {
   "cell_type": "code",
   "execution_count": 34,
   "id": "90fc1753",
   "metadata": {},
   "outputs": [
    {
     "name": "stderr",
     "output_type": "stream",
     "text": [
      "INFO:root:> [query] Total LLM token usage: 2911 tokens\n",
      "INFO:root:> [query] Total embedding token usage: 108 tokens\n"
     ]
    },
    {
     "data": {
      "text/plain": [
       "\"\\n\\nYes, AB InBev produces a variety of other beers, including Budweiser, Corona, Stella Artois, Beck's, Leffe, Hoegaarden, Quilmes, Victoria, Modelo Especial, Michelob Ultra, Sedrin, Klinskoye, Sibirskaya Korona, Chernigivske, Cass, Jupiler, Pilsner Urquell, Tyskie, Lech, Dreher and Ursus.\""
      ]
     },
     "execution_count": 34,
     "metadata": {},
     "output_type": "execute_result"
    }
   ],
   "source": [
    "bot.continue_conversation(\"Any other beer of AB Inbev?\")"
   ]
  },
  {
   "cell_type": "code",
   "execution_count": 1,
   "id": "250b37a9",
   "metadata": {},
   "outputs": [
    {
     "ename": "NameError",
     "evalue": "name 'bot' is not defined",
     "output_type": "error",
     "traceback": [
      "\u001b[0;31m---------------------------------------------------------------------------\u001b[0m",
      "\u001b[0;31mNameError\u001b[0m                                 Traceback (most recent call last)",
      "Cell \u001b[0;32mIn[1], line 1\u001b[0m\n\u001b[0;32m----> 1\u001b[0m \u001b[43mbot\u001b[49m\u001b[38;5;241m.\u001b[39mcontinue_conversation(\u001b[38;5;124m\"\u001b[39m\u001b[38;5;124m帮我给科罗娜写一个广告\u001b[39m\u001b[38;5;124m\"\u001b[39m)\n",
      "\u001b[0;31mNameError\u001b[0m: name 'bot' is not defined"
     ]
    }
   ],
   "source": [
    "bot.continue_conversation(\"帮我给科罗娜写一个广告\")"
   ]
  },
  {
   "cell_type": "code",
   "execution_count": null,
   "id": "8f863c59",
   "metadata": {},
   "outputs": [],
   "source": []
  }
 ],
 "metadata": {
  "kernelspec": {
   "display_name": "Python 3 (ipykernel)",
   "language": "python",
   "name": "python3"
  },
  "language_info": {
   "codemirror_mode": {
    "name": "ipython",
    "version": 3
   },
   "file_extension": ".py",
   "mimetype": "text/x-python",
   "name": "python",
   "nbconvert_exporter": "python",
   "pygments_lexer": "ipython3",
   "version": "3.8.3"
  }
 },
 "nbformat": 4,
 "nbformat_minor": 5
}
