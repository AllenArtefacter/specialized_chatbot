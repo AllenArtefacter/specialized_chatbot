{
 "cells": [
  {
   "cell_type": "markdown",
   "id": "041cac8c",
   "metadata": {},
   "source": [
    "## chatbot Examples\n",
    "This is an example notebook for `specialized_chatbot` tookits"
   ]
  },
  {
   "cell_type": "code",
   "execution_count": 1,
   "id": "5666d35b",
   "metadata": {},
   "outputs": [],
   "source": [
    "%load_ext autoreload\n",
    "%autoreload 2\n",
    "import os\n",
    "import sys\n",
    "from importlib import reload\n",
    "import json\n",
    "config = json.load(open('../../config.json'))\n",
    "os.environ[\"OPENAI_API_KEY\"] = config['openai_api_key']"
   ]
  },
  {
   "cell_type": "code",
   "execution_count": null,
   "id": "cbb20248",
   "metadata": {},
   "outputs": [],
   "source": [
    "!git clone https://github.com/AllenArtefacter/specialized_chatbot.git\n",
    "!cd specialized_chatbot\n",
    "!python setup.py install"
   ]
  },
  {
   "cell_type": "code",
   "execution_count": 2,
   "id": "943b6069",
   "metadata": {},
   "outputs": [],
   "source": [
    "os.environ[\"TOKENIZERS_PARALLELISM\"]= 'true'"
   ]
  },
  {
   "cell_type": "code",
   "execution_count": 394,
   "id": "a45ba277",
   "metadata": {},
   "outputs": [
    {
     "data": {
      "text/plain": [
       "<module 'specialized_chatbot.chatbot' from 'C:\\\\Users\\\\Administrator\\\\Desktop\\\\abi_chatbot\\\\specialized_chatbot\\\\specialized_chatbot\\\\chatbot.py'>"
      ]
     },
     "execution_count": 394,
     "metadata": {},
     "output_type": "execute_result"
    }
   ],
   "source": [
    "from specialized_chatbot import chatbot\n",
    "reload(chatbot)"
   ]
  },
  {
   "cell_type": "markdown",
   "id": "12b656aa",
   "metadata": {},
   "source": [
    "## Load data \n",
    "Load data from a directory, data in that directory can be txt, pdf, doc, etc"
   ]
  },
  {
   "cell_type": "code",
   "execution_count": 218,
   "id": "f97b28db",
   "metadata": {},
   "outputs": [
    {
     "name": "stdout",
     "output_type": "stream",
     "text": [
      "initializing chatbot\n"
     ]
    },
    {
     "name": "stderr",
     "output_type": "stream",
     "text": [
      "INFO:llama_index.token_counter.token_counter:> [build_index_from_documents] Total LLM token usage: 0 tokens\n",
      "INFO:llama_index.token_counter.token_counter:> [build_index_from_documents] Total embedding token usage: 67208 tokens\n"
     ]
    }
   ],
   "source": [
    "bot = chatbot.Chatbot('../data')"
   ]
  },
  {
   "cell_type": "code",
   "execution_count": 327,
   "id": "26801308",
   "metadata": {},
   "outputs": [
    {
     "name": "stdout",
     "output_type": "stream",
     "text": [
      "initializing chatbot\n"
     ]
    },
    {
     "name": "stderr",
     "output_type": "stream",
     "text": [
      "INFO:llama_index.token_counter.token_counter:> [build_index_from_documents] Total LLM token usage: 0 tokens\n",
      "INFO:llama_index.token_counter.token_counter:> [build_index_from_documents] Total embedding token usage: 67278 tokens\n"
     ]
    }
   ],
   "source": [
    "# force the bot answer with same language as in the question\n",
    "bot = chatbot.Chatbot(document_directory='../../data', language_detect=True)"
   ]
  },
  {
   "cell_type": "code",
   "execution_count": 326,
   "id": "72fac5ca",
   "metadata": {},
   "outputs": [
    {
     "data": {
      "text/plain": [
       "'C:\\\\Users\\\\Administrator\\\\Desktop\\\\abi_chatbot\\\\specialized_chatbot\\\\specialized_chatbot'"
      ]
     },
     "execution_count": 326,
     "metadata": {},
     "output_type": "execute_result"
    }
   ],
   "source": [
    "os.getcwd()"
   ]
  },
  {
   "cell_type": "code",
   "execution_count": 303,
   "id": "6cff57a1",
   "metadata": {},
   "outputs": [],
   "source": [
    "bot.language_detect = True"
   ]
  },
  {
   "cell_type": "markdown",
   "id": "83975540",
   "metadata": {},
   "source": [
    "## Answer the question\n",
    "Answer one question"
   ]
  },
  {
   "cell_type": "code",
   "execution_count": 297,
   "id": "39a841fa",
   "metadata": {},
   "outputs": [
    {
     "name": "stderr",
     "output_type": "stream",
     "text": [
      "INFO:root:Chinese detected from prompt:推荐几款啤酒\n",
      "response:\n",
      "INFO:llama_index.token_counter.token_counter:> [query] Total LLM token usage: 1422 tokens\n",
      "INFO:llama_index.token_counter.token_counter:> [query] Total embedding token usage: 33 tokens\n",
      "INFO:root:Please do use Chinese to answer the final question\n",
      "prompt:推荐几款啤酒\n",
      "response:\n"
     ]
    },
    {
     "name": "stdout",
     "output_type": "stream",
     "text": [
      "我可以推荐跨啤酒浮气起泡茶酒、奥地利红牛RED BULL、Fire Ball火龙肉桂威士忌、野牛仙踪波本威士忌和金馥黑标威士忌。\n"
     ]
    }
   ],
   "source": [
    "print(bot.conversation('推荐几款啤酒'))"
   ]
  },
  {
   "cell_type": "code",
   "execution_count": 298,
   "id": "3b8e3f2c",
   "metadata": {},
   "outputs": [
    {
     "name": "stderr",
     "output_type": "stream",
     "text": [
      "INFO:root:English detected from prompt:Any beer recommand? No Budweiser please\n",
      "response:\n",
      "INFO:llama_index.token_counter.token_counter:> [query] Total LLM token usage: 908 tokens\n",
      "INFO:llama_index.token_counter.token_counter:> [query] Total embedding token usage: 26 tokens\n",
      "INFO:root:Please do use English to answer the final question\n",
      "prompt:Any beer recommand? No Budweiser please\n",
      "response:\n"
     ]
    },
    {
     "name": "stdout",
     "output_type": "stream",
     "text": [
      "I would recommend trying a non-alcoholic lager like Budweiser Zero. It has a nice taste and flavour with no aftertaste, and it's a decent pack size and convenient.\n"
     ]
    }
   ],
   "source": [
    "print(bot.conversation('Any beer recommand? No Budweiser please'))"
   ]
  },
  {
   "cell_type": "markdown",
   "id": "71279727",
   "metadata": {},
   "source": [
    "## continue conversation\n",
    "continue convsersation"
   ]
  },
  {
   "cell_type": "code",
   "execution_count": 299,
   "id": "0c7bb828",
   "metadata": {},
   "outputs": [
    {
     "name": "stderr",
     "output_type": "stream",
     "text": [
      "INFO:root:Chinese detected from 你知道百威吗\n",
      "INFO:llama_index.token_counter.token_counter:> [query] Total LLM token usage: 1269 tokens\n",
      "INFO:llama_index.token_counter.token_counter:> [query] Total embedding token usage: 253 tokens\n"
     ]
    },
    {
     "name": "stdout",
     "output_type": "stream",
     "text": [
      "是的，我知道百威。\n"
     ]
    }
   ],
   "source": [
    "print(bot.continue_conversation('你知道百威吗'))"
   ]
  },
  {
   "cell_type": "code",
   "execution_count": 300,
   "id": "9049f320",
   "metadata": {},
   "outputs": [
    {
     "name": "stderr",
     "output_type": "stream",
     "text": [
      "INFO:root:Chinese detected from 你知道它有什么啤酒吗\n",
      "INFO:llama_index.token_counter.token_counter:> [query] Total LLM token usage: 1526 tokens\n",
      "INFO:llama_index.token_counter.token_counter:> [query] Total embedding token usage: 274 tokens\n"
     ]
    },
    {
     "name": "stdout",
     "output_type": "stream",
     "text": [
      "百威推出的高端啤酒产品线包括百威黑金Budweisei MAGNUM，它的特点在于“浓”与“烈”，与产品目标群体和消费场景的特点相符合，经双倍时间酿造酒体呈现琥珀深金色，泡沫绵密丰富，口感强劲浓烈、顺滑有质感，展现浓郁的焦香与麦芽香气，回\n"
     ]
    }
   ],
   "source": [
    "print(bot.continue_conversation('你知道它有什么啤酒吗'))"
   ]
  },
  {
   "cell_type": "code",
   "execution_count": 301,
   "id": "6d238081",
   "metadata": {},
   "outputs": [
    {
     "name": "stderr",
     "output_type": "stream",
     "text": [
      "INFO:root:Chinese detected from 我问了什么\n",
      "INFO:llama_index.token_counter.token_counter:> [query] Total LLM token usage: 1495 tokens\n",
      "INFO:llama_index.token_counter.token_counter:> [query] Total embedding token usage: 456 tokens\n"
     ]
    },
    {
     "name": "stdout",
     "output_type": "stream",
     "text": [
      "你问我是否知道百威，以及它有什么啤酒。\n"
     ]
    }
   ],
   "source": [
    "print(bot.continue_conversation('我问了什么'))"
   ]
  },
  {
   "cell_type": "code",
   "execution_count": 307,
   "id": "591d4d52",
   "metadata": {},
   "outputs": [
    {
     "name": "stderr",
     "output_type": "stream",
     "text": [
      "INFO:root:English detected from recommand some beer please\n",
      "INFO:llama_index.token_counter.token_counter:> [query] Total LLM token usage: 3090 tokens\n",
      "INFO:llama_index.token_counter.token_counter:> [query] Total embedding token usage: 831 tokens\n"
     ]
    },
    {
     "name": "stdout",
     "output_type": "stream",
     "text": [
      "\n",
      "\n",
      "I can recommend Budweisei MAGNUM from Budweiser, which features \"strong\" and \"strong\", which is in line with the characteristics of the target group and consumption scene. After double fermentation, the beer body presents amber dark gold color, foam dense and rich, strong and smooth taste, showing strong burnt aroma and malt aroma, mellow and sweet aftertaste. The alcohol concentration is higher than 5.5°, and the original wort concentration is 13.0°P, both higher than the general product. The product packaging is luxurious, low-key and atmospheric, with a sense of texture and mystery, and has a good reputation, which is recognized by master brewers and expected by consumers.\n"
     ]
    }
   ],
   "source": [
    "print(bot.continue_conversation('recommand some beer please'))"
   ]
  },
  {
   "cell_type": "code",
   "execution_count": 308,
   "id": "c0a50836",
   "metadata": {},
   "outputs": [
    {
     "name": "stderr",
     "output_type": "stream",
     "text": [
      "INFO:root:English detected from any thing else?\n",
      "INFO:llama_index.token_counter.token_counter:> [query] Total LLM token usage: 1453 tokens\n",
      "INFO:llama_index.token_counter.token_counter:> [query] Total embedding token usage: 451 tokens\n"
     ]
    },
    {
     "name": "stdout",
     "output_type": "stream",
     "text": [
      "I don't know.\n"
     ]
    }
   ],
   "source": [
    "print(bot.continue_conversation('any thing else?'))"
   ]
  },
  {
   "cell_type": "code",
   "execution_count": 311,
   "id": "0f4f852b",
   "metadata": {},
   "outputs": [
    {
     "name": "stderr",
     "output_type": "stream",
     "text": [
      "INFO:root:English detected from Write me an advertisement for Corona\n",
      "INFO:llama_index.token_counter.token_counter:> [query] Total LLM token usage: 2271 tokens\n",
      "INFO:llama_index.token_counter.token_counter:> [query] Total embedding token usage: 85 tokens\n"
     ]
    },
    {
     "name": "stdout",
     "output_type": "stream",
     "text": [
      "\n",
      "\n",
      "Corona is the top-selling brand of imported beer in the United States. Enjoy the refreshing taste of Corona Extra, Corona Light, Corona Premier, and Corona Familiar. With a wedge of lime or lemon, Corona adds tartness and flavor to any occasion. Find your beach and make every moment extraordinary with Corona. Despite the confusion caused by the pandemic, Corona has seen an 8.9% increase in sales in the first three months of 2020 and a 24% year-over-year growth in the first three weeks of March 2020. NASCAR Mexico Series, formerly known as the NASCAR Corona Series, is the most prestigious stock car racing series in the country. Enjoy the refreshing taste of Corona and make every moment extraordinary.\n"
     ]
    }
   ],
   "source": [
    "print(bot.continue_conversation('Write me an advertisement for Corona'))"
   ]
  },
  {
   "cell_type": "code",
   "execution_count": 312,
   "id": "92069f12",
   "metadata": {},
   "outputs": [
    {
     "name": "stderr",
     "output_type": "stream",
     "text": [
      "INFO:root:English detected from Write it longer in English please\n",
      "INFO:llama_index.token_counter.token_counter:> [query] Total LLM token usage: 3047 tokens\n",
      "INFO:llama_index.token_counter.token_counter:> [query] Total embedding token usage: 228 tokens\n"
     ]
    },
    {
     "name": "stdout",
     "output_type": "stream",
     "text": [
      "\n",
      "\n",
      "Corona is the top-selling brand of imported beer in the United States. Enjoy the refreshing taste of Corona Extra, Corona Light, Corona Premier, and Corona Familiar. With a wedge of lime or lemon, Corona adds tartness and flavor to any occasion. Find your beach and make every moment extraordinary with Corona. Despite the confusion caused by the pandemic, Corona has seen an 8.9% increase in sales in the first three months of 2020 and a 24% year-over-year growth in the first three weeks of March 2020. NASCAR Mexico Series, formerly known as the NASCAR Corona Series, is the most prestigious stock car racing series in the country. Enjoy the refreshing taste of Corona and make every moment extraordinary. Corona is also the official sponsor of the LPGA Tour tournament Corona Championship, the Mexico national football team, and four of the top-flight professional football teams of Mexico's first division, Liga MX. With Corona, you can enjoy a variety of bottle presentations, ranging from the 207 ml (7.0 U.S. fl oz; 7.3 imp fl oz) ampolleta (labeled Coronita and just referred as the cuartito) up to the 940 ml (31.8 U.S\n"
     ]
    }
   ],
   "source": [
    "print(bot.continue_conversation('Write it longer in English please'))"
   ]
  },
  {
   "cell_type": "markdown",
   "id": "1342edd4",
   "metadata": {},
   "source": [
    "## save the bot as json"
   ]
  },
  {
   "cell_type": "code",
   "execution_count": 256,
   "id": "2f38d8a1",
   "metadata": {},
   "outputs": [],
   "source": [
    "bot.save_to_disk('../bot.json')"
   ]
  },
  {
   "cell_type": "markdown",
   "id": "0e4f7904",
   "metadata": {},
   "source": [
    "## load the bot"
   ]
  },
  {
   "cell_type": "code",
   "execution_count": 189,
   "id": "c639b93c",
   "metadata": {},
   "outputs": [
    {
     "name": "stdout",
     "output_type": "stream",
     "text": [
      "initializing chatbot\n"
     ]
    }
   ],
   "source": [
    "bot = chatbot.Chatbot.load_from_disk('../bot.json')"
   ]
  },
  {
   "cell_type": "code",
   "execution_count": null,
   "id": "0c1aa6a2",
   "metadata": {},
   "outputs": [],
   "source": [
    "bot.conversation(\"推荐一款拉格酒\")"
   ]
  },
  {
   "cell_type": "code",
   "execution_count": null,
   "id": "3fdd25dd",
   "metadata": {},
   "outputs": [],
   "source": [
    "bot.conversation(\"你知道哈尔滨啤酒吗？\")"
   ]
  },
  {
   "cell_type": "code",
   "execution_count": null,
   "id": "9e3d474f",
   "metadata": {},
   "outputs": [],
   "source": [
    "bot.conversation(\"推荐一款它的啤酒好吗\")"
   ]
  },
  {
   "cell_type": "code",
   "execution_count": null,
   "id": "b2a26d54",
   "metadata": {},
   "outputs": [],
   "source": [
    "bot.continue_conversation(\"Do you know about bluegirl?\")"
   ]
  },
  {
   "cell_type": "code",
   "execution_count": null,
   "id": "9fd48739",
   "metadata": {},
   "outputs": [],
   "source": [
    "bot.continue_conversation(\"What kind of beer it provide?\")"
   ]
  },
  {
   "cell_type": "code",
   "execution_count": null,
   "id": "8f4fa3b7",
   "metadata": {},
   "outputs": [],
   "source": [
    "bot.continue_conversation(\"Any product of they?\")"
   ]
  },
  {
   "cell_type": "code",
   "execution_count": null,
   "id": "90fc1753",
   "metadata": {},
   "outputs": [],
   "source": [
    "bot.continue_conversation(\"Any other beer of AB Inbev?\")"
   ]
  },
  {
   "cell_type": "code",
   "execution_count": null,
   "id": "250b37a9",
   "metadata": {},
   "outputs": [],
   "source": [
    "bot.continue_conversation(\"帮我给科罗娜写一个广告\")"
   ]
  },
  {
   "cell_type": "code",
   "execution_count": null,
   "id": "8f863c59",
   "metadata": {},
   "outputs": [],
   "source": [
    "bot.continue_conversation(\"推荐几款百威啤酒，用中文\")"
   ]
  },
  {
   "cell_type": "code",
   "execution_count": null,
   "id": "e1b9d143",
   "metadata": {},
   "outputs": [],
   "source": [
    "bot.continue_conversation(\"请将上一个回答翻译成英文\")"
   ]
  },
  {
   "cell_type": "code",
   "execution_count": null,
   "id": "bdaae3d3",
   "metadata": {},
   "outputs": [],
   "source": [
    "bot.continue_conversation(\"推荐5款百威（budweiser）啤酒，用中文\")"
   ]
  },
  {
   "cell_type": "markdown",
   "id": "b3163537",
   "metadata": {},
   "source": [
    "## Other Parameters?"
   ]
  },
  {
   "cell_type": "code",
   "execution_count": 444,
   "id": "82be3fbd",
   "metadata": {},
   "outputs": [],
   "source": [
    "from llama_index import PromptHelper, LLMPredictor\n",
    "from llama_index.prompts.prompts import QuestionAnswerPrompt\n",
    "from langchain import OpenAI\n",
    "MODEL = \"text-davinci-003\"\n",
    "#MODEL = 'gpt-3.5-turbo'\n",
    "# langchatin.OpenAI basically Openai API\n",
    "from langchain.chat_models import ChatOpenAI\n",
    "LLM = OpenAI(\n",
    "    temperature=0.7,\n",
    "    model_name=MODEL,\n",
    "    max_tokens=256,\n",
    "    model_kwargs=dict(echo=True) # other kwargs passed to openai...create\n",
    "    \n",
    ")\n",
    "# LLM = ChatOpenAI(\n",
    "#     temperature=0.7,\n",
    "#     model_name=MODEL,\n",
    "#     max_tokens=256,\n",
    "#     #model_kwargs=dict(echo=True) # other kwargs passed to openai...create\n",
    "    \n",
    "# )\n",
    "\n",
    "\n",
    "LLM_PREDICTOR = LLMPredictor(llm=LLM)\n",
    "\n",
    "PROMPT_HELPER = PromptHelper(\n",
    "                    max_input_size=2048,  # size of tokens passed to LLM\n",
    "                    num_output=256,       # size of tikens ouputed by LLM\n",
    "                    max_chunk_overlap=20, # overlap chunk size when spliting text\n",
    "                    separator = '\\n\\n'\n",
    ")\n",
    "\n",
    "COMPETITORS = [\n",
    "    \"Heineken\",\n",
    "    \"Molson Coors\",\n",
    "    \"Carlsberg\",\n",
    "    \"Constellation\",\n",
    "    \"Pabst Brewing\"\n",
    "]\n",
    "\n",
    "HALF_OPENED_TEXT_QA_PROMPT_TMPL = (\n",
    "    #\"\"\"Answer the question as truthfully as possible using the provided text \\n\"\"\"\n",
    "    #\"Given the context information and not prior knowledge, answer the question, and if the answer is not relevant to the context, said 'sorry I don't know' \\n\"\n",
    "    \"You will now play the role of the beer master of Boxing Cat, Goose Island, Magnum and always  recommand beers of them\\n \\n\"\n",
    "    f\"If your answer will contains {','.join(COMPETITORS)} or not relevant to the given context,you will still recommand beers in the given context\\n\"\n",
    "    \"---------------------\\n\"\n",
    "    \"Context: {context_str}\"\n",
    "    \"\\n---------------------\\n\"\n",
    "    \"Based on the given context, finish the conversation:\"\n",
    "    \"{query_str}\"\n",
    ")\n",
    "HALF_OPENED_TEXT_QA_PROMPT = QuestionAnswerPrompt(HALF_OPENED_TEXT_QA_PROMPT_TMPL)"
   ]
  },
  {
   "cell_type": "code",
   "execution_count": 462,
   "id": "c458ca9f",
   "metadata": {},
   "outputs": [
    {
     "name": "stdout",
     "output_type": "stream",
     "text": [
      "initializing chatbot\n"
     ]
    },
    {
     "name": "stderr",
     "output_type": "stream",
     "text": [
      "INFO:llama_index.token_counter.token_counter:> [build_index_from_documents] Total LLM token usage: 0 tokens\n",
      "INFO:llama_index.token_counter.token_counter:> [build_index_from_documents] Total embedding token usage: 59892 tokens\n"
     ]
    }
   ],
   "source": [
    "bot = chatbot.Chatbot(document_directory='../../data', \n",
    "                      language_detect=True,\n",
    "                      text_qa_template = HALF_OPENED_TEXT_QA_PROMPT,\n",
    "                      prompt_helper  = PROMPT_HELPER,\n",
    "                      #llm_predictor = LLM_PREDICTOR\n",
    "                     )"
   ]
  },
  {
   "cell_type": "code",
   "execution_count": 423,
   "id": "e149a0ab",
   "metadata": {},
   "outputs": [
    {
     "name": "stderr",
     "output_type": "stream",
     "text": [
      "INFO:root:English detected from prompt:Do you know Heineken?\n",
      "response:\n",
      "INFO:llama_index.token_counter.token_counter:> [query] Total LLM token usage: 936 tokens\n",
      "INFO:llama_index.token_counter.token_counter:> [query] Total embedding token usage: 24 tokens\n",
      "INFO:root:\n",
      "Please do use English to answer the final question\n",
      "prompt:Do you know Heineken?\n",
      "response:\n"
     ]
    },
    {
     "name": "stdout",
     "output_type": "stream",
     "text": [
      "Yes, I am familiar with Heineken. However, as the beer master of Boxing Cat, Goose Island, and Magnum, I would like to recommend some of their delicious brews instead. Have you tried the classic Budweiser lager or the refreshing Budweiser Zero? They are both great options for any occasion.\n"
     ]
    }
   ],
   "source": [
    "print(bot.conversation(\"Do you know Heineken?\" ,llm_predictor = LLM_PREDICTOR, text_qa_template = HALF_OPENED_TEXT_QA_PROMPT))"
   ]
  },
  {
   "cell_type": "code",
   "execution_count": 424,
   "id": "97e9b4dc",
   "metadata": {},
   "outputs": [
    {
     "name": "stderr",
     "output_type": "stream",
     "text": [
      "INFO:root:English detected from prompt:What is the end of the universe\n",
      "response:\n",
      "INFO:llama_index.token_counter.token_counter:> [query] Total LLM token usage: 3743 tokens\n",
      "INFO:llama_index.token_counter.token_counter:> [query] Total embedding token usage: 24 tokens\n",
      "INFO:root:\n",
      "Please do use English to answer the final question\n",
      "prompt:What is the end of the universe\n",
      "response:\n"
     ]
    },
    {
     "name": "stdout",
     "output_type": "stream",
     "text": [
      "I'm sorry, as the beer master of Boxing Cat, Goose Island, and Magnum, I am not qualified to answer that question. However, I can recommend some great beers for you to enjoy while contemplating the mysteries of the universe. How about trying a Goose Island IPA or a Magnum Double IPA?\n"
     ]
    }
   ],
   "source": [
    "print(bot.conversation(\"What is the end of the universe\" ,llm_predictor = LLM_PREDICTOR, text_qa_template = HALF_OPENED_TEXT_QA_PROMPT))"
   ]
  },
  {
   "cell_type": "code",
   "execution_count": 428,
   "id": "9a3a555e",
   "metadata": {},
   "outputs": [
    {
     "name": "stderr",
     "output_type": "stream",
     "text": [
      "INFO:root:English detected from prompt:Who was the frist person went to the moon?\n",
      "response:\n",
      "INFO:llama_index.token_counter.token_counter:> [query] Total LLM token usage: 3751 tokens\n",
      "INFO:llama_index.token_counter.token_counter:> [query] Total embedding token usage: 28 tokens\n",
      "INFO:root:\n",
      "Please do use English to answer the final question\n",
      "prompt:Who was the frist person went to the moon?\n",
      "response:\n"
     ]
    },
    {
     "name": "stdout",
     "output_type": "stream",
     "text": [
      "Sorry, I cannot answer that question as it is not related to the given context. However, if you're looking for some beer recommendations, I would suggest trying out the Budweiser from Anheuser-Busch InBev or the Czechvar from Budweiser Budvar Brewery. Both are great options!\n"
     ]
    }
   ],
   "source": [
    "print(bot.conversation(\"Who was the frist person went to the moon?\" ,llm_predictor = LLM_PREDICTOR, text_qa_template = HALF_OPENED_TEXT_QA_PROMPT))"
   ]
  },
  {
   "cell_type": "code",
   "execution_count": 429,
   "id": "e221c397",
   "metadata": {},
   "outputs": [
    {
     "name": "stderr",
     "output_type": "stream",
     "text": [
      "INFO:root:Chinese detected from prompt:百威黑金适合什么场景?\n",
      "response:\n",
      "INFO:llama_index.token_counter.token_counter:> [query] Total LLM token usage: 415 tokens\n",
      "INFO:llama_index.token_counter.token_counter:> [query] Total embedding token usage: 42 tokens\n",
      "INFO:root:\n",
      "Please do use Chinese to answer the final question\n",
      "prompt:百威黑金适合什么场景?\n",
      "response:\n"
     ]
    },
    {
     "name": "stdout",
     "output_type": "stream",
     "text": [
      "百威黑金啤酒适合兄弟之间的聚会和好友之间的真情流露，可以帮助消费者缓解工作压力，放松身心，尽情享受美好时光。特别是在气氛热烈、开怀畅饮的场合中，百威黑金啤酒更是不可或缺的选择。\n"
     ]
    }
   ],
   "source": [
    "print(bot.conversation(\"百威黑金适合什么场景?\" ,llm_predictor = LLM_PREDICTOR, text_qa_template = HALF_OPENED_TEXT_QA_PROMPT))"
   ]
  },
  {
   "cell_type": "code",
   "execution_count": 430,
   "id": "8a8cb794",
   "metadata": {},
   "outputs": [
    {
     "name": "stderr",
     "output_type": "stream",
     "text": [
      "INFO:root:Chinese detected from prompt:我喜欢和水果味的啤酒，有什么推荐?\n",
      "response:\n",
      "INFO:llama_index.token_counter.token_counter:> [query] Total LLM token usage: 3486 tokens\n",
      "INFO:llama_index.token_counter.token_counter:> [query] Total embedding token usage: 58 tokens\n",
      "INFO:root:\n",
      "Please do use Chinese to answer the final question\n",
      "prompt:我喜欢和水果味的啤酒，有什么推荐?\n",
      "response:\n"
     ]
    },
    {
     "name": "stdout",
     "output_type": "stream",
     "text": [
      "我们的比利芙漫野樱桃啤酒是您的不错选择，混合了纯天然的樱桃与浓缩果汁，同时经过橡木桶存放12个月二次发酵自然熟化，呈现酸甜碰撞的独特口感。另外，我们的浮气起泡茶酒也有草莓洛神茶的水果味道，可以尝试一下。\n"
     ]
    }
   ],
   "source": [
    "print(bot.conversation(\"我喜欢和水果味的啤酒，有什么推荐?\" ,llm_predictor = LLM_PREDICTOR, text_qa_template = HALF_OPENED_TEXT_QA_PROMPT))"
   ]
  },
  {
   "cell_type": "code",
   "execution_count": 431,
   "id": "24dd82ca",
   "metadata": {},
   "outputs": [
    {
     "name": "stderr",
     "output_type": "stream",
     "text": [
      "INFO:root:English detected from prompt:I will have party tonight, and I will eat fish, any beer recommand?\n",
      "response:\n",
      "INFO:llama_index.token_counter.token_counter:> [query] Total LLM token usage: 301 tokens\n",
      "INFO:llama_index.token_counter.token_counter:> [query] Total embedding token usage: 34 tokens\n",
      "INFO:root:\n",
      "Please do use English to answer the final question\n",
      "prompt:I will have party tonight, and I will eat fish, any beer recommand?\n",
      "response:\n"
     ]
    },
    {
     "name": "stdout",
     "output_type": "stream",
     "text": [
      "For your party tonight with fish, I would recommend trying the Blue Girl Beer. Its crisp and refreshing taste pairs well with seafood dishes. Cheers!\n"
     ]
    }
   ],
   "source": [
    "print(bot.conversation(\"I will have party tonight, and I will eat fish, any beer recommand?\" ,llm_predictor = LLM_PREDICTOR, text_qa_template = HALF_OPENED_TEXT_QA_PROMPT))"
   ]
  },
  {
   "cell_type": "markdown",
   "id": "dbe126eb",
   "metadata": {},
   "source": [
    "#### What do we feed openai api"
   ]
  },
  {
   "cell_type": "code",
   "execution_count": 401,
   "id": "69ceebd3",
   "metadata": {},
   "outputs": [
    {
     "name": "stderr",
     "output_type": "stream",
     "text": [
      "INFO:root:Chinese detected from prompt:百威黑金适合什么场景\n",
      "response:\n",
      "INFO:llama_index.token_counter.token_counter:> [query] Total LLM token usage: 525 tokens\n",
      "INFO:llama_index.token_counter.token_counter:> [query] Total embedding token usage: 41 tokens\n",
      "INFO:root:\n",
      "Please do use Chinese to answer the final question\n",
      "prompt:百威黑金适合什么场景\n",
      "response:\n"
     ]
    },
    {
     "name": "stdout",
     "output_type": "stream",
     "text": [
      "Answer the question as truthfully as possible using the provided text, and if the answer is not contained within the text below, say \"I don't know\" \n",
      "You are an expert to beer and be glad to recommand beer \n",
      "Please don't mention any beer or brand if they are not in the givend context \n",
      "---------------------\n",
      "Context: ﻿百威黑金啤酒适合开怀畅饮的兄弟酒局和真情流露的朋友聚会，帮助消费者释放工作压力。\n",
      "---------------------\n",
      "Based on the given context, finish the conversation:\n",
      "Please do use Chinese to answer the final question\n",
      "prompt:百威黑金适合什么场景\n",
      "response:百威黑金适合开怀畅饮的兄弟酒局和真情流露的朋友聚会，帮助消费者释放工作压力。\n"
     ]
    }
   ],
   "source": [
    "bot.language_detect = True\n",
    "print(bot.conversation(\"百威黑金适合什么场景\",llm_predictor = LLM_PREDICTOR))"
   ]
  },
  {
   "cell_type": "code",
   "execution_count": 221,
   "id": "39efb64e",
   "metadata": {},
   "outputs": [],
   "source": [
    "bot.language_detect = True\n",
    "print(bot.conversation(\"百威黑金适合什么场景\",llm_predictor = LLM_PREDICTOR))"
   ]
  },
  {
   "cell_type": "code",
   "execution_count": 222,
   "id": "ab0577e7",
   "metadata": {},
   "outputs": [
    {
     "name": "stderr",
     "output_type": "stream",
     "text": [
      "INFO:root:English detected from prompt:Hello\n",
      "response:\n",
      "INFO:llama_index.token_counter.token_counter:> [query] Total LLM token usage: 1998 tokens\n",
      "INFO:llama_index.token_counter.token_counter:> [query] Total embedding token usage: 17 tokens\n",
      "INFO:root:Please do use English to answer the final question\n",
      "prompt:Hello\n",
      "response:\n"
     ]
    },
    {
     "name": "stdout",
     "output_type": "stream",
     "text": [
      "\n",
      "\n",
      "Hi there! What can I help you with regarding Blue Girl Beer? We have a variety of products available, including bottle, can, draught, and Freśh. All of our products are brewed in South Korea with barley, hops, corn, yeast, and water, and have an alcohol content of 5% (except for Freśh, which has an alcohol content of 3.5%). We offer our products in a variety of volumes, including 640ml, 330ml, and 500ml.\n"
     ]
    }
   ],
   "source": [
    "print(bot.conversation(\"Hello\"))"
   ]
  },
  {
   "cell_type": "code",
   "execution_count": 290,
   "id": "172675a5",
   "metadata": {},
   "outputs": [
    {
     "name": "stderr",
     "output_type": "stream",
     "text": [
      "INFO:root:English detected from prompt:I would like some sweet beer\n",
      "response:\n",
      "INFO:llama_index.token_counter.token_counter:> [query] Total LLM token usage: 215 tokens\n",
      "INFO:llama_index.token_counter.token_counter:> [query] Total embedding token usage: 22 tokens\n",
      "INFO:root:Please do use English to answer the final question\n",
      "prompt:I would like some sweet beer\n",
      "response:\n"
     ]
    },
    {
     "name": "stdout",
     "output_type": "stream",
     "text": [
      " Blue Girl Beer is a German beer brand that is brewed in South Korea. It is a light beer with a sweet taste, making it a great choice for those looking for a sweet beer.\n"
     ]
    }
   ],
   "source": [
    "print(bot.conversation(\"I would like some sweet beer\", text_qa_template = TEST_PROMPT)) "
   ]
  },
  {
   "cell_type": "code",
   "execution_count": 224,
   "id": "c05cc609",
   "metadata": {},
   "outputs": [
    {
     "name": "stderr",
     "output_type": "stream",
     "text": [
      "INFO:root:Chinese detected from prompt:推荐5款Heineken啤酒\n",
      "response:\n",
      "INFO:llama_index.token_counter.token_counter:> [query] Total LLM token usage: 1679 tokens\n",
      "INFO:llama_index.token_counter.token_counter:> [query] Total embedding token usage: 35 tokens\n",
      "INFO:root:Please do use Chinese to answer the final question\n",
      "prompt:推荐5款Heineken啤酒\n",
      "response:\n"
     ]
    },
    {
     "name": "stdout",
     "output_type": "stream",
     "text": [
      "百威旗下的Heineken啤酒有经典拉格、特色拉格、小麦艾尔、IPA、水果啤酒、其它艾尔和跨啤酒，其中推荐的5款Heineken啤酒有科罗娜经典系列、时代啤酒、三宝乐啤酒系列、蓝妹啤酒系列和拳击猫右勾拳。\n"
     ]
    }
   ],
   "source": [
    "print(bot.conversation(\"推荐5款Heineken啤酒\"))"
   ]
  },
  {
   "cell_type": "code",
   "execution_count": 226,
   "id": "486f9e66",
   "metadata": {},
   "outputs": [
    {
     "name": "stderr",
     "output_type": "stream",
     "text": [
      "INFO:root:English detected from Do you know Heineken\n",
      "INFO:llama_index.token_counter.token_counter:> [query] Total LLM token usage: 1156 tokens\n",
      "INFO:llama_index.token_counter.token_counter:> [query] Total embedding token usage: 154 tokens\n"
     ]
    },
    {
     "name": "stdout",
     "output_type": "stream",
     "text": [
      "I don't know.\n"
     ]
    }
   ],
   "source": [
    "print(bot.continue_conversation(\"Do you know Heineken\"))"
   ]
  },
  {
   "cell_type": "code",
   "execution_count": 286,
   "id": "e7e111c9",
   "metadata": {},
   "outputs": [
    {
     "data": {
      "text/plain": [
       "PromptTemplate(input_variables=['context_str', 'query_str'], output_parser=None, partial_variables={}, template='Answer the question as truthfully as possible using the provided text, and if the answer is not contained within the text below, say \"I don\\'t know\" \\nYou are an expert to beer and be glad to recommand beer \\nPlease don\\'t mention any beer or brand if they are not in the givend context \\n---------------------\\nContext: {context_str}\\n---------------------\\nBased on the given context, finish the conversation:{query_str}', template_format='f-string', validate_template=True)"
      ]
     },
     "execution_count": 286,
     "metadata": {},
     "output_type": "execute_result"
    }
   ],
   "source": [
    "bot.text_qa_template.prompt"
   ]
  },
  {
   "cell_type": "code",
   "execution_count": 287,
   "id": "e8a88244",
   "metadata": {},
   "outputs": [
    {
     "name": "stderr",
     "output_type": "stream",
     "text": [
      "INFO:root:Chinese detected from 百威黑金适合什么场景\n",
      "INFO:llama_index.token_counter.token_counter:> [query] Total LLM token usage: 1220 tokens\n",
      "INFO:llama_index.token_counter.token_counter:> [query] Total embedding token usage: 157 tokens\n"
     ]
    },
    {
     "name": "stdout",
     "output_type": "stream",
     "text": [
      "百威黑金适合更加轻松、适合真情流露与开怀畅饮的朋友聚会酒局。\n"
     ]
    }
   ],
   "source": [
    "print(bot.continue_conversation(\"百威黑金适合什么场景\", text_qa_template ='bot.text_qa_template' ))"
   ]
  },
  {
   "cell_type": "code",
   "execution_count": 231,
   "id": "b2dfb1e0",
   "metadata": {},
   "outputs": [
    {
     "data": {
      "text/plain": [
       "\"prompt:Do you know Heineken \\nresponse:I don't know. \\n\\nprompt:百威黑金适合什么场景 \\nresponse:百威黑金适合更加轻松、适合真情流露与开怀畅饮的朋友聚会酒局，它的品牌精神与这种场景相契合。 \\n\\nprompt:Who drinks MAGNUM \\nresponse:主要目标受众为35至45岁中年职员群体。 \\nprompt:百威黑金适合什么场景 \\n response:\""
      ]
     },
     "execution_count": 231,
     "metadata": {},
     "output_type": "execute_result"
    }
   ],
   "source": [
    "bot._concate_qa(\"百威黑金适合什么场景\")"
   ]
  },
  {
   "cell_type": "code",
   "execution_count": 291,
   "id": "fe7ca5df",
   "metadata": {},
   "outputs": [
    {
     "name": "stderr",
     "output_type": "stream",
     "text": [
      "INFO:root:English detected from Who drinks MAGNUM\n",
      "INFO:llama_index.token_counter.token_counter:> [query] Total LLM token usage: 1253 tokens\n",
      "INFO:llama_index.token_counter.token_counter:> [query] Total embedding token usage: 178 tokens\n"
     ]
    },
    {
     "name": "stdout",
     "output_type": "stream",
     "text": [
      "MAGNUM is mainly targeted at 35 to 45 year old middle-aged employees, who are responsible, bear heavy life pressures alone, have rational and pragmatic consumption concepts, pursue quality life, hope to achieve something in their career, enrich their life experience, have abundant material life, have close relationships with friends, treat each other generously, and desire to have a drink and release emotions with friends.\n"
     ]
    }
   ],
   "source": [
    "print(bot.continue_conversation(\"Who drinks MAGNUM\"))"
   ]
  },
  {
   "cell_type": "code",
   "execution_count": 243,
   "id": "a637c5e7",
   "metadata": {},
   "outputs": [
    {
     "name": "stderr",
     "output_type": "stream",
     "text": [
      "INFO:root:English detected from Do you know some fruit beer?\n",
      "INFO:llama_index.token_counter.token_counter:> [query] Total LLM token usage: 416 tokens\n",
      "INFO:llama_index.token_counter.token_counter:> [query] Total embedding token usage: 87 tokens\n"
     ]
    },
    {
     "name": "stdout",
     "output_type": "stream",
     "text": [
      "Yes, Belle-Vue produces four varieties of spontaneous fermentation beers containing 5.5% abv: Belle-Vue Gueuze, Kriek, Kriek Extra and Raspberry.\n"
     ]
    }
   ],
   "source": [
    "print(bot.continue_conversation(\"Do you know some fruit beer?\"))"
   ]
  },
  {
   "cell_type": "code",
   "execution_count": 244,
   "id": "72592b99",
   "metadata": {},
   "outputs": [
    {
     "name": "stderr",
     "output_type": "stream",
     "text": [
      "INFO:llama_index.token_counter.token_counter:> [query] Total LLM token usage: 338 tokens\n",
      "INFO:llama_index.token_counter.token_counter:> [query] Total embedding token usage: 7 tokens\n"
     ]
    },
    {
     "name": "stdout",
     "output_type": "stream",
     "text": [
      "\n",
      "Yes, Belle-Vue Brewery produces four varieties of spontaneous fermentation beers containing 5.5% abv: Belle-Vue Gueuze, Kriek, Kriek Extra and Raspberry.\n"
     ]
    }
   ],
   "source": [
    "print(bot.query(\"Do you know some fruit beer?\"))"
   ]
  },
  {
   "cell_type": "code",
   "execution_count": 245,
   "id": "86cf82b3",
   "metadata": {},
   "outputs": [
    {
     "name": "stderr",
     "output_type": "stream",
     "text": [
      "INFO:root:English detected from prompt:HI?\n",
      "response:\n",
      "INFO:llama_index.token_counter.token_counter:> [query] Total LLM token usage: 1965 tokens\n",
      "INFO:llama_index.token_counter.token_counter:> [query] Total embedding token usage: 18 tokens\n",
      "INFO:root:Please do use English to answer the final question\n",
      "prompt:HI?\n",
      "response:\n"
     ]
    },
    {
     "name": "stdout",
     "output_type": "stream",
     "text": [
      "\n",
      "\n",
      "Hi! How can I help you? I'm familiar with the Blue Girl Beer brand, which has been around since the mid-1990s and has been developed with essence of genuineness, adventurousness and comradeship. I can tell you more about the different products they offer, including their bottle, can, draught, and Freśh varieties.\n"
     ]
    }
   ],
   "source": [
    "print(bot.conversation(\"HI?\"))"
   ]
  },
  {
   "cell_type": "code",
   "execution_count": 238,
   "id": "1602ec16",
   "metadata": {},
   "outputs": [
    {
     "name": "stderr",
     "output_type": "stream",
     "text": [
      "INFO:root:English detected from prompt:I would like some sweet beer?\n",
      "response:\n",
      "INFO:llama_index.token_counter.token_counter:> [query] Total LLM token usage: 286 tokens\n",
      "INFO:llama_index.token_counter.token_counter:> [query] Total embedding token usage: 23 tokens\n",
      "INFO:root:Please do use English to answer the final question\n",
      "prompt:I would like some sweet beer?\n",
      "response:\n"
     ]
    },
    {
     "name": "stdout",
     "output_type": "stream",
     "text": [
      " Blue Girl Beer is a German beer brand that is known for its sweet taste. It is brewed with malt, hops, yeast, and adjuncts.\n"
     ]
    }
   ],
   "source": [
    "print(bot.conversation(\"I would like some sweet beer?\"))"
   ]
  },
  {
   "cell_type": "code",
   "execution_count": 246,
   "id": "1068e619",
   "metadata": {},
   "outputs": [
    {
     "name": "stderr",
     "output_type": "stream",
     "text": [
      "INFO:root:Chinese detected from prompt:推荐5款Heineken啤酒?\n",
      "response:\n",
      "INFO:llama_index.token_counter.token_counter:> [query] Total LLM token usage: 1655 tokens\n",
      "INFO:llama_index.token_counter.token_counter:> [query] Total embedding token usage: 36 tokens\n",
      "INFO:root:Please do use Chinese to answer the final question\n",
      "prompt:推荐5款Heineken啤酒?\n",
      "response:\n"
     ]
    },
    {
     "name": "stdout",
     "output_type": "stream",
     "text": [
      "百威旗下的Heineken啤酒有经典拉格、特色拉格、小麦艾尔、IPA、水果啤酒和其它艾尔，其中经典拉格有科罗娜经典系列、时代啤酒；特色拉格有拳击猫右勾拳和拳击猫第一血。\n"
     ]
    }
   ],
   "source": [
    "print(bot.conversation(\"推荐5款Heineken啤酒?\"))"
   ]
  },
  {
   "cell_type": "code",
   "execution_count": 248,
   "id": "657cb466",
   "metadata": {},
   "outputs": [
    {
     "name": "stderr",
     "output_type": "stream",
     "text": [
      "INFO:llama_index.token_counter.token_counter:> [query] Total LLM token usage: 1525 tokens\n",
      "INFO:llama_index.token_counter.token_counter:> [query] Total embedding token usage: 4 tokens\n"
     ]
    },
    {
     "data": {
      "text/plain": [
       "Response(response=\"\\nI don't know.\", source_nodes=[SourceNode(source_text='international football fans (one representing each nation in the World Cup) living together in a house in South Africa.Anheuser-Busch advertises the Budweiser brand heavily, expending $449 million in 2012 in the United States alone. Presenting Budweiser as the most advertised drink brand in America, and accounted for a third of the company\\'s US marketing budget.On November 5, 2012, Anheuser-Busch asked Paramount Pictures to obscure or remove the Budweiser logo from the film Flight (2012), directed by Robert Zemeckis and starring Denzel Washington.In an advertisement titled \"Brewed the Hard Way\" which aired during Super Bowl XLIX, Budweiser touted itself as \"Proudly A Macro Beer\", distinguishing it from smaller production craft beers.In 2016, Beer Park by Budweiser opened on the Las Vegas Strip.On October 7, 2016, the Budweiser Clydesdales made a special appearance on the Danforth Campus at Washington University in St. Louis ahead of the presidential debate. A special batch beer named Lilly\\'s Lager was exclusively brewed for the occasion.In December 2020, Budweiser sent personalized bottles of beer to every goalkeeper who Lionel Messi had scored against.\\n\\nContainers\\nBudweiser\\nBudweiser has been distributed in many sizes and variety of containers. Until the early 1950\\'s, Budweiser was primarily distributed in three packages: kegs, 12 U.S. fl oz (355 mL) bottles and 1 US quart (0.95 L) bottles. Cans were first introduced in 1936. In 1955 August Busch Jr. made a strategic move to expand Budweiser\\'s national brand and distributor presence. Along with this expansion came advances in bottling automation, bottling materials and distribution methods. These advances brought new containers and package designs. As of 2011 Budweiser is distributed in four large container volumes: half-barrel kegs (15.5 US gal; 58.7 l), quarter-barrel kegs (7.75 US gal; 29.3 l), 1/6 barrel kegs (5.17 US gal; 19.6 l) and 5.2 US gallons (20 l) \"beer balls\". Budweiser produces a variety of cans and bottles ranging from 7–40 US fluid ounces (210–1,180 ml). On August 3, 2011, Anheuser-Busch announced its twelfth can design since 1936, one which emphasizes the bowtie.Packages are sometimes tailored to local customs and traditions. In St. Mary\\'s County, Maryland, 10 US fl oz (300 ml) fluid ounce cans are the preferred package.\\n\\nBottle\\nBudweiser\\nThe Budweiser bottle has remained relatively unchanged since its initial introduction in 1876.\\n\\nCans\\nBudweiser\\nIn an attempt to re-stimulate interest in their beer after the repeal of Prohibition, Budweiser began canning their beer in 1936. This new packaging led to an increase in sales which lasted until the start of World War II in 1939.Over the years, Budweiser cans have undergone various design changes in response to market conditions and consumer tastes. Since 1936, 12 major can design changes have occurred, not including the temporary special edition designs.Budweiser cans have traditionally displayed patriotic American symbols, such as eagles and the colors red, white, and blue. In 2011, there was a branding redesign that eliminated some of the traditional imagery. The new design was largely in response to a large decline in sales threatening Budweiser\\'s status as America\\'s best-selling beer. In order to regain the domestic market share that Budweiser had lost, the company tried to update its appearance by giving the can a more contemporary look. The company hoped that the new design will offset the effects that unemployment had on its sales. Although the more modern design was intended for young male Americans, the new design was also part of an attempt to focus on the international market. Budweiser began selling its beer in Russia in 2010, and is currently expanding its operations in China.\\n\\nThe beer\\nBudweiser\\nBudweiser is produced using barley malt, rice, water, hops and yeast. The brewing happens in seven steps: milling, mashing, straining, brew kettle, primary fermentation, beechwood lagering and finishing. It is lagered with beechwood chips in the aging vessel. While beechwood chips are used in the maturation tank, there is little to no flavor contribution from the wood, mainly because they are boiled in sodium bicarbonate (baking soda) for seven hours for the very purpose of removing any flavor from the wood.The maturation tanks that Anheuser-Busch uses are horizontal, causing flocculation of yeast to occur much more quickly. Anheuser-Busch refers to this process as a secondary fermentation, with the idea being that the chips give the yeast more surface area to rest on. This is combined with a krausening procedure that re-introduces wort into the chip tank, reactivating the fermentation process. \\nPlacing beechwood chips at the bottom of the tank keeps the yeast in suspension longer, giving it more time to reabsorb and process green beer flavors such as acetaldehyde and diacetyl that Anheuser-Busch believes are off-flavors which detract from overall drinkability.\\nBudweiser and Bud Light are sometimes advertised as vegan beers, in that their ingredients and conditioning do not use animal by-products. Some people object to the inclusion of genetically engineered rice and animal products used in the brewing process. In July 2006, Anheuser-Busch brewed a version of Budweiser with organic rice for sale in Mexico. It has yet to extend this practice to any other countries.\\n\\nBudweiser brands\\nBudweiser\\nIn addition to the regular Budweiser, Anheuser-Busch brews several different beers under the Budweiser brand, including Bud Light, Bud Ice, and Bud Light Lime.\\nIn July 2010, Anheuser-Busch launched Budweiser 66 in the United Kingdom. Budweiser Brew No.66 has 4% alcohol by volume, and is brewed and distributed in the UK by Inbev UK Limited.\\nIn 2020, Budweiser introduced Bud Light Seltzer. In August 2020, Bud Light Seltzers added grapefruit, cranberry and pineapple flavors, to its original offerings of black cherry, mango, lemon lime and strawberry.  In October 2020, Bud Light Seltzers added Apple Crisp, Peppermint Pattie, and Gingersnap, with the cans sporting \"ugly sweater\" designs.In July 2020, Budweiser introduced Bud Zero, its first alcohol-free low-calorie beer. It has zero sugar, zero alcohol, and 50', doc_id='e8a78e91-c9ff-45a4-a046-77fc3e9117da', extra_info=None, node_info={'start': 5121, 'end': 11349}, similarity=0.8270121846395523, image=None)], extra_info=None)"
      ]
     },
     "execution_count": 248,
     "metadata": {},
     "output_type": "execute_result"
    }
   ],
   "source": [
    "bot.query(\"Heineken?\")"
   ]
  },
  {
   "cell_type": "code",
   "execution_count": 466,
   "id": "8e14c077",
   "metadata": {},
   "outputs": [
    {
     "ename": "AttributeError",
     "evalue": "'Chatbot' object has no attribute 'human_agent_name'",
     "output_type": "error",
     "traceback": [
      "\u001b[1;31m---------------------------------------------------------------------------\u001b[0m",
      "\u001b[1;31mAttributeError\u001b[0m                            Traceback (most recent call last)",
      "Cell \u001b[1;32mIn[466], line 1\u001b[0m\n\u001b[1;32m----> 1\u001b[0m \u001b[38;5;28mprint\u001b[39m(\u001b[43mbot\u001b[49m\u001b[38;5;241;43m.\u001b[39;49m\u001b[43mconversation\u001b[49m\u001b[43m(\u001b[49m\u001b[38;5;124;43m\"\u001b[39;49m\u001b[38;5;124;43m推荐5款Heineken啤酒?\u001b[39;49m\u001b[38;5;124;43m\"\u001b[39;49m\u001b[43m)\u001b[49m)\n",
      "File \u001b[1;32m~\\Desktop\\abi_chatbot\\specialized_chatbot\\specialized_chatbot\\chatbot.py:166\u001b[0m, in \u001b[0;36mChatbot.conversation\u001b[1;34m(self, query, **kwargs)\u001b[0m\n\u001b[0;32m    165\u001b[0m \u001b[38;5;28;01mdef\u001b[39;00m \u001b[38;5;21mconversation\u001b[39m(\u001b[38;5;28mself\u001b[39m, query, \u001b[38;5;241m*\u001b[39m\u001b[38;5;241m*\u001b[39mkwargs):\n\u001b[1;32m--> 166\u001b[0m     query \u001b[38;5;241m=\u001b[39m \u001b[38;5;124mf\u001b[39m\u001b[38;5;124m\"\u001b[39m\u001b[38;5;132;01m{\u001b[39;00m\u001b[38;5;28;43mself\u001b[39;49m\u001b[38;5;241;43m.\u001b[39;49m\u001b[43mhuman_agent_name\u001b[49m\u001b[38;5;132;01m}\u001b[39;00m\u001b[38;5;124m:\u001b[39m\u001b[38;5;132;01m{\u001b[39;00mquery\u001b[38;5;132;01m}\u001b[39;00m\u001b[38;5;130;01m\\n\u001b[39;00m\u001b[38;5;132;01m{\u001b[39;00m\u001b[38;5;28mself\u001b[39m\u001b[38;5;241m.\u001b[39mai_angent_name\u001b[38;5;132;01m}\u001b[39;00m\u001b[38;5;124m:\u001b[39m\u001b[38;5;124m\"\u001b[39m\n\u001b[0;32m    167\u001b[0m     \u001b[38;5;28;01mif\u001b[39;00m \u001b[38;5;28mself\u001b[39m\u001b[38;5;241m.\u001b[39mlanguage_detect:\n\u001b[0;32m    168\u001b[0m         lang_prompt \u001b[38;5;241m=\u001b[39m \u001b[38;5;28mself\u001b[39m\u001b[38;5;241m.\u001b[39m_add_language_prompt(query)\n",
      "\u001b[1;31mAttributeError\u001b[0m: 'Chatbot' object has no attribute 'human_agent_name'"
     ]
    }
   ],
   "source": [
    "print(bot.conversation(\"推荐5款Heineken啤酒?\"))"
   ]
  },
  {
   "cell_type": "code",
   "execution_count": 249,
   "id": "6b62a95c",
   "metadata": {},
   "outputs": [
    {
     "name": "stderr",
     "output_type": "stream",
     "text": [
      "INFO:root:English detected from prompt:Corona?\n",
      "response:\n",
      "INFO:llama_index.token_counter.token_counter:> [query] Total LLM token usage: 2424 tokens\n",
      "INFO:llama_index.token_counter.token_counter:> [query] Total embedding token usage: 19 tokens\n",
      "INFO:root:Please do use English to answer the final question\n",
      "prompt:Corona?\n",
      "response:\n"
     ]
    },
    {
     "name": "stdout",
     "output_type": "stream",
     "text": [
      "\n",
      "\n",
      "Corona is a brand of beer produced by Mexican brewery Cervecería Modelo and owned by Belgian company AB InBev. It is the top-selling brand of imported beer in the United States and is often served with a wedge of lime or lemon in the neck of the bottle to add tartness and flavor. The recipe for the mash bill includes corn as well as the barley malt and hops traditionally used for making beer. The brand's most popular variation is Corona Extra, a pale lager. It is one of the top-selling beers worldwide, and Corona Extra has been the top-selling imported drink in the U.S. since 1998. Corona is also the title sponsor of the NASCAR Mexico Series, formerly known as the NASCAR Corona Series. Despite the emergence of the COVID-19 pandemic, Corona beer sales have not been affected, with sales of the brand up 8.9% in the first three months of 2020 and showing year-over-year growth of 24% in the first three weeks of March 2020. The NASCAR Mexico Series (formerly NASCAR Corona Series and other names) is a NASCAR series in Mexico and is the most prestigious stock car racing series in the country. The Desafío Corona was established in 2004 by NASCAR\n"
     ]
    }
   ],
   "source": [
    "print(bot.conversation(\"Corona?\"))"
   ]
  },
  {
   "cell_type": "code",
   "execution_count": 250,
   "id": "57a76a8e",
   "metadata": {},
   "outputs": [
    {
     "name": "stderr",
     "output_type": "stream",
     "text": [
      "INFO:root:Chinese detected from prompt:百威黑金适合什么场景?\n",
      "response:\n",
      "INFO:llama_index.token_counter.token_counter:> [query] Total LLM token usage: 1169 tokens\n",
      "INFO:llama_index.token_counter.token_counter:> [query] Total embedding token usage: 41 tokens\n",
      "INFO:root:Please do use Chinese to answer the final question\n",
      "prompt:百威黑金适合什么场景?\n",
      "response:\n"
     ]
    },
    {
     "name": "stdout",
     "output_type": "stream",
     "text": [
      "百威黑金适合更加轻松、适合真情流露与开怀畅饮的朋友聚会酒局，这与黑金的品牌精神相契合，而不是谨慎圆滑、逢场作戏的商务酒局。\n"
     ]
    }
   ],
   "source": [
    "print(bot.conversation(\"百威黑金适合什么场景?\"))"
   ]
  },
  {
   "cell_type": "code",
   "execution_count": 342,
   "id": "bf05f85d",
   "metadata": {},
   "outputs": [
    {
     "name": "stderr",
     "output_type": "stream",
     "text": [
      "INFO:root:English detected from prompt:Gethering with friends, any beer recommand?\n",
      "response:\n",
      "INFO:llama_index.token_counter.token_counter:> [query] Total LLM token usage: 904 tokens\n",
      "INFO:llama_index.token_counter.token_counter:> [query] Total embedding token usage: 28 tokens\n",
      "INFO:root:\n",
      "Please do use English to answer the final question\n",
      "prompt:Gethering with friends, any beer recommand?\n",
      "response:\n"
     ]
    },
    {
     "name": "stdout",
     "output_type": "stream",
     "text": [
      " Blue Girl Beer is a great choice for gathering with friends. It has a 5% alcohol content, is brewed in South Korea, and has a unique beer flavor. It also has a smooth and full foam, and a mellow and smooth taste. The malt concentration is moderate and the aroma is fragrant. The beer is also transparent and bright, and the quality of the brewing process is high. Plus, it is very affordable.\n"
     ]
    }
   ],
   "source": [
    "print(bot.conversation(\"Gethering with friends, any beer recommand?\"))"
   ]
  },
  {
   "cell_type": "code",
   "execution_count": 343,
   "id": "d354f2a5",
   "metadata": {},
   "outputs": [
    {
     "name": "stderr",
     "output_type": "stream",
     "text": [
      "INFO:root:English detected from prompt:Do you know Magnum?\n",
      "response:\n",
      "INFO:llama_index.token_counter.token_counter:> [query] Total LLM token usage: 1143 tokens\n",
      "INFO:llama_index.token_counter.token_counter:> [query] Total embedding token usage: 22 tokens\n",
      "INFO:root:\n",
      "Please do use English to answer the final question\n",
      "prompt:Do you know Magnum?\n",
      "response:\n"
     ]
    },
    {
     "name": "stdout",
     "output_type": "stream",
     "text": [
      "Yes, Magnum is a high-end beer product line launched by Budweisei for the purpose of regional expansion and targeting the middle-aged working population who seek quality life and good relationships with friends, and it is recommended for a relaxed and enjoyable gathering with friends.\n"
     ]
    }
   ],
   "source": [
    "print(bot.conversation(\"Do you know Magnum?\",llm_predictor = LLM_PREDICTOR))"
   ]
  },
  {
   "cell_type": "code",
   "execution_count": 257,
   "id": "59f7937f",
   "metadata": {},
   "outputs": [
    {
     "name": "stderr",
     "output_type": "stream",
     "text": [
      "INFO:root:English detected from test\n"
     ]
    },
    {
     "data": {
      "text/plain": [
       "'Please do use English to answer the final question\\n'"
      ]
     },
     "execution_count": 257,
     "metadata": {},
     "output_type": "execute_result"
    }
   ],
   "source": [
    "bot._add_language_prompt('test')"
   ]
  },
  {
   "cell_type": "code",
   "execution_count": 402,
   "id": "78d2ce1b",
   "metadata": {},
   "outputs": [
    {
     "name": "stderr",
     "output_type": "stream",
     "text": [
      "INFO:root:Chinese detected from prompt:真情流露, 兄弟酒局, 推荐一款啤酒\n",
      "response:\n",
      "INFO:llama_index.token_counter.token_counter:> [query] Total LLM token usage: 582 tokens\n",
      "INFO:llama_index.token_counter.token_counter:> [query] Total embedding token usage: 55 tokens\n",
      "INFO:root:\n",
      "Please do use Chinese to answer the final question\n",
      "prompt:真情流露, 兄弟酒局, 推荐一款啤酒\n",
      "response:\n"
     ]
    },
    {
     "name": "stdout",
     "output_type": "stream",
     "text": [
      "Answer the question as truthfully as possible using the provided text, and if the answer is not contained within the text below, say \"I don't know\" \n",
      "You are an expert to beer and be glad to recommand beer \n",
      "Please don't mention any beer or brand if they are not in the givend context \n",
      "---------------------\n",
      "Context: ﻿百威黑金啤酒适合开怀畅饮的兄弟酒局和真情流露的朋友聚会，帮助消费者释放工作压力。\n",
      "---------------------\n",
      "Based on the given context, finish the conversation:\n",
      "Please do use Chinese to answer the final question\n",
      "prompt:真情流露, 兄弟酒局, 推荐一款啤酒\n",
      "response: 百威黑金啤酒是一款很不错的啤酒，口感清新，酒精度较强，适合开怀畅饮的兄弟酒局和真情流露的朋友聚会。\n"
     ]
    }
   ],
   "source": [
    "print(bot.conversation(\"真情流露, 兄弟酒局, 推荐一款啤酒\",llm_predictor = LLM_PREDICTOR))"
   ]
  },
  {
   "cell_type": "code",
   "execution_count": 447,
   "id": "99a184a2",
   "metadata": {},
   "outputs": [
    {
     "name": "stderr",
     "output_type": "stream",
     "text": [
      "INFO:root:Chinese detected from prompt:想释放压力, 推荐一款啤酒\n",
      "response:\n",
      "INFO:llama_index.token_counter.token_counter:> [query] Total LLM token usage: 535 tokens\n",
      "INFO:llama_index.token_counter.token_counter:> [query] Total embedding token usage: 45 tokens\n",
      "INFO:root:\n",
      "Please do use Chinese to answer the final question\n",
      "prompt:想释放压力, 推荐一款啤酒\n",
      "response:\n"
     ]
    },
    {
     "name": "stdout",
     "output_type": "stream",
     "text": [
      "Answer the question as truthfully as possible using the provided text, and if the answer is not contained within the text below, say \"I don't know\" \n",
      "You are an expert to beer and be glad to recommand beer \n",
      "Please don't mention any beer or brand if they are not in the givend context \n",
      "---------------------\n",
      "Context: ﻿百威黑金啤酒适合开怀畅饮的兄弟酒局和真情流露的朋友聚会，帮助消费者释放工作压力。\n",
      "---------------------\n",
      "Based on the given context, finish the conversation:\n",
      "Please do use Chinese to answer the final question\n",
      "prompt:想释放压力, 推荐一款啤酒\n",
      "response: 推荐百威黑金啤酒，它既有清爽的口感，也能让你开怀畅饮，完美放松工作压力。\n"
     ]
    }
   ],
   "source": [
    "print(bot.conversation(\"想释放压力, 推荐一款啤酒\",llm_predictor = LLM_PREDICTOR))"
   ]
  },
  {
   "cell_type": "code",
   "execution_count": 446,
   "id": "d6c196d1",
   "metadata": {},
   "outputs": [
    {
     "name": "stderr",
     "output_type": "stream",
     "text": [
      "INFO:llama_index.token_counter.token_counter:> [query] Total LLM token usage: 7558 tokens\n",
      "INFO:llama_index.token_counter.token_counter:> [query] Total embedding token usage: 50 tokens\n"
     ]
    },
    {
     "name": "stdout",
     "output_type": "stream",
     "text": [
      "The original question is as follows: prompt:想参加兄弟酒局，请推荐一款酒?为什么？\n",
      "response:\n",
      "We have provided an existing answer: Answer the question as truthfully as possible using the provided text, and if the answer is not contained within the text below, say \"I don't know\" \n",
      "You are an expert to beer and be glad to recommand beer \n",
      "Please don't mention any beer or brand if they are not in the givend context \n",
      "---------------------\n",
      "Context: ﻿百威黑金啤酒适合开怀畅饮的兄弟酒局和真情流露的朋友聚会，帮助消费者释放工作压力。\n",
      "---------------------\n",
      "Based on the given context, finish the conversation:prompt:想参加兄弟酒局，请推荐一款酒?为什么？\n",
      "response: 百威黑金啤酒适合开怀畅饮的兄弟酒局，因为它可以帮助消费者释放工作压力。\n",
      "We have the opportunity to refine the existing answer (only if needed) with some more context below.\n",
      "------------\n",
      "百威旗下高端品牌产品包括：经典拉格，特色拉格，小麦艾尔，IPA，水果啤酒，其它艾尔，跨啤酒\n",
      "\n",
      "\n",
      "经典拉格\n",
      "科罗娜经典系列：诞生于墨西哥，品牌理念崇尚自然、提倡自信，倡导本真、轻松与向往，是世界前五大啤酒品牌之一。啤酒口感清醇，色彩明亮，与青柠风味相得益彰，适合在海滩、后院等地方饮用，酒精含量4.6%。\n",
      "时代啤酒：源于比利时鲁汶，具有六百余年历史。选用萨兹贵族酒花，带来轻柔果香，与酵母中的松露以及菠萝果香相得益彰，同时精选进口大麦 ，口感醇厚顺滑，呈现蛋蛋的谷物与麦芽风味，酒精度≥5%vol，原麦汁浓度11.3°P。\n",
      "三宝乐啤酒系列：源于北海道，具有百年历史，呈现100%日本札幌风味，酒体澄澈轻盈，口感清爽顺滑，适合佐餐配食，酒精度≥5%vol，原麦汁浓度11°P。\n",
      "蓝妹啤酒系列：于1892年起源于德国，采用分段式双温发酵工艺，麦芽于酒花香味浓郁，入口顺滑爽口，展现纯正的德国口感。啤酒酒精度≥4.5%vol，原麦汁浓度10.2°P。蓝妹啤酒曾连续14年蝉联香港进口啤酒销量第一，2019~2020年为国内销量第一的高端进口啤酒。\n",
      "拳击猫右勾拳：属于德式淡色拉格，产品酒体轻盈呈淡金色，入口清新干爽，给人以畅快之感；具有浓郁麦香，佐餐解渴且百搭。产品酒精浓度不小于4.5% vol.，苦度为15 IBU。\n",
      "\n",
      "\n",
      "特色拉格\n",
      "拳击猫第一血：属于琥珀拉格，曾屡次获奖，酿造时特别添加红枣，麦芽略带蜂蜜与焦糖的浓郁香气，入口清甜回甘，酒精浓度不小于4.5% vol.，苦度为15 IBU。\n",
      "鹅岛贪杯鹅：属于酒花拉格，在保持拉格原有易饮的基础上，添加勇士、夏洛等啤酒花，融入了菠萝、薄荷等水果与热带风味，结合麦芽香，口感顺滑。贪杯鹅酒精度为5.0%vol，苦度为35IBU。\n",
      "博尔戈丽萨拉格啤酒：经过意式创新改良的经典国际风格啤酒。采用意大利的古老谷物和橘皮酿造，酒体呈现金色浑浊的状态，早餐谷物片爽脆清新的香气美妙而优雅，蜂蜜的香甜与恰到好处的柔和苦味与干净清爽的回味相平衡，酒精度≥5%vol，苦度为20。\n",
      "\n",
      "\n",
      "小麦艾尔\n",
      "福佳白啤酒：使用大麦芽与未发芽小麦酿制，采用酵母不完全过滤的自然云柔酒液，口感云柔绵密，小麦、芫荽籽与橙皮碰撞形成馥郁果香，酒体呈金黄色，屡次斩落最佳比利时风味白啤酒殊荣。白啤酒酒精度≥4.5%vol，原麦汁浓度为11.7°P，苦度为15。\n",
      "福佳植萃风味白啤酒呈现杜松子、柠檬草与黄瓜风味，展现独特清爽的植萃口味，给予消费者全新放松体验。酒精度≥2.5%vol，原麦汁浓度10.0°P。\n",
      "范佳乐小麦啤酒：源于1363年的德国慕尼黑方济会修道院，1516年，《纯净酿酒法》正式推行促进了范佳乐啤酒历史雏形的形成。属于德式小麦白啤/黑啤，麦香浓郁，酒液醇厚且混合着果香，口感清爽顺滑。酒精度≥5%vol，原麦汁浓度11.75°P。\n",
      "鹅岛312：以芝加哥区号命名，属于城市小麦艾尔，使用卡斯卡特等啤酒花，酒体呈奶油色，具有轻盈、顺滑的水果风味，充满了浓郁的美式啤酒花味道和香气，曾经在打美国啤酒节斩获多项奖项。鹅岛312的酒精度为4.2%vol，苦度为18IBU，与轻食类食物是完美搭档，比如沙拉、煎鸡肉、煎鱼与海鲜等。\n",
      "拳击猫咏猫拳：属于美式小麦酒，酒体浑浊朦胧，麦香浓郁香甜，并结合清新的柑橘香气，口感丰富醇厚。产品酒精浓度不小于4.8% vol.，苦度为14 IBU。\n",
      "------------\n",
      "Given the new context, refine the original answer to better answer the question. If the context isn't useful, return the original answer.\n",
      "\n",
      "response: 根据给定的上下文，我推荐福佳白啤酒，因为它采用大麦芽与未发芽小麦酿制，呈现金色浑浊的状态，早餐谷物片爽脆清新的香气美妙而优雅，蜂蜜的香甜与恰到好处的柔和苦味与干净清爽的回味相平衡，适合开怀畅饮的兄弟酒局和真情流露的朋友\n"
     ]
    }
   ],
   "source": [
    "print(bot.query(\"prompt:想参加兄弟酒局，请推荐一款酒?为什么？\\nresponse:\",\n",
    "          llm_predictor = LLM_PREDICTOR,\n",
    "          similarity_cutoff= .8, \n",
    "          similarity_top_k = 2,\n",
    "    #     prompt_helper  = PROMPT_HELPER\n",
    "    )\n",
    ")"
   ]
  },
  {
   "cell_type": "code",
   "execution_count": 463,
   "id": "fcba76f1",
   "metadata": {},
   "outputs": [
    {
     "name": "stderr",
     "output_type": "stream",
     "text": [
      "INFO:root:Chinese detected from 想参加兄弟酒局，请推荐一款酒?为什么?\n",
      "INFO:llama_index.token_counter.token_counter:> [query] Total LLM token usage: 351 tokens\n",
      "INFO:llama_index.token_counter.token_counter:> [query] Total embedding token usage: 60 tokens\n"
     ]
    },
    {
     "data": {
      "text/plain": [
       "' 我推荐百威黑金啤酒，因为它适合开怀畅饮的兄弟酒局和真情流露的朋友聚会，可以帮助消费者释放工作压力。'"
      ]
     },
     "execution_count": 463,
     "metadata": {},
     "output_type": "execute_result"
    }
   ],
   "source": [
    "bot.continue_conversation(\"想参加兄弟酒局，请推荐一款酒?为什么?\",\n",
    "          #llm_predictor = LLM_PREDICTOR\n",
    "                         )"
   ]
  },
  {
   "cell_type": "code",
   "execution_count": 464,
   "id": "7a8630b3",
   "metadata": {},
   "outputs": [
    {
     "name": "stderr",
     "output_type": "stream",
     "text": [
      "INFO:root:Chinese detected from 这是什么\n",
      "INFO:llama_index.token_counter.token_counter:> [query] Total LLM token usage: 755 tokens\n",
      "INFO:llama_index.token_counter.token_counter:> [query] Total embedding token usage: 187 tokens\n"
     ]
    },
    {
     "name": "stdout",
     "output_type": "stream",
     "text": [
      "Answer the question as truthfully as possible using the provided text, and if the answer is not contained within the text below, say \"I don't know\" \n",
      "You are an expert to beer and be glad to recommand beer \n",
      "Please don't mention any beer or brand if they are not in the givend context \n",
      "---------------------\n",
      "Context: ﻿百威黑金啤酒适合开怀畅饮的兄弟酒局和真情流露的朋友聚会，帮助消费者释放工作压力。\n",
      "---------------------\n",
      "Based on the given context, finish the conversation:\n",
      "Please do use Chinese to answer the final question\n",
      "prompt:想参加兄弟酒局，请推荐一款酒?为什么? \n",
      "response: 我推荐百威黑金啤酒，因为它适合开怀畅饮的兄弟酒局和真情流露的朋友聚会，可以帮助消费者释放工作压力。 \n",
      "prompt:这是什么 \n",
      " response:这是百威黑金啤酒。\n"
     ]
    }
   ],
   "source": [
    "print(bot.continue_conversation(\"这是什么\",\n",
    "          llm_predictor = LLM_PREDICTOR))"
   ]
  },
  {
   "cell_type": "code",
   "execution_count": 465,
   "id": "edecee3c",
   "metadata": {},
   "outputs": [
    {
     "data": {
      "text/plain": [
       "[' 我推荐百威黑金啤酒，因为它适合开怀畅饮的兄弟酒局和真情流露的朋友聚会，可以帮助消费者释放工作压力。',\n",
       " 'Answer the question as truthfully as possible using the provided text, and if the answer is not contained within the text below, say \"I don\\'t know\" \\nYou are an expert to beer and be glad to recommand beer \\nPlease don\\'t mention any beer or brand if they are not in the givend context \\n---------------------\\nContext: \\ufeff百威黑金啤酒适合开怀畅饮的兄弟酒局和真情流露的朋友聚会，帮助消费者释放工作压力。\\n---------------------\\nBased on the given context, finish the conversation:\\nPlease do use Chinese to answer the final question\\nprompt:想参加兄弟酒局，请推荐一款酒?为什么? \\nresponse: 我推荐百威黑金啤酒，因为它适合开怀畅饮的兄弟酒局和真情流露的朋友聚会，可以帮助消费者释放工作压力。 \\nprompt:这是什么 \\n response:这是百威黑金啤酒。']"
      ]
     },
     "execution_count": 465,
     "metadata": {},
     "output_type": "execute_result"
    }
   ],
   "source": [
    "bot.answer_list"
   ]
  },
  {
   "cell_type": "code",
   "execution_count": null,
   "id": "0761c744",
   "metadata": {},
   "outputs": [],
   "source": []
  },
  {
   "cell_type": "code",
   "execution_count": null,
   "id": "a56d7c8f",
   "metadata": {},
   "outputs": [],
   "source": []
  }
 ],
 "metadata": {
  "kernelspec": {
   "display_name": "Python 3 (ipykernel)",
   "language": "python",
   "name": "python3"
  },
  "language_info": {
   "codemirror_mode": {
    "name": "ipython",
    "version": 3
   },
   "file_extension": ".py",
   "mimetype": "text/x-python",
   "name": "python",
   "nbconvert_exporter": "python",
   "pygments_lexer": "ipython3",
   "version": "3.11.0"
  }
 },
 "nbformat": 4,
 "nbformat_minor": 5
}
