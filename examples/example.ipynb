{
 "cells": [
  {
   "cell_type": "markdown",
   "id": "041cac8c",
   "metadata": {},
   "source": [
    "## chatbot Examples\n",
    "This is an example notebook for `specialized_chatbot` tookits"
   ]
  },
  {
   "cell_type": "code",
   "execution_count": 1,
   "id": "5666d35b",
   "metadata": {},
   "outputs": [],
   "source": [
    "%load_ext autoreload\n",
    "%autoreload 2\n",
    "import os\n",
    "import sys\n",
    "from importlib import reload\n",
    "import json\n",
    "config = json.load(open('../../config.json'))\n",
    "os.environ[\"OPENAI_API_KEY\"] = config['openai_api_key']"
   ]
  },
  {
   "cell_type": "code",
   "execution_count": null,
   "id": "1ce2a4e8",
   "metadata": {},
   "outputs": [],
   "source": [
    "!git clone https://github.com/AllenArtefacter/specialized_chatbot.git\n",
    "!cd specialized_chatbot\n",
    "!python setup.py install"
   ]
  },
  {
   "cell_type": "code",
   "execution_count": 2,
   "id": "943b6069",
   "metadata": {},
   "outputs": [],
   "source": [
    "os.environ[\"TOKENIZERS_PARALLELISM\"]= 'true'"
   ]
  },
  {
   "cell_type": "code",
   "execution_count": 264,
   "id": "a45ba277",
   "metadata": {},
   "outputs": [
    {
     "data": {
      "text/plain": [
       "<module 'specialized_chatbot.chatbot' from 'C:\\\\Users\\\\Administrator\\\\Desktop\\\\abi_chatbot\\\\specialized_chatbot\\\\specialized_chatbot\\\\chatbot.py'>"
      ]
     },
     "execution_count": 264,
     "metadata": {},
     "output_type": "execute_result"
    }
   ],
   "source": [
    "from specialized_chatbot import chatbot\n",
    "reload(chatbot)"
   ]
  },
  {
   "cell_type": "markdown",
   "id": "12b656aa",
   "metadata": {},
   "source": [
    "## Load data \n",
    "Load data from a directory, data in that directory can be txt, pdf, doc, etc"
   ]
  },
  {
   "cell_type": "code",
   "execution_count": 218,
   "id": "f97b28db",
   "metadata": {},
   "outputs": [
    {
     "name": "stdout",
     "output_type": "stream",
     "text": [
      "initializing chatbot\n"
     ]
    },
    {
     "name": "stderr",
     "output_type": "stream",
     "text": [
      "INFO:llama_index.token_counter.token_counter:> [build_index_from_documents] Total LLM token usage: 0 tokens\n",
      "INFO:llama_index.token_counter.token_counter:> [build_index_from_documents] Total embedding token usage: 67208 tokens\n"
     ]
    }
   ],
   "source": [
    "bot = chatbot.Chatbot('../data')"
   ]
  },
  {
   "cell_type": "code",
   "execution_count": null,
   "id": "1a2fd72f",
   "metadata": {},
   "outputs": [],
   "source": [
    "# force the bot answer with same language as in the question\n",
    "bot = chatbot.Chatbot(document_directory='../data', language_detect=True)"
   ]
  },
  {
   "cell_type": "code",
   "execution_count": 303,
   "id": "08fe0a47",
   "metadata": {},
   "outputs": [],
   "source": [
    "bot.language_detect = True"
   ]
  },
  {
   "cell_type": "markdown",
   "id": "83975540",
   "metadata": {},
   "source": [
    "## Answer the question\n",
    "Answer one question"
   ]
  },
  {
   "cell_type": "code",
   "execution_count": 297,
   "id": "39a841fa",
   "metadata": {},
   "outputs": [
    {
     "name": "stderr",
     "output_type": "stream",
     "text": [
      "INFO:root:Chinese detected from prompt:推荐几款啤酒\n",
      "response:\n",
      "INFO:llama_index.token_counter.token_counter:> [query] Total LLM token usage: 1422 tokens\n",
      "INFO:llama_index.token_counter.token_counter:> [query] Total embedding token usage: 33 tokens\n",
      "INFO:root:Please do use Chinese to answer the final question\n",
      "prompt:推荐几款啤酒\n",
      "response:\n"
     ]
    },
    {
     "name": "stdout",
     "output_type": "stream",
     "text": [
      "我可以推荐跨啤酒浮气起泡茶酒、奥地利红牛RED BULL、Fire Ball火龙肉桂威士忌、野牛仙踪波本威士忌和金馥黑标威士忌。\n"
     ]
    }
   ],
   "source": [
    "print(bot.conversation('推荐几款啤酒'))"
   ]
  },
  {
   "cell_type": "code",
   "execution_count": 298,
   "id": "3b8e3f2c",
   "metadata": {},
   "outputs": [
    {
     "name": "stderr",
     "output_type": "stream",
     "text": [
      "INFO:root:English detected from prompt:Any beer recommand? No Budweiser please\n",
      "response:\n",
      "INFO:llama_index.token_counter.token_counter:> [query] Total LLM token usage: 908 tokens\n",
      "INFO:llama_index.token_counter.token_counter:> [query] Total embedding token usage: 26 tokens\n",
      "INFO:root:Please do use English to answer the final question\n",
      "prompt:Any beer recommand? No Budweiser please\n",
      "response:\n"
     ]
    },
    {
     "name": "stdout",
     "output_type": "stream",
     "text": [
      "I would recommend trying a non-alcoholic lager like Budweiser Zero. It has a nice taste and flavour with no aftertaste, and it's a decent pack size and convenient.\n"
     ]
    }
   ],
   "source": [
    "print(bot.conversation('Any beer recommand? No Budweiser please'))"
   ]
  },
  {
   "cell_type": "markdown",
   "id": "71279727",
   "metadata": {},
   "source": [
    "## continue conversation\n",
    "continue convsersation"
   ]
  },
  {
   "cell_type": "code",
   "execution_count": 299,
   "id": "0c7bb828",
   "metadata": {},
   "outputs": [
    {
     "name": "stderr",
     "output_type": "stream",
     "text": [
      "INFO:root:Chinese detected from 你知道百威吗\n",
      "INFO:llama_index.token_counter.token_counter:> [query] Total LLM token usage: 1269 tokens\n",
      "INFO:llama_index.token_counter.token_counter:> [query] Total embedding token usage: 253 tokens\n"
     ]
    },
    {
     "name": "stdout",
     "output_type": "stream",
     "text": [
      "是的，我知道百威。\n"
     ]
    }
   ],
   "source": [
    "print(bot.continue_conversation('你知道百威吗'))"
   ]
  },
  {
   "cell_type": "code",
   "execution_count": 300,
   "id": "9049f320",
   "metadata": {},
   "outputs": [
    {
     "name": "stderr",
     "output_type": "stream",
     "text": [
      "INFO:root:Chinese detected from 你知道它有什么啤酒吗\n",
      "INFO:llama_index.token_counter.token_counter:> [query] Total LLM token usage: 1526 tokens\n",
      "INFO:llama_index.token_counter.token_counter:> [query] Total embedding token usage: 274 tokens\n"
     ]
    },
    {
     "name": "stdout",
     "output_type": "stream",
     "text": [
      "百威推出的高端啤酒产品线包括百威黑金Budweisei MAGNUM，它的特点在于“浓”与“烈”，与产品目标群体和消费场景的特点相符合，经双倍时间酿造酒体呈现琥珀深金色，泡沫绵密丰富，口感强劲浓烈、顺滑有质感，展现浓郁的焦香与麦芽香气，回\n"
     ]
    }
   ],
   "source": [
    "print(bot.continue_conversation('你知道它有什么啤酒吗'))"
   ]
  },
  {
   "cell_type": "code",
   "execution_count": 301,
   "id": "6d238081",
   "metadata": {},
   "outputs": [
    {
     "name": "stderr",
     "output_type": "stream",
     "text": [
      "INFO:root:Chinese detected from 我问了什么\n",
      "INFO:llama_index.token_counter.token_counter:> [query] Total LLM token usage: 1495 tokens\n",
      "INFO:llama_index.token_counter.token_counter:> [query] Total embedding token usage: 456 tokens\n"
     ]
    },
    {
     "name": "stdout",
     "output_type": "stream",
     "text": [
      "你问我是否知道百威，以及它有什么啤酒。\n"
     ]
    }
   ],
   "source": [
    "print(bot.continue_conversation('我问了什么'))"
   ]
  },
  {
   "cell_type": "code",
   "execution_count": 307,
   "id": "591d4d52",
   "metadata": {},
   "outputs": [
    {
     "name": "stderr",
     "output_type": "stream",
     "text": [
      "INFO:root:English detected from recommand some beer please\n",
      "INFO:llama_index.token_counter.token_counter:> [query] Total LLM token usage: 3090 tokens\n",
      "INFO:llama_index.token_counter.token_counter:> [query] Total embedding token usage: 831 tokens\n"
     ]
    },
    {
     "name": "stdout",
     "output_type": "stream",
     "text": [
      "\n",
      "\n",
      "I can recommend Budweisei MAGNUM from Budweiser, which features \"strong\" and \"strong\", which is in line with the characteristics of the target group and consumption scene. After double fermentation, the beer body presents amber dark gold color, foam dense and rich, strong and smooth taste, showing strong burnt aroma and malt aroma, mellow and sweet aftertaste. The alcohol concentration is higher than 5.5°, and the original wort concentration is 13.0°P, both higher than the general product. The product packaging is luxurious, low-key and atmospheric, with a sense of texture and mystery, and has a good reputation, which is recognized by master brewers and expected by consumers.\n"
     ]
    }
   ],
   "source": [
    "print(bot.continue_conversation('recommand some beer please'))"
   ]
  },
  {
   "cell_type": "code",
   "execution_count": 308,
   "id": "c0a50836",
   "metadata": {},
   "outputs": [
    {
     "name": "stderr",
     "output_type": "stream",
     "text": [
      "INFO:root:English detected from any thing else?\n",
      "INFO:llama_index.token_counter.token_counter:> [query] Total LLM token usage: 1453 tokens\n",
      "INFO:llama_index.token_counter.token_counter:> [query] Total embedding token usage: 451 tokens\n"
     ]
    },
    {
     "name": "stdout",
     "output_type": "stream",
     "text": [
      "I don't know.\n"
     ]
    }
   ],
   "source": [
    "print(bot.continue_conversation('any thing else?'))"
   ]
  },
  {
   "cell_type": "code",
   "execution_count": 311,
   "id": "0f4f852b",
   "metadata": {},
   "outputs": [
    {
     "name": "stderr",
     "output_type": "stream",
     "text": [
      "INFO:root:English detected from Write me an advertisement for Corona\n",
      "INFO:llama_index.token_counter.token_counter:> [query] Total LLM token usage: 2271 tokens\n",
      "INFO:llama_index.token_counter.token_counter:> [query] Total embedding token usage: 85 tokens\n"
     ]
    },
    {
     "name": "stdout",
     "output_type": "stream",
     "text": [
      "\n",
      "\n",
      "Corona is the top-selling brand of imported beer in the United States. Enjoy the refreshing taste of Corona Extra, Corona Light, Corona Premier, and Corona Familiar. With a wedge of lime or lemon, Corona adds tartness and flavor to any occasion. Find your beach and make every moment extraordinary with Corona. Despite the confusion caused by the pandemic, Corona has seen an 8.9% increase in sales in the first three months of 2020 and a 24% year-over-year growth in the first three weeks of March 2020. NASCAR Mexico Series, formerly known as the NASCAR Corona Series, is the most prestigious stock car racing series in the country. Enjoy the refreshing taste of Corona and make every moment extraordinary.\n"
     ]
    }
   ],
   "source": [
    "print(bot.continue_conversation('Write me an advertisement for Corona'))"
   ]
  },
  {
   "cell_type": "code",
   "execution_count": 312,
   "id": "92069f12",
   "metadata": {},
   "outputs": [
    {
     "name": "stderr",
     "output_type": "stream",
     "text": [
      "INFO:root:English detected from Write it longer in English please\n",
      "INFO:llama_index.token_counter.token_counter:> [query] Total LLM token usage: 3047 tokens\n",
      "INFO:llama_index.token_counter.token_counter:> [query] Total embedding token usage: 228 tokens\n"
     ]
    },
    {
     "name": "stdout",
     "output_type": "stream",
     "text": [
      "\n",
      "\n",
      "Corona is the top-selling brand of imported beer in the United States. Enjoy the refreshing taste of Corona Extra, Corona Light, Corona Premier, and Corona Familiar. With a wedge of lime or lemon, Corona adds tartness and flavor to any occasion. Find your beach and make every moment extraordinary with Corona. Despite the confusion caused by the pandemic, Corona has seen an 8.9% increase in sales in the first three months of 2020 and a 24% year-over-year growth in the first three weeks of March 2020. NASCAR Mexico Series, formerly known as the NASCAR Corona Series, is the most prestigious stock car racing series in the country. Enjoy the refreshing taste of Corona and make every moment extraordinary. Corona is also the official sponsor of the LPGA Tour tournament Corona Championship, the Mexico national football team, and four of the top-flight professional football teams of Mexico's first division, Liga MX. With Corona, you can enjoy a variety of bottle presentations, ranging from the 207 ml (7.0 U.S. fl oz; 7.3 imp fl oz) ampolleta (labeled Coronita and just referred as the cuartito) up to the 940 ml (31.8 U.S\n"
     ]
    }
   ],
   "source": [
    "print(bot.continue_conversation('Write it longer in English please'))"
   ]
  },
  {
   "cell_type": "markdown",
   "id": "1342edd4",
   "metadata": {},
   "source": [
    "## save the bot as json"
   ]
  },
  {
   "cell_type": "code",
   "execution_count": 256,
   "id": "2f38d8a1",
   "metadata": {},
   "outputs": [],
   "source": [
    "bot.save_to_disk('../bot.json')"
   ]
  },
  {
   "cell_type": "markdown",
   "id": "0e4f7904",
   "metadata": {},
   "source": [
    "## load the bot"
   ]
  },
  {
   "cell_type": "code",
   "execution_count": 189,
   "id": "c639b93c",
   "metadata": {},
   "outputs": [
    {
     "name": "stdout",
     "output_type": "stream",
     "text": [
      "initializing chatbot\n"
     ]
    }
   ],
   "source": [
    "bot = chatbot.Chatbot.load_from_disk('../bot.json')"
   ]
  },
  {
   "cell_type": "code",
   "execution_count": null,
   "id": "0c1aa6a2",
   "metadata": {},
   "outputs": [],
   "source": [
    "bot.conversation(\"推荐一款拉格酒\")"
   ]
  },
  {
   "cell_type": "code",
   "execution_count": null,
   "id": "3fdd25dd",
   "metadata": {},
   "outputs": [],
   "source": [
    "bot.conversation(\"你知道哈尔滨啤酒吗？\")"
   ]
  },
  {
   "cell_type": "code",
   "execution_count": null,
   "id": "9e3d474f",
   "metadata": {},
   "outputs": [],
   "source": [
    "bot.conversation(\"推荐一款它的啤酒好吗\")"
   ]
  },
  {
   "cell_type": "code",
   "execution_count": null,
   "id": "b2a26d54",
   "metadata": {},
   "outputs": [],
   "source": [
    "bot.continue_conversation(\"Do you know about bluegirl?\")"
   ]
  },
  {
   "cell_type": "code",
   "execution_count": null,
   "id": "9fd48739",
   "metadata": {},
   "outputs": [],
   "source": [
    "bot.continue_conversation(\"What kind of beer it provide?\")"
   ]
  },
  {
   "cell_type": "code",
   "execution_count": null,
   "id": "8f4fa3b7",
   "metadata": {},
   "outputs": [],
   "source": [
    "bot.continue_conversation(\"Any product of they?\")"
   ]
  },
  {
   "cell_type": "code",
   "execution_count": null,
   "id": "90fc1753",
   "metadata": {},
   "outputs": [],
   "source": [
    "bot.continue_conversation(\"Any other beer of AB Inbev?\")"
   ]
  },
  {
   "cell_type": "code",
   "execution_count": null,
   "id": "250b37a9",
   "metadata": {},
   "outputs": [],
   "source": [
    "bot.continue_conversation(\"帮我给科罗娜写一个广告\")"
   ]
  },
  {
   "cell_type": "code",
   "execution_count": null,
   "id": "8f863c59",
   "metadata": {},
   "outputs": [],
   "source": [
    "bot.continue_conversation(\"推荐几款百威啤酒，用中文\")"
   ]
  },
  {
   "cell_type": "code",
   "execution_count": null,
   "id": "e1b9d143",
   "metadata": {},
   "outputs": [],
   "source": [
    "bot.continue_conversation(\"请将上一个回答翻译成英文\")"
   ]
  },
  {
   "cell_type": "code",
   "execution_count": null,
   "id": "bdaae3d3",
   "metadata": {},
   "outputs": [],
   "source": [
    "bot.continue_conversation(\"推荐5款百威（budweiser）啤酒，用中文\")"
   ]
  },
  {
   "cell_type": "markdown",
   "id": "7cb5c34d",
   "metadata": {},
   "source": [
    "## Other Parameters?"
   ]
  },
  {
   "cell_type": "code",
   "execution_count": 294,
   "id": "82be3fbd",
   "metadata": {},
   "outputs": [],
   "source": [
    "from llama_index import PromptHelper, LLMPredictor\n",
    "from llama_index.prompts.prompts import QuestionAnswerPrompt\n",
    "from langchain import OpenAI\n",
    "MODEL = \"text-davinci-003\"\n",
    "\n",
    "# langchatin.OpenAI basically Openai API\n",
    "LLM = OpenAI(\n",
    "    temperature=0.7,\n",
    "    model_name=MODEL,\n",
    "    max_tokens=128,\n",
    "    model_kwargs=dict(echo=True) # other kwargs passed to openai...create\n",
    "    \n",
    ")\n",
    "\n",
    "LLM_PREDICTOR = LLMPredictor(llm=LLM)\n",
    "\n",
    "PROMPT_HELPER = PromptHelper(\n",
    "                    max_input_size=2048,  # size of tokens passed to LLM\n",
    "                    num_output=256,       # size of tikens ouputed by LLM\n",
    "                    max_chunk_overlap=256 # overlap chunk size when spliting text\n",
    ")\n",
    "\n",
    "TEST_PROMPT_TPL = (\n",
    "    \"Context: {context_str}\"\n",
    "    \"\\n---------------------\\n\"\n",
    "    \"Please answer the question based on the given context\"\n",
    "    \"{query_str}\"\n",
    ")\n",
    "TEST_PROMPT = QuestionAnswerPrompt(TEST_PROMPT_TPL)"
   ]
  },
  {
   "cell_type": "markdown",
   "id": "f583638c",
   "metadata": {},
   "source": [
    "#### What do we feed openai api"
   ]
  },
  {
   "cell_type": "code",
   "execution_count": 295,
   "id": "41000104",
   "metadata": {},
   "outputs": [
    {
     "name": "stderr",
     "output_type": "stream",
     "text": [
      "INFO:root:Chinese detected from prompt:百威黑金适合什么场景\n",
      "response:\n",
      "INFO:llama_index.token_counter.token_counter:> [query] Total LLM token usage: 2041 tokens\n",
      "INFO:llama_index.token_counter.token_counter:> [query] Total embedding token usage: 40 tokens\n",
      "INFO:root:Please do use Chinese to answer the final question\n",
      "prompt:百威黑金适合什么场景\n",
      "response:\n"
     ]
    },
    {
     "name": "stdout",
     "output_type": "stream",
     "text": [
      "Context: 百威黑金Budweisei MAGNUM是百威出于区域扩张的目的，为了带动区域营收增量与消费者升级，于2021年推出的高端啤酒产品线。\n",
      "主要目标受众为35至45岁中年职员群体，这类人群的主要特点为肩负责任、独自承受沉重的生活压力，同时消费观念理性务实、精打细算且追求品质生活，同时这类人群希望自身事业有所成就、人生阅历不断丰富、物质生活丰裕富足，朋友之间关系密切、彼此大方对待，渴望能够与朋友一同饮酒聚会、痛快释放情感。主要消费场景为更加轻松、适合真情流露与开怀畅饮的朋友聚会酒局，这与黑金的品牌精神相契合，而不是谨慎圆滑、逢场作戏的商务酒局。\n",
      "产品的特点在于“浓”与“烈”，与产品目标群体和消费场景的特点相符合，经双倍时间酿造酒体呈现琥珀深金色，泡沫绵密丰富，口感强劲浓烈、顺滑有质感，展现浓郁的焦香与麦芽香气，回味醇厚而有回甘。酒精浓度超5.5°，原麦汁浓度为13.0°P，均高于一般产品。\n",
      "产品包装奢华、低调大气、富有质感与神秘感，同时口碑良好，备受酿酒大师认可与消费者期待。\n",
      "---------------------\n",
      "Please answer the question based on the given contextPlease do use Chinese to answer the final question\n",
      "prompt:百威黑金适合什么场景\n",
      "response:百威黑金最适合更加轻松、适合真情流露与开怀畅饮的朋友聚会酒局场景，这种轻松和畅快的氛围是它最适合的场景。\n"
     ]
    }
   ],
   "source": [
    "bot.language_detect = True\n",
    "print(bot.conversation(\"百威黑金适合什么场景\",llm_predictor = LLM_PREDICTOR, text_qa_template = TEST_PROMPT))"
   ]
  },
  {
   "cell_type": "code",
   "execution_count": 221,
   "id": "39efb64e",
   "metadata": {},
   "outputs": [],
   "source": [
    "bot.language_detect = True\n",
    "print(bot.conversation(\"百威黑金适合什么场景\",llm_predictor = LLM_PREDICTOR))"
   ]
  },
  {
   "cell_type": "code",
   "execution_count": 222,
   "id": "f3069054",
   "metadata": {},
   "outputs": [
    {
     "name": "stderr",
     "output_type": "stream",
     "text": [
      "INFO:root:English detected from prompt:Hello\n",
      "response:\n",
      "INFO:llama_index.token_counter.token_counter:> [query] Total LLM token usage: 1998 tokens\n",
      "INFO:llama_index.token_counter.token_counter:> [query] Total embedding token usage: 17 tokens\n",
      "INFO:root:Please do use English to answer the final question\n",
      "prompt:Hello\n",
      "response:\n"
     ]
    },
    {
     "name": "stdout",
     "output_type": "stream",
     "text": [
      "\n",
      "\n",
      "Hi there! What can I help you with regarding Blue Girl Beer? We have a variety of products available, including bottle, can, draught, and Freśh. All of our products are brewed in South Korea with barley, hops, corn, yeast, and water, and have an alcohol content of 5% (except for Freśh, which has an alcohol content of 3.5%). We offer our products in a variety of volumes, including 640ml, 330ml, and 500ml.\n"
     ]
    }
   ],
   "source": [
    "print(bot.conversation(\"Hello\"))"
   ]
  },
  {
   "cell_type": "code",
   "execution_count": 290,
   "id": "c466694d",
   "metadata": {},
   "outputs": [
    {
     "name": "stderr",
     "output_type": "stream",
     "text": [
      "INFO:root:English detected from prompt:I would like some sweet beer\n",
      "response:\n",
      "INFO:llama_index.token_counter.token_counter:> [query] Total LLM token usage: 215 tokens\n",
      "INFO:llama_index.token_counter.token_counter:> [query] Total embedding token usage: 22 tokens\n",
      "INFO:root:Please do use English to answer the final question\n",
      "prompt:I would like some sweet beer\n",
      "response:\n"
     ]
    },
    {
     "name": "stdout",
     "output_type": "stream",
     "text": [
      " Blue Girl Beer is a German beer brand that is brewed in South Korea. It is a light beer with a sweet taste, making it a great choice for those looking for a sweet beer.\n"
     ]
    }
   ],
   "source": [
    "print(bot.conversation(\"I would like some sweet beer\", text_qa_template = TEST_PROMPT)) "
   ]
  },
  {
   "cell_type": "code",
   "execution_count": 224,
   "id": "72dfed49",
   "metadata": {},
   "outputs": [
    {
     "name": "stderr",
     "output_type": "stream",
     "text": [
      "INFO:root:Chinese detected from prompt:推荐5款Heineken啤酒\n",
      "response:\n",
      "INFO:llama_index.token_counter.token_counter:> [query] Total LLM token usage: 1679 tokens\n",
      "INFO:llama_index.token_counter.token_counter:> [query] Total embedding token usage: 35 tokens\n",
      "INFO:root:Please do use Chinese to answer the final question\n",
      "prompt:推荐5款Heineken啤酒\n",
      "response:\n"
     ]
    },
    {
     "name": "stdout",
     "output_type": "stream",
     "text": [
      "百威旗下的Heineken啤酒有经典拉格、特色拉格、小麦艾尔、IPA、水果啤酒、其它艾尔和跨啤酒，其中推荐的5款Heineken啤酒有科罗娜经典系列、时代啤酒、三宝乐啤酒系列、蓝妹啤酒系列和拳击猫右勾拳。\n"
     ]
    }
   ],
   "source": [
    "print(bot.conversation(\"推荐5款Heineken啤酒\"))"
   ]
  },
  {
   "cell_type": "code",
   "execution_count": 226,
   "id": "e166f394",
   "metadata": {},
   "outputs": [
    {
     "name": "stderr",
     "output_type": "stream",
     "text": [
      "INFO:root:English detected from Do you know Heineken\n",
      "INFO:llama_index.token_counter.token_counter:> [query] Total LLM token usage: 1156 tokens\n",
      "INFO:llama_index.token_counter.token_counter:> [query] Total embedding token usage: 154 tokens\n"
     ]
    },
    {
     "name": "stdout",
     "output_type": "stream",
     "text": [
      "I don't know.\n"
     ]
    }
   ],
   "source": [
    "print(bot.continue_conversation(\"Do you know Heineken\"))"
   ]
  },
  {
   "cell_type": "code",
   "execution_count": 286,
   "id": "a4a19710",
   "metadata": {},
   "outputs": [
    {
     "data": {
      "text/plain": [
       "PromptTemplate(input_variables=['context_str', 'query_str'], output_parser=None, partial_variables={}, template='Answer the question as truthfully as possible using the provided text, and if the answer is not contained within the text below, say \"I don\\'t know\" \\nYou are an expert to beer and be glad to recommand beer \\nPlease don\\'t mention any beer or brand if they are not in the givend context \\n---------------------\\nContext: {context_str}\\n---------------------\\nBased on the given context, finish the conversation:{query_str}', template_format='f-string', validate_template=True)"
      ]
     },
     "execution_count": 286,
     "metadata": {},
     "output_type": "execute_result"
    }
   ],
   "source": [
    "bot.text_qa_template.prompt"
   ]
  },
  {
   "cell_type": "code",
   "execution_count": 287,
   "id": "322de70c",
   "metadata": {},
   "outputs": [
    {
     "name": "stderr",
     "output_type": "stream",
     "text": [
      "INFO:root:Chinese detected from 百威黑金适合什么场景\n",
      "INFO:llama_index.token_counter.token_counter:> [query] Total LLM token usage: 1220 tokens\n",
      "INFO:llama_index.token_counter.token_counter:> [query] Total embedding token usage: 157 tokens\n"
     ]
    },
    {
     "name": "stdout",
     "output_type": "stream",
     "text": [
      "百威黑金适合更加轻松、适合真情流露与开怀畅饮的朋友聚会酒局。\n"
     ]
    }
   ],
   "source": [
    "print(bot.continue_conversation(\"百威黑金适合什么场景\", text_qa_template ='bot.text_qa_template' ))"
   ]
  },
  {
   "cell_type": "code",
   "execution_count": 231,
   "id": "2b5ce85e",
   "metadata": {},
   "outputs": [
    {
     "data": {
      "text/plain": [
       "\"prompt:Do you know Heineken \\nresponse:I don't know. \\n\\nprompt:百威黑金适合什么场景 \\nresponse:百威黑金适合更加轻松、适合真情流露与开怀畅饮的朋友聚会酒局，它的品牌精神与这种场景相契合。 \\n\\nprompt:Who drinks MAGNUM \\nresponse:主要目标受众为35至45岁中年职员群体。 \\nprompt:百威黑金适合什么场景 \\n response:\""
      ]
     },
     "execution_count": 231,
     "metadata": {},
     "output_type": "execute_result"
    }
   ],
   "source": [
    "bot._concate_qa(\"百威黑金适合什么场景\")"
   ]
  },
  {
   "cell_type": "code",
   "execution_count": 291,
   "id": "b5c132a2",
   "metadata": {},
   "outputs": [
    {
     "name": "stderr",
     "output_type": "stream",
     "text": [
      "INFO:root:English detected from Who drinks MAGNUM\n",
      "INFO:llama_index.token_counter.token_counter:> [query] Total LLM token usage: 1253 tokens\n",
      "INFO:llama_index.token_counter.token_counter:> [query] Total embedding token usage: 178 tokens\n"
     ]
    },
    {
     "name": "stdout",
     "output_type": "stream",
     "text": [
      "MAGNUM is mainly targeted at 35 to 45 year old middle-aged employees, who are responsible, bear heavy life pressures alone, have rational and pragmatic consumption concepts, pursue quality life, hope to achieve something in their career, enrich their life experience, have abundant material life, have close relationships with friends, treat each other generously, and desire to have a drink and release emotions with friends.\n"
     ]
    }
   ],
   "source": [
    "print(bot.continue_conversation(\"Who drinks MAGNUM\"))"
   ]
  },
  {
   "cell_type": "code",
   "execution_count": 243,
   "id": "e8bdc101",
   "metadata": {},
   "outputs": [
    {
     "name": "stderr",
     "output_type": "stream",
     "text": [
      "INFO:root:English detected from Do you know some fruit beer?\n",
      "INFO:llama_index.token_counter.token_counter:> [query] Total LLM token usage: 416 tokens\n",
      "INFO:llama_index.token_counter.token_counter:> [query] Total embedding token usage: 87 tokens\n"
     ]
    },
    {
     "name": "stdout",
     "output_type": "stream",
     "text": [
      "Yes, Belle-Vue produces four varieties of spontaneous fermentation beers containing 5.5% abv: Belle-Vue Gueuze, Kriek, Kriek Extra and Raspberry.\n"
     ]
    }
   ],
   "source": [
    "print(bot.continue_conversation(\"Do you know some fruit beer?\"))"
   ]
  },
  {
   "cell_type": "code",
   "execution_count": 244,
   "id": "45495200",
   "metadata": {},
   "outputs": [
    {
     "name": "stderr",
     "output_type": "stream",
     "text": [
      "INFO:llama_index.token_counter.token_counter:> [query] Total LLM token usage: 338 tokens\n",
      "INFO:llama_index.token_counter.token_counter:> [query] Total embedding token usage: 7 tokens\n"
     ]
    },
    {
     "name": "stdout",
     "output_type": "stream",
     "text": [
      "\n",
      "Yes, Belle-Vue Brewery produces four varieties of spontaneous fermentation beers containing 5.5% abv: Belle-Vue Gueuze, Kriek, Kriek Extra and Raspberry.\n"
     ]
    }
   ],
   "source": [
    "print(bot.query(\"Do you know some fruit beer?\"))"
   ]
  },
  {
   "cell_type": "code",
   "execution_count": 245,
   "id": "c535509a",
   "metadata": {},
   "outputs": [
    {
     "name": "stderr",
     "output_type": "stream",
     "text": [
      "INFO:root:English detected from prompt:HI?\n",
      "response:\n",
      "INFO:llama_index.token_counter.token_counter:> [query] Total LLM token usage: 1965 tokens\n",
      "INFO:llama_index.token_counter.token_counter:> [query] Total embedding token usage: 18 tokens\n",
      "INFO:root:Please do use English to answer the final question\n",
      "prompt:HI?\n",
      "response:\n"
     ]
    },
    {
     "name": "stdout",
     "output_type": "stream",
     "text": [
      "\n",
      "\n",
      "Hi! How can I help you? I'm familiar with the Blue Girl Beer brand, which has been around since the mid-1990s and has been developed with essence of genuineness, adventurousness and comradeship. I can tell you more about the different products they offer, including their bottle, can, draught, and Freśh varieties.\n"
     ]
    }
   ],
   "source": [
    "print(bot.conversation(\"HI?\"))"
   ]
  },
  {
   "cell_type": "code",
   "execution_count": 238,
   "id": "bd314092",
   "metadata": {},
   "outputs": [
    {
     "name": "stderr",
     "output_type": "stream",
     "text": [
      "INFO:root:English detected from prompt:I would like some sweet beer?\n",
      "response:\n",
      "INFO:llama_index.token_counter.token_counter:> [query] Total LLM token usage: 286 tokens\n",
      "INFO:llama_index.token_counter.token_counter:> [query] Total embedding token usage: 23 tokens\n",
      "INFO:root:Please do use English to answer the final question\n",
      "prompt:I would like some sweet beer?\n",
      "response:\n"
     ]
    },
    {
     "name": "stdout",
     "output_type": "stream",
     "text": [
      " Blue Girl Beer is a German beer brand that is known for its sweet taste. It is brewed with malt, hops, yeast, and adjuncts.\n"
     ]
    }
   ],
   "source": [
    "print(bot.conversation(\"I would like some sweet beer?\"))"
   ]
  },
  {
   "cell_type": "code",
   "execution_count": 246,
   "id": "4649b45e",
   "metadata": {},
   "outputs": [
    {
     "name": "stderr",
     "output_type": "stream",
     "text": [
      "INFO:root:Chinese detected from prompt:推荐5款Heineken啤酒?\n",
      "response:\n",
      "INFO:llama_index.token_counter.token_counter:> [query] Total LLM token usage: 1655 tokens\n",
      "INFO:llama_index.token_counter.token_counter:> [query] Total embedding token usage: 36 tokens\n",
      "INFO:root:Please do use Chinese to answer the final question\n",
      "prompt:推荐5款Heineken啤酒?\n",
      "response:\n"
     ]
    },
    {
     "name": "stdout",
     "output_type": "stream",
     "text": [
      "百威旗下的Heineken啤酒有经典拉格、特色拉格、小麦艾尔、IPA、水果啤酒和其它艾尔，其中经典拉格有科罗娜经典系列、时代啤酒；特色拉格有拳击猫右勾拳和拳击猫第一血。\n"
     ]
    }
   ],
   "source": [
    "print(bot.conversation(\"推荐5款Heineken啤酒?\"))"
   ]
  },
  {
   "cell_type": "code",
   "execution_count": 248,
   "id": "eba82841",
   "metadata": {},
   "outputs": [
    {
     "name": "stderr",
     "output_type": "stream",
     "text": [
      "INFO:llama_index.token_counter.token_counter:> [query] Total LLM token usage: 1525 tokens\n",
      "INFO:llama_index.token_counter.token_counter:> [query] Total embedding token usage: 4 tokens\n"
     ]
    },
    {
     "data": {
      "text/plain": [
       "Response(response=\"\\nI don't know.\", source_nodes=[SourceNode(source_text='international football fans (one representing each nation in the World Cup) living together in a house in South Africa.Anheuser-Busch advertises the Budweiser brand heavily, expending $449 million in 2012 in the United States alone. Presenting Budweiser as the most advertised drink brand in America, and accounted for a third of the company\\'s US marketing budget.On November 5, 2012, Anheuser-Busch asked Paramount Pictures to obscure or remove the Budweiser logo from the film Flight (2012), directed by Robert Zemeckis and starring Denzel Washington.In an advertisement titled \"Brewed the Hard Way\" which aired during Super Bowl XLIX, Budweiser touted itself as \"Proudly A Macro Beer\", distinguishing it from smaller production craft beers.In 2016, Beer Park by Budweiser opened on the Las Vegas Strip.On October 7, 2016, the Budweiser Clydesdales made a special appearance on the Danforth Campus at Washington University in St. Louis ahead of the presidential debate. A special batch beer named Lilly\\'s Lager was exclusively brewed for the occasion.In December 2020, Budweiser sent personalized bottles of beer to every goalkeeper who Lionel Messi had scored against.\\n\\nContainers\\nBudweiser\\nBudweiser has been distributed in many sizes and variety of containers. Until the early 1950\\'s, Budweiser was primarily distributed in three packages: kegs, 12 U.S. fl oz (355 mL) bottles and 1 US quart (0.95 L) bottles. Cans were first introduced in 1936. In 1955 August Busch Jr. made a strategic move to expand Budweiser\\'s national brand and distributor presence. Along with this expansion came advances in bottling automation, bottling materials and distribution methods. These advances brought new containers and package designs. As of 2011 Budweiser is distributed in four large container volumes: half-barrel kegs (15.5 US gal; 58.7 l), quarter-barrel kegs (7.75 US gal; 29.3 l), 1/6 barrel kegs (5.17 US gal; 19.6 l) and 5.2 US gallons (20 l) \"beer balls\". Budweiser produces a variety of cans and bottles ranging from 7–40 US fluid ounces (210–1,180 ml). On August 3, 2011, Anheuser-Busch announced its twelfth can design since 1936, one which emphasizes the bowtie.Packages are sometimes tailored to local customs and traditions. In St. Mary\\'s County, Maryland, 10 US fl oz (300 ml) fluid ounce cans are the preferred package.\\n\\nBottle\\nBudweiser\\nThe Budweiser bottle has remained relatively unchanged since its initial introduction in 1876.\\n\\nCans\\nBudweiser\\nIn an attempt to re-stimulate interest in their beer after the repeal of Prohibition, Budweiser began canning their beer in 1936. This new packaging led to an increase in sales which lasted until the start of World War II in 1939.Over the years, Budweiser cans have undergone various design changes in response to market conditions and consumer tastes. Since 1936, 12 major can design changes have occurred, not including the temporary special edition designs.Budweiser cans have traditionally displayed patriotic American symbols, such as eagles and the colors red, white, and blue. In 2011, there was a branding redesign that eliminated some of the traditional imagery. The new design was largely in response to a large decline in sales threatening Budweiser\\'s status as America\\'s best-selling beer. In order to regain the domestic market share that Budweiser had lost, the company tried to update its appearance by giving the can a more contemporary look. The company hoped that the new design will offset the effects that unemployment had on its sales. Although the more modern design was intended for young male Americans, the new design was also part of an attempt to focus on the international market. Budweiser began selling its beer in Russia in 2010, and is currently expanding its operations in China.\\n\\nThe beer\\nBudweiser\\nBudweiser is produced using barley malt, rice, water, hops and yeast. The brewing happens in seven steps: milling, mashing, straining, brew kettle, primary fermentation, beechwood lagering and finishing. It is lagered with beechwood chips in the aging vessel. While beechwood chips are used in the maturation tank, there is little to no flavor contribution from the wood, mainly because they are boiled in sodium bicarbonate (baking soda) for seven hours for the very purpose of removing any flavor from the wood.The maturation tanks that Anheuser-Busch uses are horizontal, causing flocculation of yeast to occur much more quickly. Anheuser-Busch refers to this process as a secondary fermentation, with the idea being that the chips give the yeast more surface area to rest on. This is combined with a krausening procedure that re-introduces wort into the chip tank, reactivating the fermentation process. \\nPlacing beechwood chips at the bottom of the tank keeps the yeast in suspension longer, giving it more time to reabsorb and process green beer flavors such as acetaldehyde and diacetyl that Anheuser-Busch believes are off-flavors which detract from overall drinkability.\\nBudweiser and Bud Light are sometimes advertised as vegan beers, in that their ingredients and conditioning do not use animal by-products. Some people object to the inclusion of genetically engineered rice and animal products used in the brewing process. In July 2006, Anheuser-Busch brewed a version of Budweiser with organic rice for sale in Mexico. It has yet to extend this practice to any other countries.\\n\\nBudweiser brands\\nBudweiser\\nIn addition to the regular Budweiser, Anheuser-Busch brews several different beers under the Budweiser brand, including Bud Light, Bud Ice, and Bud Light Lime.\\nIn July 2010, Anheuser-Busch launched Budweiser 66 in the United Kingdom. Budweiser Brew No.66 has 4% alcohol by volume, and is brewed and distributed in the UK by Inbev UK Limited.\\nIn 2020, Budweiser introduced Bud Light Seltzer. In August 2020, Bud Light Seltzers added grapefruit, cranberry and pineapple flavors, to its original offerings of black cherry, mango, lemon lime and strawberry.  In October 2020, Bud Light Seltzers added Apple Crisp, Peppermint Pattie, and Gingersnap, with the cans sporting \"ugly sweater\" designs.In July 2020, Budweiser introduced Bud Zero, its first alcohol-free low-calorie beer. It has zero sugar, zero alcohol, and 50', doc_id='e8a78e91-c9ff-45a4-a046-77fc3e9117da', extra_info=None, node_info={'start': 5121, 'end': 11349}, similarity=0.8270121846395523, image=None)], extra_info=None)"
      ]
     },
     "execution_count": 248,
     "metadata": {},
     "output_type": "execute_result"
    }
   ],
   "source": [
    "bot.query(\"Heineken?\")"
   ]
  },
  {
   "cell_type": "code",
   "execution_count": null,
   "id": "7bee0f9e",
   "metadata": {},
   "outputs": [],
   "source": [
    "print(bot.conversation(\"推荐5款Heineken啤酒?\"))"
   ]
  },
  {
   "cell_type": "code",
   "execution_count": 249,
   "id": "06adf860",
   "metadata": {},
   "outputs": [
    {
     "name": "stderr",
     "output_type": "stream",
     "text": [
      "INFO:root:English detected from prompt:Corona?\n",
      "response:\n",
      "INFO:llama_index.token_counter.token_counter:> [query] Total LLM token usage: 2424 tokens\n",
      "INFO:llama_index.token_counter.token_counter:> [query] Total embedding token usage: 19 tokens\n",
      "INFO:root:Please do use English to answer the final question\n",
      "prompt:Corona?\n",
      "response:\n"
     ]
    },
    {
     "name": "stdout",
     "output_type": "stream",
     "text": [
      "\n",
      "\n",
      "Corona is a brand of beer produced by Mexican brewery Cervecería Modelo and owned by Belgian company AB InBev. It is the top-selling brand of imported beer in the United States and is often served with a wedge of lime or lemon in the neck of the bottle to add tartness and flavor. The recipe for the mash bill includes corn as well as the barley malt and hops traditionally used for making beer. The brand's most popular variation is Corona Extra, a pale lager. It is one of the top-selling beers worldwide, and Corona Extra has been the top-selling imported drink in the U.S. since 1998. Corona is also the title sponsor of the NASCAR Mexico Series, formerly known as the NASCAR Corona Series. Despite the emergence of the COVID-19 pandemic, Corona beer sales have not been affected, with sales of the brand up 8.9% in the first three months of 2020 and showing year-over-year growth of 24% in the first three weeks of March 2020. The NASCAR Mexico Series (formerly NASCAR Corona Series and other names) is a NASCAR series in Mexico and is the most prestigious stock car racing series in the country. The Desafío Corona was established in 2004 by NASCAR\n"
     ]
    }
   ],
   "source": [
    "print(bot.conversation(\"Corona?\"))"
   ]
  },
  {
   "cell_type": "code",
   "execution_count": 250,
   "id": "8b40d8ef",
   "metadata": {},
   "outputs": [
    {
     "name": "stderr",
     "output_type": "stream",
     "text": [
      "INFO:root:Chinese detected from prompt:百威黑金适合什么场景?\n",
      "response:\n",
      "INFO:llama_index.token_counter.token_counter:> [query] Total LLM token usage: 1169 tokens\n",
      "INFO:llama_index.token_counter.token_counter:> [query] Total embedding token usage: 41 tokens\n",
      "INFO:root:Please do use Chinese to answer the final question\n",
      "prompt:百威黑金适合什么场景?\n",
      "response:\n"
     ]
    },
    {
     "name": "stdout",
     "output_type": "stream",
     "text": [
      "百威黑金适合更加轻松、适合真情流露与开怀畅饮的朋友聚会酒局，这与黑金的品牌精神相契合，而不是谨慎圆滑、逢场作戏的商务酒局。\n"
     ]
    }
   ],
   "source": [
    "print(bot.conversation(\"百威黑金适合什么场景?\"))"
   ]
  },
  {
   "cell_type": "code",
   "execution_count": 253,
   "id": "dea50d86",
   "metadata": {},
   "outputs": [
    {
     "name": "stderr",
     "output_type": "stream",
     "text": [
      "INFO:root:English detected from prompt:Gethering with friends, any beer recommand?\n",
      "response:\n",
      "INFO:llama_index.token_counter.token_counter:> [query] Total LLM token usage: 878 tokens\n",
      "INFO:llama_index.token_counter.token_counter:> [query] Total embedding token usage: 27 tokens\n",
      "INFO:root:Please do use English to answer the final question\n",
      "prompt:Gethering with friends, any beer recommand?\n",
      "response:\n"
     ]
    },
    {
     "name": "stdout",
     "output_type": "stream",
     "text": [
      " Blue Girl Beer is a great choice for gathering with friends. It has a 5% alcohol content, is brewed in South Korea, and has a unique beer flavor. It also has a smooth and mellow taste with a full and round foam. Customers have also praised its high quality brewing process and affordable price.\n"
     ]
    }
   ],
   "source": [
    "print(bot.conversation(\"Gethering with friends, any beer recommand?\"))"
   ]
  },
  {
   "cell_type": "code",
   "execution_count": 254,
   "id": "29e25302",
   "metadata": {},
   "outputs": [
    {
     "name": "stderr",
     "output_type": "stream",
     "text": [
      "INFO:root:English detected from prompt:Do you know Magnum?\n",
      "response:\n",
      "INFO:llama_index.token_counter.token_counter:> [query] Total LLM token usage: 1137 tokens\n",
      "INFO:llama_index.token_counter.token_counter:> [query] Total embedding token usage: 21 tokens\n",
      "INFO:root:Please do use English to answer the final question\n",
      "prompt:Do you know Magnum?\n",
      "response:\n"
     ]
    },
    {
     "name": "stdout",
     "output_type": "stream",
     "text": [
      "Yes, I know Magnum. It is a high-end beer product line launched by Budweisei in 2021 for regional expansion, with the main target audience being 35-45 year old middle-aged employees. It features a deep golden hue, rich foam, strong and smooth taste, and a rich aroma of burnt and malt. The alcohol concentration is higher than 5.5° and the original wort concentration is 13.0°P, both higher than average. The packaging is luxurious, low-key and atmospheric, with a good reputation and high expectations from both brewers and consumers.\n"
     ]
    }
   ],
   "source": [
    "print(bot.conversation(\"Do you know Magnum?\"))"
   ]
  },
  {
   "cell_type": "code",
   "execution_count": 257,
   "id": "d827bd78",
   "metadata": {},
   "outputs": [
    {
     "name": "stderr",
     "output_type": "stream",
     "text": [
      "INFO:root:English detected from test\n"
     ]
    },
    {
     "data": {
      "text/plain": [
       "'Please do use English to answer the final question\\n'"
      ]
     },
     "execution_count": 257,
     "metadata": {},
     "output_type": "execute_result"
    }
   ],
   "source": [
    "bot._add_language_prompt('test')"
   ]
  },
  {
   "cell_type": "code",
   "execution_count": null,
   "id": "8c81cc06",
   "metadata": {},
   "outputs": [],
   "source": []
  }
 ],
 "metadata": {
  "kernelspec": {
   "display_name": "Python 3 (ipykernel)",
   "language": "python",
   "name": "python3"
  },
  "language_info": {
   "codemirror_mode": {
    "name": "ipython",
    "version": 3
   },
   "file_extension": ".py",
   "mimetype": "text/x-python",
   "name": "python",
   "nbconvert_exporter": "python",
   "pygments_lexer": "ipython3",
   "version": "3.11.0"
  }
 },
 "nbformat": 4,
 "nbformat_minor": 5
}
